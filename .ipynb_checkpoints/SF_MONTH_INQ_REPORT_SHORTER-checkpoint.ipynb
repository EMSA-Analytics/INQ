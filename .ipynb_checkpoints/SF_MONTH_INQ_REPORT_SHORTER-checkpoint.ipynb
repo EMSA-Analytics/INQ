{
 "cells": [
  {
   "cell_type": "code",
   "execution_count": 1,
   "metadata": {},
   "outputs": [],
   "source": [
    "#This is the functional Version. Use this for creating the report\n",
    "import numpy as np\n",
    "import pandas as pd\n",
    "import matplotlib.pyplot as plt\n",
    "import seaborn as sns\n",
    "%matplotlib inline\n"
   ]
  },
  {
   "cell_type": "code",
   "execution_count": 2,
   "metadata": {},
   "outputs": [],
   "source": [
    "#disable warnings\n",
    "import warnings; warnings.simplefilter('ignore')"
   ]
  },
  {
   "cell_type": "markdown",
   "metadata": {},
   "source": [
    "The source files for this script are SalesForce reports Interactions.Contacts.csv and Interactions.Opportunity.Term.csv. The source files have to be stored in a NON-GIT folder so that they will never be available to git hub. Whenever the source files are updated into box the old source files should be placed in a depreciated state in a different folder. This script therefore will always pull the most recent Salesforce report results.\n"
   ]
  },
  {
   "cell_type": "code",
   "execution_count": 3,
   "metadata": {},
   "outputs": [],
   "source": [
    "#INT is the contact information for INTERACTIONS\n",
    "INT=pd.read_csv('C:/Users/mjc341/Desktop/UMAN 1507 Monthly INQ summary Report/Interactions.Contacts.2.csv',skipfooter=5,encoding='latin-1',engine ='python')\n",
    "#INT=pd.read_csv('C:/Users/sxh706/Desktop/Interactions.by.Month/2018/August/Interactions.Contacts1.csv',skipfooter=5,encoding='latin-1',engine ='python')"
   ]
  },
  {
   "cell_type": "markdown",
   "metadata": {},
   "source": [
    "Please Use a new dataframe name if you are going to break any code\n",
    "\n"
   ]
  },
  {
   "cell_type": "code",
   "execution_count": 4,
   "metadata": {},
   "outputs": [],
   "source": [
    "#CON is the CONTACT TERM information\n",
    "CON=pd.read_csv('C:/Users/mjc341/Desktop/UMAN 1507 Monthly INQ summary Report/Interactions.Opportunity.Term.2.csv',skipfooter=5,encoding='latin-1',engine ='python')\n",
    "#CON=pd.read_csv('C:/Users/sxh706/Desktop/Interactions.by.Month/2018/August/Interactions.Opportunity.Term.csv',skipfooter=5,encoding='latin-1',engine ='python')"
   ]
  },
  {
   "cell_type": "code",
   "execution_count": 5,
   "metadata": {},
   "outputs": [
    {
     "data": {
      "text/plain": [
       "1335940"
      ]
     },
     "execution_count": 5,
     "metadata": {},
     "output_type": "execute_result"
    }
   ],
   "source": [
    "len(INT)"
   ]
  },
  {
   "cell_type": "code",
   "execution_count": 6,
   "metadata": {},
   "outputs": [
    {
     "data": {
      "text/plain": [
       "322805"
      ]
     },
     "execution_count": 6,
     "metadata": {},
     "output_type": "execute_result"
    }
   ],
   "source": [
    "len(CON)"
   ]
  },
  {
   "cell_type": "code",
   "execution_count": 7,
   "metadata": {},
   "outputs": [],
   "source": [
    "#INT.info()"
   ]
  },
  {
   "cell_type": "code",
   "execution_count": 8,
   "metadata": {},
   "outputs": [
    {
     "data": {
      "text/plain": [
       "Index(['Contact: Contact ID (18-digit)', 'Interaction: Interaction Name',\n",
       "       'Admit Type', 'Contact: EMPLID', 'Contact: First Name',\n",
       "       'Contact: Middle Name', 'Contact: Last Name', 'Contact: Ethnic Group',\n",
       "       'Contact: Ethnicity', 'Contact: Gender', 'Term', 'Lead Source',\n",
       "       'Interaction: Created Date', 'Contact: Mailing Street',\n",
       "       'Contact: Mailing City', 'Contact: Mailing State/Province',\n",
       "       'Contact: Mailing Zip/Postal Code', 'Contact: Mailing Country',\n",
       "       'Contact: Other City', 'Contact: Other State/Province',\n",
       "       'Contact: Other Zip/Postal Code', 'Contact: Other Country',\n",
       "       'Contact: Market Segment Code', 'Contact: Market Segment'],\n",
       "      dtype='object')"
      ]
     },
     "execution_count": 8,
     "metadata": {},
     "output_type": "execute_result"
    }
   ],
   "source": [
    "INT.columns"
   ]
  },
  {
   "cell_type": "code",
   "execution_count": 9,
   "metadata": {},
   "outputs": [
    {
     "data": {
      "text/plain": [
       "Index(['Contact ID (18-digit)', 'Full Name', 'Opportunity Name',\n",
       "       'Term: Term Name', 'Opportunity Record Type', 'Inquiry', 'Inquiry Date',\n",
       "       'Opportunity ID (18-digit)', 'Empl ID', 'Application Number'],\n",
       "      dtype='object')"
      ]
     },
     "execution_count": 9,
     "metadata": {},
     "output_type": "execute_result"
    }
   ],
   "source": [
    "CON.columns"
   ]
  },
  {
   "cell_type": "code",
   "execution_count": 10,
   "metadata": {},
   "outputs": [],
   "source": [
    "#CON.info()"
   ]
  },
  {
   "cell_type": "code",
   "execution_count": 11,
   "metadata": {},
   "outputs": [],
   "source": [
    "#remove columns with identifing info\n",
    "CON = CON.drop(columns =['Full Name'])"
   ]
  },
  {
   "cell_type": "code",
   "execution_count": 12,
   "metadata": {},
   "outputs": [],
   "source": [
    "#remove columns with identifing info\n",
    "INT = INT.drop(columns= ['Contact: First Name', 'Contact: Middle Name',\n",
    "       'Contact: Last Name'])"
   ]
  },
  {
   "cell_type": "code",
   "execution_count": 13,
   "metadata": {},
   "outputs": [],
   "source": [
    "#changed the name of columns using a dictionary\n",
    "INT = INT.rename(columns ={'Contact: Contact ID (18-digit)':'Contact_ID','Interaction: Interaction Name':'Int_Name',\n",
    "       'Admit Type':'Admit_Type','Contact: EMPLID': 'EMPLID','Contact: Ethnic Group': 'Ethnic_Group', 'Contact: Ethnicity':'Ethnicity',\n",
    "       'Contact: Gender':'Gender', 'Term':'Term', 'Lead Source':'Lead_Source', 'Interaction: Created Date':'Create_Date',\n",
    "       'Contact: Mailing Street':'Mailing_Street', 'Contact: Mailing City':'Mailing_City',\n",
    "       'Contact: Mailing State/Province':'Mailing_State', 'Contact: Mailing Zip/Postal Code':'Mailing_Postal',\n",
    "       'Contact: Mailing Country':'Mailing_Country', 'Contact: Other City':'Other_City',\n",
    "       'Contact: Other State/Province':'Other_State', 'Contact: Other Zip/Postal Code':'Other_Postal',\n",
    "       'Contact: Other Country':'Mailing_Country', 'Contact: Market Segment Code':'Market_Segment_Code',\n",
    "       'Contact: Market Segment':'Market_Segment'},inplace =False)"
   ]
  },
  {
   "cell_type": "code",
   "execution_count": 14,
   "metadata": {},
   "outputs": [],
   "source": [
    "#changed the name of columns\n",
    "CON = CON.rename(columns={  'Contact ID (18-digit)':'Contact_ID', 'Opportunity Name':'OppName', \n",
    "       'Term: Term Name':'CONTerm', 'Opportunity Record Type':'Record_Type', 'Inquiry':'Inquiry', 'Inquiry Date':'Inquiry_Date',\n",
    "       'Opportunity ID (18-digit)':'Opp_ID', 'Empl ID':'EMPL', 'Application Number':'App_Number'})"
   ]
  },
  {
   "cell_type": "code",
   "execution_count": 15,
   "metadata": {},
   "outputs": [],
   "source": [
    "#Sort INT by Contact_ID and Interaction Names\n",
    "INT = INT.sort_values(by = ['Contact_ID','Int_Name'])"
   ]
  },
  {
   "cell_type": "code",
   "execution_count": 16,
   "metadata": {},
   "outputs": [],
   "source": [
    "#Sort CON by Contact_ID and Opportunity Name\n",
    "CON = CON.sort_values(by = ['Contact_ID','Inquiry_Date'])"
   ]
  },
  {
   "cell_type": "code",
   "execution_count": 17,
   "metadata": {},
   "outputs": [],
   "source": [
    "#Dropping the duplicates to then merge later\n",
    "CON=CON.drop_duplicates(['Contact_ID'], keep='last')"
   ]
  },
  {
   "cell_type": "code",
   "execution_count": 18,
   "metadata": {},
   "outputs": [],
   "source": [
    "#Inner Join\n",
    "INNER_INT = pd.merge(left = INT, right = CON, left_on= 'Contact_ID', right_on = 'Contact_ID')"
   ]
  },
  {
   "cell_type": "code",
   "execution_count": 19,
   "metadata": {},
   "outputs": [
    {
     "data": {
      "text/plain": [
       "475088"
      ]
     },
     "execution_count": 19,
     "metadata": {},
     "output_type": "execute_result"
    }
   ],
   "source": [
    "len(INNER_INT)"
   ]
  },
  {
   "cell_type": "markdown",
   "metadata": {},
   "source": [
    "INT has been MERGED with CON on Contact_ID this will allow us to find one TERM for each contact ID"
   ]
  },
  {
   "cell_type": "code",
   "execution_count": 20,
   "metadata": {},
   "outputs": [
    {
     "data": {
      "text/html": [
       "<div>\n",
       "<style scoped>\n",
       "    .dataframe tbody tr th:only-of-type {\n",
       "        vertical-align: middle;\n",
       "    }\n",
       "\n",
       "    .dataframe tbody tr th {\n",
       "        vertical-align: top;\n",
       "    }\n",
       "\n",
       "    .dataframe thead th {\n",
       "        text-align: right;\n",
       "    }\n",
       "</style>\n",
       "<table border=\"1\" class=\"dataframe\">\n",
       "  <thead>\n",
       "    <tr style=\"text-align: right;\">\n",
       "      <th></th>\n",
       "      <th>Contact_ID</th>\n",
       "      <th>Int_Name</th>\n",
       "      <th>Admit_Type</th>\n",
       "      <th>EMPLID</th>\n",
       "      <th>Ethnic_Group</th>\n",
       "      <th>Ethnicity</th>\n",
       "      <th>Gender</th>\n",
       "      <th>Term</th>\n",
       "      <th>Lead_Source</th>\n",
       "      <th>Create_Date</th>\n",
       "      <th>...</th>\n",
       "      <th>Market_Segment_Code</th>\n",
       "      <th>Market_Segment</th>\n",
       "      <th>OppName</th>\n",
       "      <th>CONTerm</th>\n",
       "      <th>Record_Type</th>\n",
       "      <th>Inquiry</th>\n",
       "      <th>Inquiry_Date</th>\n",
       "      <th>Opp_ID</th>\n",
       "      <th>EMPL</th>\n",
       "      <th>App_Number</th>\n",
       "    </tr>\n",
       "  </thead>\n",
       "  <tbody>\n",
       "    <tr>\n",
       "      <th>0</th>\n",
       "      <td>0031500001d4Si8AAE</td>\n",
       "      <td>20160320-0100599</td>\n",
       "      <td>New Student</td>\n",
       "      <td>NaN</td>\n",
       "      <td>NaN</td>\n",
       "      <td>NaN</td>\n",
       "      <td>Female</td>\n",
       "      <td>Fall 2015</td>\n",
       "      <td>Purchased List</td>\n",
       "      <td>1/4/2013</td>\n",
       "      <td>...</td>\n",
       "      <td>NaN</td>\n",
       "      <td>NaN</td>\n",
       "      <td>fernandez - Fall 2017</td>\n",
       "      <td>Fall 2017</td>\n",
       "      <td>UGrad Inquiry</td>\n",
       "      <td>1</td>\n",
       "      <td>3/21/2016</td>\n",
       "      <td>0061500000T62QTAAZ</td>\n",
       "      <td>NaN</td>\n",
       "      <td>NaN</td>\n",
       "    </tr>\n",
       "  </tbody>\n",
       "</table>\n",
       "<p>1 rows × 29 columns</p>\n",
       "</div>"
      ],
      "text/plain": [
       "           Contact_ID          Int_Name   Admit_Type  EMPLID Ethnic_Group  \\\n",
       "0  0031500001d4Si8AAE  20160320-0100599  New Student     NaN          NaN   \n",
       "\n",
       "  Ethnicity  Gender       Term     Lead_Source Create_Date    ...      \\\n",
       "0       NaN  Female  Fall 2015  Purchased List    1/4/2013    ...       \n",
       "\n",
       "  Market_Segment_Code Market_Segment                OppName    CONTerm  \\\n",
       "0                 NaN            NaN  fernandez - Fall 2017  Fall 2017   \n",
       "\n",
       "     Record_Type Inquiry Inquiry_Date              Opp_ID EMPL App_Number  \n",
       "0  UGrad Inquiry       1    3/21/2016  0061500000T62QTAAZ  NaN        NaN  \n",
       "\n",
       "[1 rows x 29 columns]"
      ]
     },
     "execution_count": 20,
     "metadata": {},
     "output_type": "execute_result"
    }
   ],
   "source": [
    "INNER_INT.head(1)"
   ]
  },
  {
   "cell_type": "markdown",
   "metadata": {},
   "source": [
    "INNER_INT now has a nested tuple multiple index as a result of the merge. Have to create a unique key and replace the index"
   ]
  },
  {
   "cell_type": "code",
   "execution_count": 138,
   "metadata": {},
   "outputs": [
    {
     "data": {
      "text/plain": [
       "172067"
      ]
     },
     "execution_count": 138,
     "metadata": {},
     "output_type": "execute_result"
    }
   ],
   "source": [
    "INNER_INT.Contact_ID.duplicated().sum()"
   ]
  },
  {
   "cell_type": "code",
   "execution_count": 139,
   "metadata": {},
   "outputs": [
    {
     "data": {
      "text/plain": [
       "475088"
      ]
     },
     "execution_count": 139,
     "metadata": {},
     "output_type": "execute_result"
    }
   ],
   "source": [
    "r= len(INNER_INT)\n",
    "r"
   ]
  },
  {
   "cell_type": "code",
   "execution_count": 140,
   "metadata": {},
   "outputs": [
    {
     "data": {
      "text/plain": [
       "dtype('O')"
      ]
     },
     "execution_count": 140,
     "metadata": {},
     "output_type": "execute_result"
    }
   ],
   "source": [
    "N = list(range(0,r))\n",
    "INNER_INT['NEW'] = N\n",
    "INNER_INT['NEW'] = INNER_INT['NEW'].astype(str)\n",
    "INNER_INT['NEW'].dtype"
   ]
  },
  {
   "cell_type": "code",
   "execution_count": 24,
   "metadata": {},
   "outputs": [
    {
     "data": {
      "text/plain": [
       "0"
      ]
     },
     "execution_count": 24,
     "metadata": {},
     "output_type": "execute_result"
    }
   ],
   "source": [
    "INNER_INT['NEW_INDEX'] = INNER_INT['Contact_ID']+INNER_INT['NEW']\n",
    "INNER_INT.NEW_INDEX.duplicated().sum()"
   ]
  },
  {
   "cell_type": "code",
   "execution_count": 25,
   "metadata": {},
   "outputs": [
    {
     "data": {
      "text/plain": [
       "(475088, 30)"
      ]
     },
     "execution_count": 25,
     "metadata": {},
     "output_type": "execute_result"
    }
   ],
   "source": [
    "INNER_INT.set_index(['NEW_INDEX'], inplace=True)\n",
    "INNER_INT.shape"
   ]
  },
  {
   "cell_type": "markdown",
   "metadata": {},
   "source": [
    "Create an IPEDS Ethnicity column by combining ethnic group and ethnicity and using a dictionary to assign IPEDS values"
   ]
  },
  {
   "cell_type": "code",
   "execution_count": 26,
   "metadata": {},
   "outputs": [],
   "source": [
    "INNER_INT['ETH'] = np.where(pd.isnull(INNER_INT['Ethnic_Group']), INNER_INT['Ethnicity'], INNER_INT['Ethnic_Group'])"
   ]
  },
  {
   "cell_type": "code",
   "execution_count": 27,
   "metadata": {},
   "outputs": [],
   "source": [
    "IPEDSETH_DICT = {'Caucasian':'White', 'WHITE':'White','Not specified':'Unknown','Hispanic':'Hispanic/Latino'\n",
    "                 ,'Black/African American':'Black/African American'\n",
    "                 ,'Asian/Asian American/Pacific Islander':'Asian','ASIAN':'Asian','BLACK':'Black/African American'\n",
    "                 ,'NSPEC':'Unknown','Multi-Ethnic':'Two or More Races'\n",
    "                 ,'Other':'Unknown','SOAMER':'Hispanic/Latino','PUERTOR':'Hispanic/Latino'\n",
    "                 ,'CENTAMER':'Hispanic/Latino','MEXAMER':'Hispanic/Latino'\n",
    "                 ,'CUBAN':'Hispanic/Latino', 'HISPA':'Hispanic/Latino'\n",
    "                 ,'American Indian/Alaskan Native':'American Indian/Alaska Native','NHISP':'Unknown'\n",
    "                 ,'PACIF':'Native Hawaiian/Other Pacific Islander','AMIND':'American Indian/Alaska Native'\n",
    "                 ,'SPANISH':'Hispanic/Latino'}"
   ]
  },
  {
   "cell_type": "code",
   "execution_count": 28,
   "metadata": {},
   "outputs": [],
   "source": [
    "INNER_INT['IPEDS'] = INNER_INT['ETH'].map(IPEDSETH_DICT)"
   ]
  },
  {
   "cell_type": "code",
   "execution_count": 29,
   "metadata": {},
   "outputs": [
    {
     "data": {
      "text/plain": [
       "White                                     200201\n",
       "NaN                                       113859\n",
       "Unknown                                    40952\n",
       "Black/African American                     39792\n",
       "Hispanic/Latino                            37675\n",
       "Asian                                      33513\n",
       "Two or More Races                           7932\n",
       "American Indian/Alaska Native                963\n",
       "Native Hawaiian/Other Pacific Islander       201\n",
       "Name: IPEDS, dtype: int64"
      ]
     },
     "execution_count": 29,
     "metadata": {},
     "output_type": "execute_result"
    }
   ],
   "source": [
    "INNER_INT['IPEDS'].value_counts(dropna=False)"
   ]
  },
  {
   "cell_type": "code",
   "execution_count": 30,
   "metadata": {},
   "outputs": [],
   "source": [
    "INNER_INT['IPEDS2'] = np.where(pd.isnull(INNER_INT['IPEDS']), \"Unknown\", INNER_INT['IPEDS'])"
   ]
  },
  {
   "cell_type": "code",
   "execution_count": 31,
   "metadata": {},
   "outputs": [
    {
     "data": {
      "text/plain": [
       "White                                     200201\n",
       "Unknown                                   154811\n",
       "Black/African American                     39792\n",
       "Hispanic/Latino                            37675\n",
       "Asian                                      33513\n",
       "Two or More Races                           7932\n",
       "American Indian/Alaska Native                963\n",
       "Native Hawaiian/Other Pacific Islander       201\n",
       "Name: IPEDS2, dtype: int64"
      ]
     },
     "execution_count": 31,
     "metadata": {},
     "output_type": "execute_result"
    }
   ],
   "source": [
    "INNER_INT['IPEDS2'].value_counts(dropna=False)"
   ]
  },
  {
   "cell_type": "markdown",
   "metadata": {},
   "source": [
    "Create the columns and values for States, Clean the state columns, create state dictionary and combine the State columns"
   ]
  },
  {
   "cell_type": "code",
   "execution_count": 32,
   "metadata": {},
   "outputs": [],
   "source": [
    "import re"
   ]
  },
  {
   "cell_type": "code",
   "execution_count": 33,
   "metadata": {},
   "outputs": [],
   "source": [
    "#clean the market segment column, take the 1st 2 letters of the string only\n",
    "INNER_INT['STATE'] = INNER_INT['Market_Segment'].str.extract('([A-Z]{2})',expand=True)"
   ]
  },
  {
   "cell_type": "code",
   "execution_count": 34,
   "metadata": {},
   "outputs": [
    {
     "data": {
      "text/plain": [
       "FL     155724\n",
       "NY      34896\n",
       "NJ      29364\n",
       "CA      21954\n",
       "TX      18844\n",
       "IL      18133\n",
       "PA      14307\n",
       "GA      14236\n",
       "NaN     12779\n",
       "MD      12712\n",
       "MA      12350\n",
       "NC      11035\n",
       "OH       9551\n",
       "CT       8972\n",
       "VA       8270\n",
       "TN       7450\n",
       "AC       6151\n",
       "MI       5303\n",
       "AL       4438\n",
       "LA       4292\n",
       "MO       3860\n",
       "CO       3804\n",
       "IN       3779\n",
       "SC       3777\n",
       "MN       3417\n",
       "KY       2863\n",
       "AS       2863\n",
       "EW       2824\n",
       "WI       2729\n",
       "AZ       2404\n",
       "        ...  \n",
       "PR       1465\n",
       "AR       1395\n",
       "NH       1307\n",
       "UT       1302\n",
       "MS       1262\n",
       "DE       1226\n",
       "MM       1216\n",
       "DC       1091\n",
       "AF       1054\n",
       "NV       1053\n",
       "NE       1051\n",
       "KS       1038\n",
       "OR        792\n",
       "ME        764\n",
       "IA        755\n",
       "WV        684\n",
       "NM        616\n",
       "EC        581\n",
       "CN        561\n",
       "VT        480\n",
       "ID        405\n",
       "VI        161\n",
       "SD        158\n",
       "MT        150\n",
       "WY        132\n",
       "ND        128\n",
       "AK        109\n",
       "AP        101\n",
       "TT         34\n",
       "AN          5\n",
       "Name: STATE, Length: 66, dtype: int64"
      ]
     },
     "execution_count": 34,
     "metadata": {},
     "output_type": "execute_result"
    }
   ],
   "source": [
    "#check the strings are cleaned\n",
    "INNER_INT['STATE'].value_counts(dropna=False)"
   ]
  },
  {
   "cell_type": "code",
   "execution_count": 35,
   "metadata": {},
   "outputs": [],
   "source": [
    "#if the EMPL ID is null pass the STATE value to the new COL otherwise give me the value from \"Other_State\"\n",
    "INNER_INT['STATE2'] = np.where(pd.isnull(INNER_INT['EMPLID']), INNER_INT['STATE'], INNER_INT['Other_State'])"
   ]
  },
  {
   "cell_type": "code",
   "execution_count": 36,
   "metadata": {},
   "outputs": [
    {
     "data": {
      "text/plain": [
       "['ALABAMA',\n",
       " 'Alabama',\n",
       " 'AL',\n",
       " 'ALASKA',\n",
       " 'Alaska',\n",
       " 'AK',\n",
       " 'ARIZONA',\n",
       " 'Arizona',\n",
       " 'AZ',\n",
       " 'ARKANSAS',\n",
       " 'Arkansas',\n",
       " 'AR',\n",
       " 'CALIFORNIA',\n",
       " 'California',\n",
       " 'CA',\n",
       " 'COLORADO',\n",
       " 'Colorado',\n",
       " 'CO',\n",
       " 'CONNECTICUT',\n",
       " 'Connecticut',\n",
       " 'CT',\n",
       " 'DELAWARE',\n",
       " 'Delaware',\n",
       " 'DE',\n",
       " 'FLORIDA',\n",
       " 'Florida',\n",
       " 'FL',\n",
       " 'GEORGIA',\n",
       " 'Georgia',\n",
       " 'GA',\n",
       " 'HAWAII',\n",
       " 'Hawaii',\n",
       " 'HI',\n",
       " 'IDAHO',\n",
       " 'Idaho',\n",
       " 'ID',\n",
       " 'ILLINOIS',\n",
       " 'Illinois',\n",
       " 'IL',\n",
       " 'INDIANA',\n",
       " 'Indiana',\n",
       " 'IN',\n",
       " 'IOWA',\n",
       " 'Iowa',\n",
       " 'IA',\n",
       " 'KANSAS',\n",
       " 'Kansas',\n",
       " 'KS',\n",
       " 'KENTUCKY',\n",
       " 'Kentucky',\n",
       " 'KY',\n",
       " 'LOUISIANA',\n",
       " 'Louisiana',\n",
       " 'LA',\n",
       " 'MAINE',\n",
       " 'Maine',\n",
       " 'ME',\n",
       " 'MARYLAND',\n",
       " 'Maryland',\n",
       " 'MD',\n",
       " 'MASSACHUSETTS',\n",
       " 'Massachusetts',\n",
       " 'MA',\n",
       " 'MICHIGAN',\n",
       " 'Michigan',\n",
       " 'MI',\n",
       " 'MINNESOTA',\n",
       " 'Minnesota',\n",
       " 'MN',\n",
       " 'MISSISSIPPI',\n",
       " 'Mississippi',\n",
       " 'MS',\n",
       " 'MISSOURI',\n",
       " 'Missouri',\n",
       " 'MO',\n",
       " 'MONTANA',\n",
       " 'Montana',\n",
       " 'MT',\n",
       " 'NEBRASKA',\n",
       " 'Nebraska',\n",
       " 'NE',\n",
       " 'NEVADA',\n",
       " 'Nevada',\n",
       " 'NV',\n",
       " 'NEW HAMPSHIRE',\n",
       " 'New Hampshire',\n",
       " 'NH',\n",
       " 'NEW JERSEY',\n",
       " 'New Jersey',\n",
       " 'NJ',\n",
       " 'NEW MEXICO',\n",
       " 'New Mexico',\n",
       " 'NM',\n",
       " 'NEW YORK',\n",
       " 'New York',\n",
       " 'NY',\n",
       " 'NORTH CAROLINA',\n",
       " 'North Carolina',\n",
       " 'NC',\n",
       " 'NORTH DAKOTA',\n",
       " 'North Dakota',\n",
       " 'ND',\n",
       " 'OHIO',\n",
       " 'Ohio',\n",
       " 'OH',\n",
       " 'OKLAHOMA',\n",
       " 'Oklahoma',\n",
       " 'OK',\n",
       " 'OREGON',\n",
       " 'Oregon',\n",
       " 'OR',\n",
       " 'PENNSYLVANIA',\n",
       " 'Pennsylvania',\n",
       " 'PA',\n",
       " 'RHODE ISLAND',\n",
       " 'Rhode Island',\n",
       " 'RI',\n",
       " 'SOUTH CAROLINA',\n",
       " 'South Carolina',\n",
       " 'SC',\n",
       " 'SOUTH DAKOTA',\n",
       " 'South Dakota',\n",
       " 'SD',\n",
       " 'TENNESSEE',\n",
       " 'Tennessee',\n",
       " 'TN',\n",
       " 'TEXAS',\n",
       " 'Texas',\n",
       " 'TX',\n",
       " 'UTAH',\n",
       " 'Utah',\n",
       " 'UT',\n",
       " 'VERMONT',\n",
       " 'Vermont',\n",
       " 'VT',\n",
       " 'VIRGINIA',\n",
       " 'Virginia',\n",
       " 'VA',\n",
       " 'WASHINGTON',\n",
       " 'Washington',\n",
       " 'WA',\n",
       " 'WEST VIRGINIA',\n",
       " 'West Virginia',\n",
       " 'WV',\n",
       " 'WISCONSIN',\n",
       " 'Wisconsin',\n",
       " 'WI',\n",
       " 'WYOMING',\n",
       " 'Wyoming',\n",
       " 'WY',\n",
       " 'GUAM',\n",
       " 'Guam',\n",
       " 'GU',\n",
       " 'DISTRICT OF COLUMBIA',\n",
       " 'District of Columbia',\n",
       " 'DC',\n",
       " 'FEDERATED STATES OF MICRONESIA',\n",
       " 'Federated States of Micronesia',\n",
       " 'FM',\n",
       " 'MARSHALL ISLANDS',\n",
       " 'Marshall Islands',\n",
       " 'MH',\n",
       " 'NORTHERN MARIANA ISLANDS',\n",
       " 'Northern Mariana Islands',\n",
       " 'MP',\n",
       " 'PALAU',\n",
       " 'Palau',\n",
       " 'PW',\n",
       " 'PUERTO RICO',\n",
       " 'Puerto Rico',\n",
       " 'PR',\n",
       " 'VIRGIN ISLANDS',\n",
       " 'Virgin Islands',\n",
       " 'VI']"
      ]
     },
     "execution_count": 36,
     "metadata": {},
     "output_type": "execute_result"
    }
   ],
   "source": [
    "#create a reference list to compare the possible state values\n",
    "import csv\n",
    "with open('C:/Users/mjc341/Desktop/UMAN 1507 Monthly INQ summary Report/states.csv','r') as f:\n",
    "    reader= csv.reader(f)\n",
    "    states = list(reader)\n",
    "flat_states =[item for sublist in states for item in sublist]\n",
    "flat_states"
   ]
  },
  {
   "cell_type": "code",
   "execution_count": 37,
   "metadata": {},
   "outputs": [],
   "source": [
    "INNER_INT['STATE2&MAILING'] = np.where(pd.isnull(INNER_INT['Mailing_State']), INNER_INT['STATE2'], INNER_INT['Mailing_State'])"
   ]
  },
  {
   "cell_type": "code",
   "execution_count": 38,
   "metadata": {},
   "outputs": [],
   "source": [
    "#STATE2 is the cleaned MKTSEGEMNT + OTHER_STATE where EMPLID is null\n",
    "#STATE3 DEFINES STATE2 as existing in the flat_state file or being NOT in USA\n",
    "INNER_INT['STATE3'] = np.where(INNER_INT['STATE2'].isin(flat_states),INNER_INT['STATE2'], \"Not USA\")"
   ]
  },
  {
   "cell_type": "code",
   "execution_count": 39,
   "metadata": {},
   "outputs": [],
   "source": [
    "INNER_INT['STATE4'] = np.where(INNER_INT['STATE2&MAILING'].isin(flat_states),INNER_INT['STATE2&MAILING'], \"Not USA\")"
   ]
  },
  {
   "cell_type": "code",
   "execution_count": 40,
   "metadata": {},
   "outputs": [
    {
     "data": {
      "text/plain": [
       "FL                          157736\n",
       "NY                           33516\n",
       "Not USA                      30236\n",
       "NJ                           29625\n",
       "CA                           21475\n",
       "TX                           18214\n",
       "IL                           17762\n",
       "GA                           13836\n",
       "PA                           13820\n",
       "MA                           12333\n",
       "MD                           12215\n",
       "NC                           10848\n",
       "OH                            9305\n",
       "CT                            9140\n",
       "VA                            7893\n",
       "TN                            7433\n",
       "MI                            5168\n",
       "AL                            4414\n",
       "LA                            3971\n",
       "SC                            3729\n",
       "IN                            3727\n",
       "MO                            3718\n",
       "CO                            3718\n",
       "MN                            3361\n",
       "KY                            2792\n",
       "WI                            2652\n",
       "AZ                            2375\n",
       "Florida                       2017\n",
       "WA                            1887\n",
       "OK                            1731\n",
       "                             ...  \n",
       "Kentucky                        18\n",
       "Arizona                         17\n",
       "Oklahoma                        16\n",
       "MP                              16\n",
       "Nevada                          14\n",
       "Delaware                        11\n",
       "New Mexico                      10\n",
       "Virgin Islands                  10\n",
       "Oregon                          10\n",
       "Nebraska                        10\n",
       "Kansas                           9\n",
       "West Virginia                    8\n",
       "Arkansas                         8\n",
       "Vermont                          8\n",
       "Hawaii                           7\n",
       "Iowa                             6\n",
       "Mississippi                      6\n",
       "FLORIDA                          5\n",
       "Idaho                            5\n",
       "Alaska                           4\n",
       "Utah                             3\n",
       "PW                               3\n",
       "NEW YORK                         2\n",
       "TEXAS                            1\n",
       "Wyoming                          1\n",
       "Montana                          1\n",
       "OHIO                             1\n",
       "VIRGIN ISLANDS                   1\n",
       "North Dakota                     1\n",
       "Northern Mariana Islands         1\n",
       "Name: STATE4, Length: 117, dtype: int64"
      ]
     },
     "execution_count": 40,
     "metadata": {},
     "output_type": "execute_result"
    }
   ],
   "source": [
    "INNER_INT['STATE4'].value_counts(dropna=False)"
   ]
  },
  {
   "cell_type": "code",
   "execution_count": 41,
   "metadata": {},
   "outputs": [],
   "source": [
    "state_dict= {'ALABAMA':'AL','Alabama':'AL','AL':'AL','ALASKA':'AK','Alaska':'AK','AK':'AK','ARIZONA':'AZ','Arizona':'AZ','AZ':'AZ','ARKANSAS':'AR','Arkansas':'AR','AR':'AR','CALIFORNIA':'CA'\n",
    ",'California':'CA','CA':'CA','COLORADO':'CO','Colorado': 'CO','CO':'CO','CONNECTICUT':'CT'\n",
    ",'Connecticut':'CT','CT':'CT','DELAWARE':'DE','Delaware':'DE','DE':'DE','FLORIDA':'FL','Florida':'FL'\n",
    ",'FL':'FL','GEORGIA':'GA','Georgia':'GA','GA':'GA','HAWAII':'HI','Hawaii':'HI','HI':'HI','IDAHO':'ID'\n",
    ", 'Idaho':'ID','ID':'ID','ILLINOIS':'IL','Illinois':'IL','IL':'IL','INDIANA':'IN','Indiana':'IN','IN':'IN'\n",
    ",'IOWA':'IA','Iowa':'IA','IA':'IA','KANSAS':'KS','Kansas':'KS','KS':'KS','KENTUCKY':'KY','Kentucky':'KY'\n",
    ",'KY':'KY','LOUISIANA':'LA','Louisiana':'LA','LA':'LA','MAINE':'ME','Maine':'ME','ME':'ME'\n",
    ",'MARYLAND':'MD','Maryland':'MD','MD':'MD','MASSACHUSETTS':'MA','Massachusetts':'MA','MA':'MA'\n",
    ",'MICHIGAN':'MI','Michigan':'MI','MI':'MI','MINNESOTA':'MN','Minnesota':'MN','MN':'MN','MISSISSIPPI':'MS'\n",
    ",'Mississippi':'MS','MS':'MS','MISSOURI':'MO','Missouri':'MO','MO':'MO','MONTANA':'MT','Montana':'MT'\n",
    ",'MT':'MT','NEBRASKA':'NE','Nebraska':'NE','NE':'NE','NEVADA':'NV','Nevada':'NV','NV':'NV'\n",
    ",'NEW HAMPSHIRE':'NH','New Hampshire':'NH','NH':'NH','NEW JERSEY':'NJ','New Jersey':'NJ','NJ':'NJ'\n",
    ",'NEW MEXICO':'NM','New Mexico':'NM','NM':'NM','NEW YORK':'NY','New York':'NY', 'NY':'NY'\n",
    ",'NORTH CAROLINA':'NC','North Carolina':'NC','NC':'NC','NORTH DAKOTA':'ND','North Dakota':'ND','ND':'ND'\n",
    ",'OHIO':'OH','Ohio':'OH','OH':'OH','OKLAHOMA':'OK','Oklahoma':'OK','OK':'OK','OREGON':'OR','Oregon':'OR'\n",
    ",'OR':'OR','PENNSYLVANIA':'PA','Pennsylvania':'PA','PA':'PA','RHODE ISLAND':'RI'\n",
    ",'Rhode Island':'RI','RI':'RI','SOUTH CAROLINA':'SC','South Carolina':'SC','SC':'SC','SOUTH DAKOTA':'SD'\n",
    ",'South Dakota':'SD','SD':'SD','TENNESSEE':'TN','Tennessee':'TN','TN':'TN','TEXAS':'TX','Texas':'TX'\n",
    ",'TX':'TX','UTAH':'UT','Utah':'UT','UT':'UT','VERMONT':'VT','Vermont':'VT','VT':'VT','VIRGINIA':'VA'\n",
    ",'Virginia':'VA','VA':'VA','WASHINGTON':'WA','Washington':'WA','WA':'WA','WEST VIRGINIA':'WV'\n",
    ",'West Virginia':'WV','WV':'WV','WISCONSIN':'WI','Wisconsin':'WI','WI':'WI','WYOMING':'WY','Wyoming':'WY'\n",
    ",'WY':'WY','GUAM':'GU','Guam':'GU','GU':'GU','DISTRICT OF COLUMBIA':'DC','District of Columbia':'DC'\n",
    ",'DC':'DC','FEDERATED STATES OF MICRONESIA':'FM','Federated States of Micronesia':'FM','FM':'FM'\n",
    ",'MARSHALL ISLANDS':'MH','Marshall Islands':'MH','MH':'MH','NORTHERN MARIANA ISLANDS':'MP'\n",
    ",'Northern Mariana Islands':'MP','MP':'MP', 'PALAU':'PW','Palau':'PW','PW':'PW','PUERTO RICO':'PR'\n",
    ",'Puerto Rico':'PR','PR':'PR','VIRGIN ISLANDS':'VI','Virgin Islands':'VI','VI':'VI'}"
   ]
  },
  {
   "cell_type": "code",
   "execution_count": 42,
   "metadata": {},
   "outputs": [],
   "source": [
    "INNER_INT['STATE5'] = INNER_INT['STATE4'].map(state_dict)"
   ]
  },
  {
   "cell_type": "code",
   "execution_count": 43,
   "metadata": {},
   "outputs": [
    {
     "data": {
      "text/plain": [
       "FL     159758\n",
       "NY      34128\n",
       "NaN     30236\n",
       "NJ      30195\n",
       "CA      21872\n",
       "TX      18396\n",
       "IL      18030\n",
       "PA      14052\n",
       "GA      14027\n",
       "MA      12675\n",
       "MD      12410\n",
       "NC      10988\n",
       "OH       9390\n",
       "CT       9291\n",
       "VA       8078\n",
       "TN       7461\n",
       "MI       5240\n",
       "AL       4439\n",
       "LA       4005\n",
       "MO       3777\n",
       "CO       3771\n",
       "SC       3767\n",
       "IN       3765\n",
       "MN       3407\n",
       "KY       2810\n",
       "WI       2688\n",
       "AZ       2392\n",
       "WA       1941\n",
       "OK       1747\n",
       "RI       1573\n",
       "HI       1570\n",
       "PR       1482\n",
       "AR       1383\n",
       "NH       1319\n",
       "DE       1273\n",
       "UT       1265\n",
       "MS       1257\n",
       "NV       1063\n",
       "KS       1010\n",
       "NE        922\n",
       "DC        917\n",
       "OR        819\n",
       "ME        776\n",
       "IA        700\n",
       "NM        600\n",
       "WV        584\n",
       "VT        497\n",
       "ID        405\n",
       "MT        156\n",
       "VI        148\n",
       "SD        146\n",
       "ND        132\n",
       "AK        122\n",
       "WY        121\n",
       "FM         35\n",
       "MH         33\n",
       "GU         24\n",
       "MP         17\n",
       "PW          3\n",
       "Name: STATE5, dtype: int64"
      ]
     },
     "execution_count": 43,
     "metadata": {},
     "output_type": "execute_result"
    }
   ],
   "source": [
    "INNER_INT['STATE5'].value_counts(dropna=False)"
   ]
  },
  {
   "cell_type": "code",
   "execution_count": 44,
   "metadata": {},
   "outputs": [
    {
     "data": {
      "text/plain": [
       "475088"
      ]
     },
     "execution_count": 44,
     "metadata": {},
     "output_type": "execute_result"
    }
   ],
   "source": [
    "INNER_INT['STATE5'].value_counts(dropna=False).sum()"
   ]
  },
  {
   "cell_type": "code",
   "execution_count": 45,
   "metadata": {},
   "outputs": [
    {
     "data": {
      "text/plain": [
       "Index(['Contact_ID', 'Int_Name', 'Admit_Type', 'EMPLID', 'Ethnic_Group',\n",
       "       'Ethnicity', 'Gender', 'Term', 'Lead_Source', 'Create_Date',\n",
       "       'Mailing_Street', 'Mailing_City', 'Mailing_State', 'Mailing_Postal',\n",
       "       'Mailing_Country', 'Other_City', 'Other_State', 'Other_Postal',\n",
       "       'Mailing_Country', 'Market_Segment_Code', 'Market_Segment', 'OppName',\n",
       "       'CONTerm', 'Record_Type', 'Inquiry', 'Inquiry_Date', 'Opp_ID', 'EMPL',\n",
       "       'App_Number', 'NEW', 'ETH', 'IPEDS', 'IPEDS2', 'STATE', 'STATE2',\n",
       "       'STATE2&MAILING', 'STATE3', 'STATE4', 'STATE5'],\n",
       "      dtype='object')"
      ]
     },
     "execution_count": 45,
     "metadata": {},
     "output_type": "execute_result"
    }
   ],
   "source": [
    "INNER_INT.columns"
   ]
  },
  {
   "cell_type": "markdown",
   "metadata": {},
   "source": [
    "Return to previous code string and create all of the date variables"
   ]
  },
  {
   "cell_type": "code",
   "execution_count": 46,
   "metadata": {},
   "outputs": [],
   "source": [
    "# Create a datetime variable from Create_Date this operation takes up to 3 min\n",
    "#INT['Create_Date']= pd.to_datetime(INT.Create_Date)\n",
    "INNER_INT['Create_Date']= pd.to_datetime(INNER_INT.Create_Date)"
   ]
  },
  {
   "cell_type": "code",
   "execution_count": 47,
   "metadata": {},
   "outputs": [],
   "source": [
    "#INT.info()"
   ]
  },
  {
   "cell_type": "code",
   "execution_count": 48,
   "metadata": {},
   "outputs": [
    {
     "data": {
      "text/plain": [
       "Timestamp('2001-08-06 00:00:00')"
      ]
     },
     "execution_count": 48,
     "metadata": {},
     "output_type": "execute_result"
    }
   ],
   "source": [
    "#find earliest create date\n",
    "#INT['Create_Date'].min()\n",
    "INNER_INT['Create_Date'].min()"
   ]
  },
  {
   "cell_type": "markdown",
   "metadata": {},
   "source": [
    "Here we will insert the lambda function to extract the YEAR and MONTH from the new datetime type so we can filter on YEAR and groupby MONTH also add M col that can be dictionaried to Names of MONTHS instead of numbers. Question can we format the month names at the conversion?"
   ]
  },
  {
   "cell_type": "code",
   "execution_count": 49,
   "metadata": {},
   "outputs": [],
   "source": [
    "#INT.loc[:,'YEAR'] =INT['Create_Date'].apply(lambda x: \"%d\" % (x.year))\n",
    "INNER_INT.loc[:,'YEAR'] =INNER_INT['Create_Date'].apply(lambda x: \"%d\" % (x.year))"
   ]
  },
  {
   "cell_type": "code",
   "execution_count": 50,
   "metadata": {},
   "outputs": [],
   "source": [
    "#INT.loc[:,'MONTH'] = INT['Create_Date'].apply(lambda x: \"%d\" % (x.month))\n",
    "INNER_INT.loc[:,'MONTH'] = INNER_INT['Create_Date'].apply(lambda x: \"%d\" % (x.month))"
   ]
  },
  {
   "cell_type": "code",
   "execution_count": 51,
   "metadata": {},
   "outputs": [
    {
     "data": {
      "text/html": [
       "<div>\n",
       "<style scoped>\n",
       "    .dataframe tbody tr th:only-of-type {\n",
       "        vertical-align: middle;\n",
       "    }\n",
       "\n",
       "    .dataframe tbody tr th {\n",
       "        vertical-align: top;\n",
       "    }\n",
       "\n",
       "    .dataframe thead th {\n",
       "        text-align: right;\n",
       "    }\n",
       "</style>\n",
       "<table border=\"1\" class=\"dataframe\">\n",
       "  <thead>\n",
       "    <tr style=\"text-align: right;\">\n",
       "      <th></th>\n",
       "      <th>Contact_ID</th>\n",
       "      <th>Int_Name</th>\n",
       "      <th>Admit_Type</th>\n",
       "      <th>EMPLID</th>\n",
       "      <th>Ethnic_Group</th>\n",
       "      <th>Ethnicity</th>\n",
       "      <th>Gender</th>\n",
       "      <th>Term</th>\n",
       "      <th>Lead_Source</th>\n",
       "      <th>Create_Date</th>\n",
       "      <th>...</th>\n",
       "      <th>IPEDS</th>\n",
       "      <th>IPEDS2</th>\n",
       "      <th>STATE</th>\n",
       "      <th>STATE2</th>\n",
       "      <th>STATE2&amp;MAILING</th>\n",
       "      <th>STATE3</th>\n",
       "      <th>STATE4</th>\n",
       "      <th>STATE5</th>\n",
       "      <th>YEAR</th>\n",
       "      <th>MONTH</th>\n",
       "    </tr>\n",
       "    <tr>\n",
       "      <th>NEW_INDEX</th>\n",
       "      <th></th>\n",
       "      <th></th>\n",
       "      <th></th>\n",
       "      <th></th>\n",
       "      <th></th>\n",
       "      <th></th>\n",
       "      <th></th>\n",
       "      <th></th>\n",
       "      <th></th>\n",
       "      <th></th>\n",
       "      <th></th>\n",
       "      <th></th>\n",
       "      <th></th>\n",
       "      <th></th>\n",
       "      <th></th>\n",
       "      <th></th>\n",
       "      <th></th>\n",
       "      <th></th>\n",
       "      <th></th>\n",
       "      <th></th>\n",
       "      <th></th>\n",
       "    </tr>\n",
       "  </thead>\n",
       "  <tbody>\n",
       "    <tr>\n",
       "      <th>0031500001d4Si8AAE0</th>\n",
       "      <td>0031500001d4Si8AAE</td>\n",
       "      <td>20160320-0100599</td>\n",
       "      <td>New Student</td>\n",
       "      <td>NaN</td>\n",
       "      <td>NaN</td>\n",
       "      <td>NaN</td>\n",
       "      <td>Female</td>\n",
       "      <td>Fall 2015</td>\n",
       "      <td>Purchased List</td>\n",
       "      <td>2013-01-04</td>\n",
       "      <td>...</td>\n",
       "      <td>NaN</td>\n",
       "      <td>Unknown</td>\n",
       "      <td>NaN</td>\n",
       "      <td>NaN</td>\n",
       "      <td>FL</td>\n",
       "      <td>Not USA</td>\n",
       "      <td>FL</td>\n",
       "      <td>FL</td>\n",
       "      <td>2013</td>\n",
       "      <td>1</td>\n",
       "    </tr>\n",
       "  </tbody>\n",
       "</table>\n",
       "<p>1 rows × 41 columns</p>\n",
       "</div>"
      ],
      "text/plain": [
       "                             Contact_ID          Int_Name   Admit_Type  \\\n",
       "NEW_INDEX                                                                \n",
       "0031500001d4Si8AAE0  0031500001d4Si8AAE  20160320-0100599  New Student   \n",
       "\n",
       "                     EMPLID Ethnic_Group Ethnicity  Gender       Term  \\\n",
       "NEW_INDEX                                                               \n",
       "0031500001d4Si8AAE0     NaN          NaN       NaN  Female  Fall 2015   \n",
       "\n",
       "                        Lead_Source Create_Date  ...  IPEDS   IPEDS2 STATE  \\\n",
       "NEW_INDEX                                        ...                         \n",
       "0031500001d4Si8AAE0  Purchased List  2013-01-04  ...    NaN  Unknown   NaN   \n",
       "\n",
       "                    STATE2 STATE2&MAILING   STATE3 STATE4 STATE5  YEAR MONTH  \n",
       "NEW_INDEX                                                                     \n",
       "0031500001d4Si8AAE0    NaN             FL  Not USA     FL     FL  2013     1  \n",
       "\n",
       "[1 rows x 41 columns]"
      ]
     },
     "execution_count": 51,
     "metadata": {},
     "output_type": "execute_result"
    }
   ],
   "source": [
    "INNER_INT.head(1)"
   ]
  },
  {
   "cell_type": "code",
   "execution_count": 52,
   "metadata": {},
   "outputs": [],
   "source": [
    "# filter on term for 2017,2018,2019,2020\n",
    "#TERM2017 = INT.loc[(INT.Term == 'Fall 2017')]\n",
    "#TERM2018 = INT.loc[(INT.Term == 'Fall 2018')]\n",
    "#TERM2019 = INT.loc[(INT.Term == 'Fall 2019')]\n",
    "#TERM2020 = INT.loc[(INT.Term == 'Fall 2020')]\n",
    "TERM2017 = INNER_INT.loc[(INNER_INT.CONTerm == 'Fall 2017')]\n",
    "TERM2018 = INNER_INT.loc[(INNER_INT.CONTerm == 'Fall 2018')]\n",
    "TERM2019 = INNER_INT.loc[(INNER_INT.CONTerm == 'Fall 2019')]\n",
    "TERM2020 = INNER_INT.loc[(INNER_INT.CONTerm == 'Fall 2020')]"
   ]
  },
  {
   "cell_type": "code",
   "execution_count": 53,
   "metadata": {},
   "outputs": [
    {
     "data": {
      "text/plain": [
       "189369"
      ]
     },
     "execution_count": 53,
     "metadata": {},
     "output_type": "execute_result"
    }
   ],
   "source": [
    "len(TERM2017)"
   ]
  },
  {
   "cell_type": "code",
   "execution_count": 54,
   "metadata": {},
   "outputs": [
    {
     "data": {
      "text/plain": [
       "145379"
      ]
     },
     "execution_count": 54,
     "metadata": {},
     "output_type": "execute_result"
    }
   ],
   "source": [
    "len(TERM2018)"
   ]
  },
  {
   "cell_type": "code",
   "execution_count": 55,
   "metadata": {},
   "outputs": [
    {
     "data": {
      "text/plain": [
       "108205"
      ]
     },
     "execution_count": 55,
     "metadata": {},
     "output_type": "execute_result"
    }
   ],
   "source": [
    "len(TERM2019)"
   ]
  },
  {
   "cell_type": "code",
   "execution_count": 56,
   "metadata": {},
   "outputs": [
    {
     "data": {
      "text/plain": [
       "32135"
      ]
     },
     "execution_count": 56,
     "metadata": {},
     "output_type": "execute_result"
    }
   ],
   "source": [
    "len(TERM2020)"
   ]
  },
  {
   "cell_type": "code",
   "execution_count": 57,
   "metadata": {},
   "outputs": [],
   "source": [
    "#filter on YEAR for  2016,2017,2018,2019\n",
    "#INQ2017 df is inquiries made in 2016 for 2017 TERM\n",
    "INQ2017 = TERM2017[TERM2017['YEAR'] == '2016']\n",
    "INQ2018 = TERM2018[TERM2018['YEAR'] == '2017']\n",
    "INQ2019 = TERM2019[TERM2019['YEAR'] == '2018']\n",
    "INQ2020 = TERM2020[TERM2020['YEAR'] == '2018']\n",
    "INQ2017year2 = TERM2017[TERM2017['YEAR'] == '2017']\n",
    "INQ2018year2 = TERM2018[TERM2018['YEAR'] == '2017']\n",
    "INQ2019year2 = TERM2019[TERM2019['YEAR'] == '2018']"
   ]
  },
  {
   "cell_type": "code",
   "execution_count": 58,
   "metadata": {},
   "outputs": [
    {
     "data": {
      "text/plain": [
       "102129"
      ]
     },
     "execution_count": 58,
     "metadata": {},
     "output_type": "execute_result"
    }
   ],
   "source": [
    "len(INQ2017)"
   ]
  },
  {
   "cell_type": "code",
   "execution_count": 59,
   "metadata": {},
   "outputs": [
    {
     "data": {
      "text/plain": [
       "86647"
      ]
     },
     "execution_count": 59,
     "metadata": {},
     "output_type": "execute_result"
    }
   ],
   "source": [
    "len(INQ2018)"
   ]
  },
  {
   "cell_type": "code",
   "execution_count": 60,
   "metadata": {},
   "outputs": [
    {
     "data": {
      "text/plain": [
       "79353"
      ]
     },
     "execution_count": 60,
     "metadata": {},
     "output_type": "execute_result"
    }
   ],
   "source": [
    "len(INQ2019)"
   ]
  },
  {
   "cell_type": "code",
   "execution_count": 61,
   "metadata": {},
   "outputs": [
    {
     "data": {
      "text/plain": [
       "25589"
      ]
     },
     "execution_count": 61,
     "metadata": {},
     "output_type": "execute_result"
    }
   ],
   "source": [
    "len(INQ2020)"
   ]
  },
  {
   "cell_type": "code",
   "execution_count": 62,
   "metadata": {},
   "outputs": [
    {
     "data": {
      "text/html": [
       "<div>\n",
       "<style scoped>\n",
       "    .dataframe tbody tr th:only-of-type {\n",
       "        vertical-align: middle;\n",
       "    }\n",
       "\n",
       "    .dataframe tbody tr th {\n",
       "        vertical-align: top;\n",
       "    }\n",
       "\n",
       "    .dataframe thead th {\n",
       "        text-align: right;\n",
       "    }\n",
       "</style>\n",
       "<table border=\"1\" class=\"dataframe\">\n",
       "  <thead>\n",
       "    <tr style=\"text-align: right;\">\n",
       "      <th></th>\n",
       "      <th>Contact_ID</th>\n",
       "      <th>Int_Name</th>\n",
       "      <th>Admit_Type</th>\n",
       "      <th>EMPLID</th>\n",
       "      <th>Ethnic_Group</th>\n",
       "      <th>Ethnicity</th>\n",
       "      <th>Gender</th>\n",
       "      <th>Term</th>\n",
       "      <th>Lead_Source</th>\n",
       "      <th>Create_Date</th>\n",
       "      <th>...</th>\n",
       "      <th>IPEDS</th>\n",
       "      <th>IPEDS2</th>\n",
       "      <th>STATE</th>\n",
       "      <th>STATE2</th>\n",
       "      <th>STATE2&amp;MAILING</th>\n",
       "      <th>STATE3</th>\n",
       "      <th>STATE4</th>\n",
       "      <th>STATE5</th>\n",
       "      <th>YEAR</th>\n",
       "      <th>MONTH</th>\n",
       "    </tr>\n",
       "    <tr>\n",
       "      <th>NEW_INDEX</th>\n",
       "      <th></th>\n",
       "      <th></th>\n",
       "      <th></th>\n",
       "      <th></th>\n",
       "      <th></th>\n",
       "      <th></th>\n",
       "      <th></th>\n",
       "      <th></th>\n",
       "      <th></th>\n",
       "      <th></th>\n",
       "      <th></th>\n",
       "      <th></th>\n",
       "      <th></th>\n",
       "      <th></th>\n",
       "      <th></th>\n",
       "      <th></th>\n",
       "      <th></th>\n",
       "      <th></th>\n",
       "      <th></th>\n",
       "      <th></th>\n",
       "      <th></th>\n",
       "    </tr>\n",
       "  </thead>\n",
       "  <tbody>\n",
       "    <tr>\n",
       "      <th>0031500001d4SiCAAU8</th>\n",
       "      <td>0031500001d4SiCAAU</td>\n",
       "      <td>20160320-0910984</td>\n",
       "      <td>New Student</td>\n",
       "      <td>50442768.0</td>\n",
       "      <td>NaN</td>\n",
       "      <td>Black/African American</td>\n",
       "      <td>Female</td>\n",
       "      <td>Fall 2017</td>\n",
       "      <td>Web Form</td>\n",
       "      <td>2016-01-12</td>\n",
       "      <td>...</td>\n",
       "      <td>Black/African American</td>\n",
       "      <td>Black/African American</td>\n",
       "      <td>EW</td>\n",
       "      <td>Florida</td>\n",
       "      <td>FL</td>\n",
       "      <td>Florida</td>\n",
       "      <td>FL</td>\n",
       "      <td>FL</td>\n",
       "      <td>2016</td>\n",
       "      <td>1</td>\n",
       "    </tr>\n",
       "  </tbody>\n",
       "</table>\n",
       "<p>1 rows × 41 columns</p>\n",
       "</div>"
      ],
      "text/plain": [
       "                             Contact_ID          Int_Name   Admit_Type  \\\n",
       "NEW_INDEX                                                                \n",
       "0031500001d4SiCAAU8  0031500001d4SiCAAU  20160320-0910984  New Student   \n",
       "\n",
       "                         EMPLID Ethnic_Group               Ethnicity  Gender  \\\n",
       "NEW_INDEX                                                                      \n",
       "0031500001d4SiCAAU8  50442768.0          NaN  Black/African American  Female   \n",
       "\n",
       "                          Term Lead_Source Create_Date  ...   \\\n",
       "NEW_INDEX                                               ...    \n",
       "0031500001d4SiCAAU8  Fall 2017    Web Form  2016-01-12  ...    \n",
       "\n",
       "                                      IPEDS                  IPEDS2 STATE  \\\n",
       "NEW_INDEX                                                                   \n",
       "0031500001d4SiCAAU8  Black/African American  Black/African American    EW   \n",
       "\n",
       "                      STATE2 STATE2&MAILING   STATE3 STATE4 STATE5  YEAR MONTH  \n",
       "NEW_INDEX                                                                       \n",
       "0031500001d4SiCAAU8  Florida             FL  Florida     FL     FL  2016     1  \n",
       "\n",
       "[1 rows x 41 columns]"
      ]
     },
     "execution_count": 62,
     "metadata": {},
     "output_type": "execute_result"
    }
   ],
   "source": [
    "#show head of INQ2017 same for 2017,2018,2019\n",
    "INQ2017.head(1)"
   ]
  },
  {
   "cell_type": "code",
   "execution_count": 63,
   "metadata": {},
   "outputs": [
    {
     "data": {
      "text/plain": [
       "Index(['Contact_ID', 'Int_Name', 'Admit_Type', 'EMPLID', 'Ethnic_Group',\n",
       "       'Ethnicity', 'Gender', 'Term', 'Lead_Source', 'Create_Date',\n",
       "       'Mailing_Street', 'Mailing_City', 'Mailing_State', 'Mailing_Postal',\n",
       "       'Mailing_Country', 'Other_City', 'Other_State', 'Other_Postal',\n",
       "       'Mailing_Country', 'Market_Segment_Code', 'Market_Segment', 'OppName',\n",
       "       'CONTerm', 'Record_Type', 'Inquiry', 'Inquiry_Date', 'Opp_ID', 'EMPL',\n",
       "       'App_Number', 'NEW', 'ETH', 'IPEDS', 'IPEDS2', 'STATE', 'STATE2',\n",
       "       'STATE2&MAILING', 'STATE3', 'STATE4', 'STATE5', 'YEAR', 'MONTH'],\n",
       "      dtype='object')"
      ]
     },
     "execution_count": 63,
     "metadata": {},
     "output_type": "execute_result"
    }
   ],
   "source": [
    "INQ2017.columns"
   ]
  },
  {
   "cell_type": "code",
   "execution_count": 64,
   "metadata": {},
   "outputs": [
    {
     "data": {
      "text/plain": [
       "pandas.core.frame.DataFrame"
      ]
     },
     "execution_count": 64,
     "metadata": {},
     "output_type": "execute_result"
    }
   ],
   "source": [
    "#confirm that filtered data is a datafram\n",
    "type(INQ2017)"
   ]
  },
  {
   "cell_type": "code",
   "execution_count": 65,
   "metadata": {},
   "outputs": [],
   "source": [
    "#pd.show_versions()"
   ]
  },
  {
   "cell_type": "code",
   "execution_count": 66,
   "metadata": {},
   "outputs": [
    {
     "data": {
      "text/plain": [
       "1      3968\n",
       "2      5121\n",
       "3      1772\n",
       "4      1482\n",
       "5      2646\n",
       "6     12583\n",
       "7     13035\n",
       "8      2484\n",
       "9      7802\n",
       "10    18427\n",
       "11    17765\n",
       "12    15044\n",
       "Name: Create_Date, dtype: int64"
      ]
     },
     "execution_count": 66,
     "metadata": {},
     "output_type": "execute_result"
    }
   ],
   "source": [
    "#get count by month of each term\n",
    "INQ2017.Create_Date.dt.month.value_counts().sort_index()"
   ]
  },
  {
   "cell_type": "code",
   "execution_count": 67,
   "metadata": {},
   "outputs": [
    {
     "data": {
      "text/plain": [
       "1      1875\n",
       "2      3970\n",
       "3      3628\n",
       "4      3577\n",
       "5     10628\n",
       "6      7075\n",
       "7      3833\n",
       "8      5013\n",
       "9      6023\n",
       "10    20579\n",
       "11    15508\n",
       "12     4938\n",
       "Name: Create_Date, dtype: int64"
      ]
     },
     "execution_count": 67,
     "metadata": {},
     "output_type": "execute_result"
    }
   ],
   "source": [
    "INQ2018.Create_Date.dt.month.value_counts().sort_index()"
   ]
  },
  {
   "cell_type": "code",
   "execution_count": 68,
   "metadata": {},
   "outputs": [
    {
     "data": {
      "text/plain": [
       "1      2406\n",
       "2      2761\n",
       "3     10246\n",
       "4     11952\n",
       "5      7030\n",
       "6     11009\n",
       "7      6822\n",
       "8      2596\n",
       "9     16169\n",
       "10     8362\n",
       "Name: Create_Date, dtype: int64"
      ]
     },
     "execution_count": 68,
     "metadata": {},
     "output_type": "execute_result"
    }
   ],
   "source": [
    "INQ2019.Create_Date.dt.month.value_counts().sort_index()"
   ]
  },
  {
   "cell_type": "code",
   "execution_count": 69,
   "metadata": {},
   "outputs": [
    {
     "data": {
      "text/plain": [
       "1       573\n",
       "2       651\n",
       "3     12060\n",
       "4      2048\n",
       "5      1353\n",
       "6       687\n",
       "7      3361\n",
       "8       553\n",
       "9      2608\n",
       "10     1695\n",
       "Name: Create_Date, dtype: int64"
      ]
     },
     "execution_count": 69,
     "metadata": {},
     "output_type": "execute_result"
    }
   ],
   "source": [
    "#this creates a list for 2018 dates but will eventually have to be changed to 2019 dates\n",
    "INQ2020.Create_Date.dt.month.value_counts().sort_index()"
   ]
  },
  {
   "cell_type": "code",
   "execution_count": 70,
   "metadata": {},
   "outputs": [],
   "source": [
    "#create a timestamp to get values from the FAll 2018 term that are prior to Jan 1 2017\n",
    "#also created a timestamp for february and august values of the subsequent year of each opp term\n",
    "#a current timestamp was also created as well as the Y-o-Y time stamps (12-15).\n",
    "tsprior = pd.Timestamp('1/1/2016')\n",
    "tsprior2 = pd.Timestamp('1/1/2017')\n",
    "tsprior3 = pd.Timestamp('1/1/2018')\n",
    "tsprior4 = pd.Timestamp('1/1/2019')\n",
    "tsprior5 = pd.Timestamp('2/1/2017')\n",
    "tsprior6 = pd.Timestamp('2/1/2018')\n",
    "tsprior7 = pd.Timestamp('2/1/2019')\n",
    "tsprior8 = pd.Timestamp('8/1/2017')\n",
    "tsprior9 = pd.Timestamp('8/1/2018')\n",
    "tsprior10 = pd.Timestamp('9/1/2019')\n",
    "tsprior11 = pd.Timestamp('9/1/2018')\n",
    "tsprior12 = pd.Timestamp('9/1/2017')\n",
    "tsprior13 = pd.Timestamp('9/1/2016')"
   ]
  },
  {
   "cell_type": "code",
   "execution_count": 71,
   "metadata": {},
   "outputs": [
    {
     "data": {
      "text/plain": [
       "Timestamp('2016-01-01 00:00:00')"
      ]
     },
     "execution_count": 71,
     "metadata": {},
     "output_type": "execute_result"
    }
   ],
   "source": [
    "tsprior"
   ]
  },
  {
   "cell_type": "code",
   "execution_count": 72,
   "metadata": {},
   "outputs": [],
   "source": [
    "B4JAN16 = TERM2017.loc[TERM2017.Create_Date < tsprior,:]\n",
    "B4JAN17 = TERM2018.loc[TERM2018.Create_Date < tsprior2,:]\n",
    "B4JAN18 = TERM2019.loc[TERM2019.Create_Date < tsprior3,:]\n",
    "B4JAN19 = TERM2020.loc[TERM2020.Create_Date < tsprior3,:]\n",
    "B4FEB17 = TERM2017.loc[TERM2017.Create_Date < tsprior5,:]\n",
    "B4FEB18 = TERM2018.loc[TERM2018.Create_Date < tsprior6,:]\n",
    "B4FEB19 = TERM2019.loc[TERM2019.Create_Date < tsprior7,:]\n",
    "B4FEB20 = TERM2020.loc[TERM2020.Create_Date < tsprior7,:]\n",
    "B4AUG17 = TERM2017.loc[TERM2017.Create_Date < tsprior8,:]\n",
    "B4AUG18 = TERM2018.loc[TERM2018.Create_Date < tsprior9,:]\n",
    "TOTAL2017 = TERM2017.loc[TERM2017.Create_Date < tsprior10,:]\n",
    "TOTAL2018 = TERM2018.loc[TERM2018.Create_Date < tsprior10,:]\n",
    "TOTAL2019 = TERM2019.loc[TERM2019.Create_Date < tsprior10,:]\n",
    "TOTAL2020 = TERM2020.loc[TERM2020.Create_Date < tsprior10,:]\n",
    "YoY2017 = TERM2017.loc[TERM2017.Create_Date < tsprior13,:]\n",
    "YoY2018 = TERM2018.loc[TERM2018.Create_Date < tsprior12,:]\n",
    "YoY2019 = TERM2019.loc[TERM2019.Create_Date < tsprior11,:]"
   ]
  },
  {
   "cell_type": "code",
   "execution_count": 73,
   "metadata": {},
   "outputs": [
    {
     "data": {
      "text/plain": [
       "63460"
      ]
     },
     "execution_count": 73,
     "metadata": {},
     "output_type": "execute_result"
    }
   ],
   "source": [
    "len(B4JAN16)"
   ]
  },
  {
   "cell_type": "code",
   "execution_count": 74,
   "metadata": {},
   "outputs": [
    {
     "data": {
      "text/plain": [
       "37499"
      ]
     },
     "execution_count": 74,
     "metadata": {},
     "output_type": "execute_result"
    }
   ],
   "source": [
    "len(B4JAN17)"
   ]
  },
  {
   "cell_type": "code",
   "execution_count": 75,
   "metadata": {},
   "outputs": [
    {
     "data": {
      "text/plain": [
       "28852"
      ]
     },
     "execution_count": 75,
     "metadata": {},
     "output_type": "execute_result"
    }
   ],
   "source": [
    "len(B4JAN18)"
   ]
  },
  {
   "cell_type": "code",
   "execution_count": 76,
   "metadata": {},
   "outputs": [
    {
     "data": {
      "text/plain": [
       "6546"
      ]
     },
     "execution_count": 76,
     "metadata": {},
     "output_type": "execute_result"
    }
   ],
   "source": [
    "len(B4JAN19)"
   ]
  },
  {
   "cell_type": "code",
   "execution_count": 77,
   "metadata": {},
   "outputs": [
    {
     "data": {
      "text/plain": [
       "63460"
      ]
     },
     "execution_count": 77,
     "metadata": {},
     "output_type": "execute_result"
    }
   ],
   "source": [
    "#test the counts\n",
    "B4JAN16['Contact_ID'].value_counts().sum()\n",
    "#B4JAN17['Contact_ID'].value_counts().sum()\n",
    "#B4JAN18['Contact_ID'].value_counts().sum()\n",
    "#B4JAN19['Contact_ID'].value_counts().sum()\n",
    "#B4FEB17['Contact_ID'].value_counts().sum()\n",
    "#B4FEB18['Contact_ID'].value_counts().sum()\n",
    "#B4FEB19['Contact_ID'].value_counts().sum()\n",
    "#B4FEB20['Contact_ID'].value_counts().sum()\n",
    "#B4AUG17['Contact_ID'].value_counts().sum()\n",
    "#B4AUG18['Contact_ID'].value_counts().sum()\n",
    "#TOTAL2017['Contact_ID'].value_counts().sum()\n",
    "#TOTAL2018['Contact_ID'].value_counts().sum()\n",
    "#TOTAL2019['Contact_ID'].value_counts().sum()\n",
    "#TOTAL2020['Contact_ID'].value_counts().sum()"
   ]
  },
  {
   "cell_type": "code",
   "execution_count": 78,
   "metadata": {},
   "outputs": [],
   "source": [
    "#B4JAN19['Contact_ID'].value_counts().sum()"
   ]
  },
  {
   "cell_type": "code",
   "execution_count": 79,
   "metadata": {},
   "outputs": [],
   "source": [
    "R17 = INQ2017.Create_Date.dt.month.value_counts().sort_index()\n",
    "R18 = INQ2018.Create_Date.dt.month.value_counts().sort_index()\n",
    "R19 = INQ2019.Create_Date.dt.month.value_counts().sort_index()\n",
    "R20 = INQ2020.Create_Date.dt.month.value_counts().sort_index()"
   ]
  },
  {
   "cell_type": "code",
   "execution_count": 80,
   "metadata": {},
   "outputs": [],
   "source": [
    "R17df = pd.DataFrame([R17]).T\n",
    "R18df = pd.DataFrame([R18]).T\n",
    "R19df = pd.DataFrame([R19]).T\n",
    "R20df = pd.DataFrame([R20]).T"
   ]
  },
  {
   "cell_type": "code",
   "execution_count": 81,
   "metadata": {},
   "outputs": [],
   "source": [
    "#R16df.head()"
   ]
  },
  {
   "cell_type": "code",
   "execution_count": 82,
   "metadata": {},
   "outputs": [],
   "source": [
    "a =R17df.rename({'Create_Date': 'Count-2016'}, axis = 'columns')\n",
    "#R16df.rename({'Create_Date': 'Count-2016'}, axis = 'columns')"
   ]
  },
  {
   "cell_type": "code",
   "execution_count": 83,
   "metadata": {},
   "outputs": [],
   "source": [
    "b = R18df.rename({'Create_Date': 'Count-2017'}, axis = 'columns')\n",
    "#R17df.rename({'Create_Date': 'Count-2017'}, axis = 'columns')"
   ]
  },
  {
   "cell_type": "code",
   "execution_count": 84,
   "metadata": {},
   "outputs": [],
   "source": [
    "#R18df.rename({'Create_Date': 'Count-2018'}, axis = 'columns')\n",
    "c = R19df.rename({'Create_Date': 'Count-2018'}, axis = 'columns')"
   ]
  },
  {
   "cell_type": "code",
   "execution_count": 85,
   "metadata": {},
   "outputs": [],
   "source": [
    "d = R20df.rename({'Create_Date': 'Count-2018'}, axis = 'columns')"
   ]
  },
  {
   "cell_type": "code",
   "execution_count": 86,
   "metadata": {},
   "outputs": [],
   "source": [
    "j = pd.concat([a, b], axis=1, join_axes=[a.index])\n",
    "    "
   ]
  },
  {
   "cell_type": "code",
   "execution_count": 87,
   "metadata": {},
   "outputs": [],
   "source": [
    "#j.head(1)"
   ]
  },
  {
   "cell_type": "code",
   "execution_count": 88,
   "metadata": {},
   "outputs": [],
   "source": [
    "k = pd.concat([j, c], axis=1, join_axes=[a.index])"
   ]
  },
  {
   "cell_type": "code",
   "execution_count": 89,
   "metadata": {},
   "outputs": [],
   "source": [
    "k2 = pd.concat([k, d], axis=1, join_axes=[a.index])"
   ]
  },
  {
   "cell_type": "code",
   "execution_count": 90,
   "metadata": {},
   "outputs": [
    {
     "data": {
      "text/html": [
       "<div>\n",
       "<style scoped>\n",
       "    .dataframe tbody tr th:only-of-type {\n",
       "        vertical-align: middle;\n",
       "    }\n",
       "\n",
       "    .dataframe tbody tr th {\n",
       "        vertical-align: top;\n",
       "    }\n",
       "\n",
       "    .dataframe thead th {\n",
       "        text-align: right;\n",
       "    }\n",
       "</style>\n",
       "<table border=\"1\" class=\"dataframe\">\n",
       "  <thead>\n",
       "    <tr style=\"text-align: right;\">\n",
       "      <th></th>\n",
       "      <th>Count-2016</th>\n",
       "      <th>Count-2017</th>\n",
       "      <th>Count-2018</th>\n",
       "      <th>Count-2018</th>\n",
       "    </tr>\n",
       "  </thead>\n",
       "  <tbody>\n",
       "    <tr>\n",
       "      <th>1</th>\n",
       "      <td>3968</td>\n",
       "      <td>1875</td>\n",
       "      <td>2406.0</td>\n",
       "      <td>573.0</td>\n",
       "    </tr>\n",
       "    <tr>\n",
       "      <th>2</th>\n",
       "      <td>5121</td>\n",
       "      <td>3970</td>\n",
       "      <td>2761.0</td>\n",
       "      <td>651.0</td>\n",
       "    </tr>\n",
       "    <tr>\n",
       "      <th>3</th>\n",
       "      <td>1772</td>\n",
       "      <td>3628</td>\n",
       "      <td>10246.0</td>\n",
       "      <td>12060.0</td>\n",
       "    </tr>\n",
       "    <tr>\n",
       "      <th>4</th>\n",
       "      <td>1482</td>\n",
       "      <td>3577</td>\n",
       "      <td>11952.0</td>\n",
       "      <td>2048.0</td>\n",
       "    </tr>\n",
       "    <tr>\n",
       "      <th>5</th>\n",
       "      <td>2646</td>\n",
       "      <td>10628</td>\n",
       "      <td>7030.0</td>\n",
       "      <td>1353.0</td>\n",
       "    </tr>\n",
       "  </tbody>\n",
       "</table>\n",
       "</div>"
      ],
      "text/plain": [
       "   Count-2016  Count-2017  Count-2018  Count-2018\n",
       "1        3968        1875      2406.0       573.0\n",
       "2        5121        3970      2761.0       651.0\n",
       "3        1772        3628     10246.0     12060.0\n",
       "4        1482        3577     11952.0      2048.0\n",
       "5        2646       10628      7030.0      1353.0"
      ]
     },
     "execution_count": 90,
     "metadata": {},
     "output_type": "execute_result"
    }
   ],
   "source": [
    "k2.head()"
   ]
  },
  {
   "cell_type": "code",
   "execution_count": 91,
   "metadata": {},
   "outputs": [],
   "source": [
    "#k.head()"
   ]
  },
  {
   "cell_type": "code",
   "execution_count": 92,
   "metadata": {},
   "outputs": [
    {
     "data": {
      "text/plain": [
       "pandas.core.frame.DataFrame"
      ]
     },
     "execution_count": 92,
     "metadata": {},
     "output_type": "execute_result"
    }
   ],
   "source": [
    "type(k2)"
   ]
  },
  {
   "cell_type": "code",
   "execution_count": 93,
   "metadata": {},
   "outputs": [
    {
     "data": {
      "text/plain": [
       "Count-2016      int64\n",
       "Count-2017      int64\n",
       "Count-2018    float64\n",
       "Count-2018    float64\n",
       "dtype: object"
      ]
     },
     "execution_count": 93,
     "metadata": {},
     "output_type": "execute_result"
    }
   ],
   "source": [
    "k2.dtypes"
   ]
  },
  {
   "cell_type": "code",
   "execution_count": 94,
   "metadata": {},
   "outputs": [],
   "source": [
    "k =  k2.replace(np.nan,0)"
   ]
  },
  {
   "cell_type": "code",
   "execution_count": 95,
   "metadata": {},
   "outputs": [
    {
     "data": {
      "text/html": [
       "<div>\n",
       "<style scoped>\n",
       "    .dataframe tbody tr th:only-of-type {\n",
       "        vertical-align: middle;\n",
       "    }\n",
       "\n",
       "    .dataframe tbody tr th {\n",
       "        vertical-align: top;\n",
       "    }\n",
       "\n",
       "    .dataframe thead th {\n",
       "        text-align: right;\n",
       "    }\n",
       "</style>\n",
       "<table border=\"1\" class=\"dataframe\">\n",
       "  <thead>\n",
       "    <tr style=\"text-align: right;\">\n",
       "      <th></th>\n",
       "      <th>Count-2016</th>\n",
       "      <th>Count-2017</th>\n",
       "      <th>Count-2018</th>\n",
       "      <th>Count-2018</th>\n",
       "    </tr>\n",
       "  </thead>\n",
       "  <tbody>\n",
       "    <tr>\n",
       "      <th>1</th>\n",
       "      <td>3968</td>\n",
       "      <td>1875</td>\n",
       "      <td>2406</td>\n",
       "      <td>573</td>\n",
       "    </tr>\n",
       "    <tr>\n",
       "      <th>2</th>\n",
       "      <td>5121</td>\n",
       "      <td>3970</td>\n",
       "      <td>2761</td>\n",
       "      <td>651</td>\n",
       "    </tr>\n",
       "    <tr>\n",
       "      <th>3</th>\n",
       "      <td>1772</td>\n",
       "      <td>3628</td>\n",
       "      <td>10246</td>\n",
       "      <td>12060</td>\n",
       "    </tr>\n",
       "    <tr>\n",
       "      <th>4</th>\n",
       "      <td>1482</td>\n",
       "      <td>3577</td>\n",
       "      <td>11952</td>\n",
       "      <td>2048</td>\n",
       "    </tr>\n",
       "    <tr>\n",
       "      <th>5</th>\n",
       "      <td>2646</td>\n",
       "      <td>10628</td>\n",
       "      <td>7030</td>\n",
       "      <td>1353</td>\n",
       "    </tr>\n",
       "    <tr>\n",
       "      <th>6</th>\n",
       "      <td>12583</td>\n",
       "      <td>7075</td>\n",
       "      <td>11009</td>\n",
       "      <td>687</td>\n",
       "    </tr>\n",
       "    <tr>\n",
       "      <th>7</th>\n",
       "      <td>13035</td>\n",
       "      <td>3833</td>\n",
       "      <td>6822</td>\n",
       "      <td>3361</td>\n",
       "    </tr>\n",
       "    <tr>\n",
       "      <th>8</th>\n",
       "      <td>2484</td>\n",
       "      <td>5013</td>\n",
       "      <td>2596</td>\n",
       "      <td>553</td>\n",
       "    </tr>\n",
       "    <tr>\n",
       "      <th>9</th>\n",
       "      <td>7802</td>\n",
       "      <td>6023</td>\n",
       "      <td>16169</td>\n",
       "      <td>2608</td>\n",
       "    </tr>\n",
       "    <tr>\n",
       "      <th>10</th>\n",
       "      <td>18427</td>\n",
       "      <td>20579</td>\n",
       "      <td>8362</td>\n",
       "      <td>1695</td>\n",
       "    </tr>\n",
       "    <tr>\n",
       "      <th>11</th>\n",
       "      <td>17765</td>\n",
       "      <td>15508</td>\n",
       "      <td>0</td>\n",
       "      <td>0</td>\n",
       "    </tr>\n",
       "    <tr>\n",
       "      <th>12</th>\n",
       "      <td>15044</td>\n",
       "      <td>4938</td>\n",
       "      <td>0</td>\n",
       "      <td>0</td>\n",
       "    </tr>\n",
       "  </tbody>\n",
       "</table>\n",
       "</div>"
      ],
      "text/plain": [
       "    Count-2016  Count-2017  Count-2018  Count-2018\n",
       "1         3968        1875        2406         573\n",
       "2         5121        3970        2761         651\n",
       "3         1772        3628       10246       12060\n",
       "4         1482        3577       11952        2048\n",
       "5         2646       10628        7030        1353\n",
       "6        12583        7075       11009         687\n",
       "7        13035        3833        6822        3361\n",
       "8         2484        5013        2596         553\n",
       "9         7802        6023       16169        2608\n",
       "10       18427       20579        8362        1695\n",
       "11       17765       15508           0           0\n",
       "12       15044        4938           0           0"
      ]
     },
     "execution_count": 95,
     "metadata": {},
     "output_type": "execute_result"
    }
   ],
   "source": [
    "k['Count-2018'] = k['Count-2018'].astype(int)\n",
    "k"
   ]
  },
  {
   "cell_type": "code",
   "execution_count": 96,
   "metadata": {},
   "outputs": [],
   "source": [
    "#k.dtypes"
   ]
  },
  {
   "cell_type": "code",
   "execution_count": 97,
   "metadata": {},
   "outputs": [
    {
     "data": {
      "text/plain": [
       "Int64Index([1, 2, 3, 4, 5, 6, 7, 8, 9, 10, 11, 12], dtype='int64')"
      ]
     },
     "execution_count": 97,
     "metadata": {},
     "output_type": "execute_result"
    }
   ],
   "source": [
    "k.index"
   ]
  },
  {
   "cell_type": "code",
   "execution_count": 98,
   "metadata": {},
   "outputs": [],
   "source": [
    "# create  a dictionary to map the month values\n",
    "dict = {1:'JAN',2:'FEB',3:'MAR',4:'APR',5:'MAY',6:'JUN',7:'JUL',8:'AUG',9:'SEP',10:'OCT',11:'NOV',12:'DEC'}"
   ]
  },
  {
   "cell_type": "code",
   "execution_count": 99,
   "metadata": {},
   "outputs": [],
   "source": [
    "#map the dictionary to the new col on index\n",
    "k ['MONTH'] = k.index.map(dict)"
   ]
  },
  {
   "cell_type": "code",
   "execution_count": 100,
   "metadata": {},
   "outputs": [
    {
     "data": {
      "text/html": [
       "<div>\n",
       "<style scoped>\n",
       "    .dataframe tbody tr th:only-of-type {\n",
       "        vertical-align: middle;\n",
       "    }\n",
       "\n",
       "    .dataframe tbody tr th {\n",
       "        vertical-align: top;\n",
       "    }\n",
       "\n",
       "    .dataframe thead th {\n",
       "        text-align: right;\n",
       "    }\n",
       "</style>\n",
       "<table border=\"1\" class=\"dataframe\">\n",
       "  <thead>\n",
       "    <tr style=\"text-align: right;\">\n",
       "      <th></th>\n",
       "      <th>Count-2016</th>\n",
       "      <th>Count-2017</th>\n",
       "      <th>Count-2018</th>\n",
       "      <th>Count-2018</th>\n",
       "      <th>MONTH</th>\n",
       "    </tr>\n",
       "  </thead>\n",
       "  <tbody>\n",
       "    <tr>\n",
       "      <th>1</th>\n",
       "      <td>3968</td>\n",
       "      <td>1875</td>\n",
       "      <td>2406</td>\n",
       "      <td>573</td>\n",
       "      <td>JAN</td>\n",
       "    </tr>\n",
       "    <tr>\n",
       "      <th>2</th>\n",
       "      <td>5121</td>\n",
       "      <td>3970</td>\n",
       "      <td>2761</td>\n",
       "      <td>651</td>\n",
       "      <td>FEB</td>\n",
       "    </tr>\n",
       "    <tr>\n",
       "      <th>3</th>\n",
       "      <td>1772</td>\n",
       "      <td>3628</td>\n",
       "      <td>10246</td>\n",
       "      <td>12060</td>\n",
       "      <td>MAR</td>\n",
       "    </tr>\n",
       "    <tr>\n",
       "      <th>4</th>\n",
       "      <td>1482</td>\n",
       "      <td>3577</td>\n",
       "      <td>11952</td>\n",
       "      <td>2048</td>\n",
       "      <td>APR</td>\n",
       "    </tr>\n",
       "    <tr>\n",
       "      <th>5</th>\n",
       "      <td>2646</td>\n",
       "      <td>10628</td>\n",
       "      <td>7030</td>\n",
       "      <td>1353</td>\n",
       "      <td>MAY</td>\n",
       "    </tr>\n",
       "    <tr>\n",
       "      <th>6</th>\n",
       "      <td>12583</td>\n",
       "      <td>7075</td>\n",
       "      <td>11009</td>\n",
       "      <td>687</td>\n",
       "      <td>JUN</td>\n",
       "    </tr>\n",
       "    <tr>\n",
       "      <th>7</th>\n",
       "      <td>13035</td>\n",
       "      <td>3833</td>\n",
       "      <td>6822</td>\n",
       "      <td>3361</td>\n",
       "      <td>JUL</td>\n",
       "    </tr>\n",
       "    <tr>\n",
       "      <th>8</th>\n",
       "      <td>2484</td>\n",
       "      <td>5013</td>\n",
       "      <td>2596</td>\n",
       "      <td>553</td>\n",
       "      <td>AUG</td>\n",
       "    </tr>\n",
       "    <tr>\n",
       "      <th>9</th>\n",
       "      <td>7802</td>\n",
       "      <td>6023</td>\n",
       "      <td>16169</td>\n",
       "      <td>2608</td>\n",
       "      <td>SEP</td>\n",
       "    </tr>\n",
       "    <tr>\n",
       "      <th>10</th>\n",
       "      <td>18427</td>\n",
       "      <td>20579</td>\n",
       "      <td>8362</td>\n",
       "      <td>1695</td>\n",
       "      <td>OCT</td>\n",
       "    </tr>\n",
       "    <tr>\n",
       "      <th>11</th>\n",
       "      <td>17765</td>\n",
       "      <td>15508</td>\n",
       "      <td>0</td>\n",
       "      <td>0</td>\n",
       "      <td>NOV</td>\n",
       "    </tr>\n",
       "    <tr>\n",
       "      <th>12</th>\n",
       "      <td>15044</td>\n",
       "      <td>4938</td>\n",
       "      <td>0</td>\n",
       "      <td>0</td>\n",
       "      <td>DEC</td>\n",
       "    </tr>\n",
       "  </tbody>\n",
       "</table>\n",
       "</div>"
      ],
      "text/plain": [
       "    Count-2016  Count-2017  Count-2018  Count-2018 MONTH\n",
       "1         3968        1875        2406         573   JAN\n",
       "2         5121        3970        2761         651   FEB\n",
       "3         1772        3628       10246       12060   MAR\n",
       "4         1482        3577       11952        2048   APR\n",
       "5         2646       10628        7030        1353   MAY\n",
       "6        12583        7075       11009         687   JUN\n",
       "7        13035        3833        6822        3361   JUL\n",
       "8         2484        5013        2596         553   AUG\n",
       "9         7802        6023       16169        2608   SEP\n",
       "10       18427       20579        8362        1695   OCT\n",
       "11       17765       15508           0           0   NOV\n",
       "12       15044        4938           0           0   DEC"
      ]
     },
     "execution_count": 100,
     "metadata": {},
     "output_type": "execute_result"
    }
   ],
   "source": [
    "k"
   ]
  },
  {
   "cell_type": "code",
   "execution_count": 101,
   "metadata": {},
   "outputs": [],
   "source": [
    "#change the name of the df and rearrange the cols\n",
    "INQbyMONTH = k[['MONTH','Count-2016','Count-2017','Count-2018']]"
   ]
  },
  {
   "cell_type": "code",
   "execution_count": 102,
   "metadata": {},
   "outputs": [
    {
     "data": {
      "text/html": [
       "<div>\n",
       "<style scoped>\n",
       "    .dataframe tbody tr th:only-of-type {\n",
       "        vertical-align: middle;\n",
       "    }\n",
       "\n",
       "    .dataframe tbody tr th {\n",
       "        vertical-align: top;\n",
       "    }\n",
       "\n",
       "    .dataframe thead th {\n",
       "        text-align: right;\n",
       "    }\n",
       "</style>\n",
       "<table border=\"1\" class=\"dataframe\">\n",
       "  <thead>\n",
       "    <tr style=\"text-align: right;\">\n",
       "      <th></th>\n",
       "      <th>MONTH</th>\n",
       "      <th>Count-2016</th>\n",
       "      <th>Count-2017</th>\n",
       "      <th>Count-2018</th>\n",
       "      <th>Count-2018</th>\n",
       "    </tr>\n",
       "  </thead>\n",
       "  <tbody>\n",
       "    <tr>\n",
       "      <th>1</th>\n",
       "      <td>JAN</td>\n",
       "      <td>3968</td>\n",
       "      <td>1875</td>\n",
       "      <td>2406</td>\n",
       "      <td>573</td>\n",
       "    </tr>\n",
       "    <tr>\n",
       "      <th>2</th>\n",
       "      <td>FEB</td>\n",
       "      <td>5121</td>\n",
       "      <td>3970</td>\n",
       "      <td>2761</td>\n",
       "      <td>651</td>\n",
       "    </tr>\n",
       "    <tr>\n",
       "      <th>3</th>\n",
       "      <td>MAR</td>\n",
       "      <td>1772</td>\n",
       "      <td>3628</td>\n",
       "      <td>10246</td>\n",
       "      <td>12060</td>\n",
       "    </tr>\n",
       "    <tr>\n",
       "      <th>4</th>\n",
       "      <td>APR</td>\n",
       "      <td>1482</td>\n",
       "      <td>3577</td>\n",
       "      <td>11952</td>\n",
       "      <td>2048</td>\n",
       "    </tr>\n",
       "    <tr>\n",
       "      <th>5</th>\n",
       "      <td>MAY</td>\n",
       "      <td>2646</td>\n",
       "      <td>10628</td>\n",
       "      <td>7030</td>\n",
       "      <td>1353</td>\n",
       "    </tr>\n",
       "    <tr>\n",
       "      <th>6</th>\n",
       "      <td>JUN</td>\n",
       "      <td>12583</td>\n",
       "      <td>7075</td>\n",
       "      <td>11009</td>\n",
       "      <td>687</td>\n",
       "    </tr>\n",
       "    <tr>\n",
       "      <th>7</th>\n",
       "      <td>JUL</td>\n",
       "      <td>13035</td>\n",
       "      <td>3833</td>\n",
       "      <td>6822</td>\n",
       "      <td>3361</td>\n",
       "    </tr>\n",
       "    <tr>\n",
       "      <th>8</th>\n",
       "      <td>AUG</td>\n",
       "      <td>2484</td>\n",
       "      <td>5013</td>\n",
       "      <td>2596</td>\n",
       "      <td>553</td>\n",
       "    </tr>\n",
       "    <tr>\n",
       "      <th>9</th>\n",
       "      <td>SEP</td>\n",
       "      <td>7802</td>\n",
       "      <td>6023</td>\n",
       "      <td>16169</td>\n",
       "      <td>2608</td>\n",
       "    </tr>\n",
       "    <tr>\n",
       "      <th>10</th>\n",
       "      <td>OCT</td>\n",
       "      <td>18427</td>\n",
       "      <td>20579</td>\n",
       "      <td>8362</td>\n",
       "      <td>1695</td>\n",
       "    </tr>\n",
       "    <tr>\n",
       "      <th>11</th>\n",
       "      <td>NOV</td>\n",
       "      <td>17765</td>\n",
       "      <td>15508</td>\n",
       "      <td>0</td>\n",
       "      <td>0</td>\n",
       "    </tr>\n",
       "    <tr>\n",
       "      <th>12</th>\n",
       "      <td>DEC</td>\n",
       "      <td>15044</td>\n",
       "      <td>4938</td>\n",
       "      <td>0</td>\n",
       "      <td>0</td>\n",
       "    </tr>\n",
       "  </tbody>\n",
       "</table>\n",
       "</div>"
      ],
      "text/plain": [
       "   MONTH  Count-2016  Count-2017  Count-2018  Count-2018\n",
       "1    JAN        3968        1875        2406         573\n",
       "2    FEB        5121        3970        2761         651\n",
       "3    MAR        1772        3628       10246       12060\n",
       "4    APR        1482        3577       11952        2048\n",
       "5    MAY        2646       10628        7030        1353\n",
       "6    JUN       12583        7075       11009         687\n",
       "7    JUL       13035        3833        6822        3361\n",
       "8    AUG        2484        5013        2596         553\n",
       "9    SEP        7802        6023       16169        2608\n",
       "10   OCT       18427       20579        8362        1695\n",
       "11   NOV       17765       15508           0           0\n",
       "12   DEC       15044        4938           0           0"
      ]
     },
     "execution_count": 102,
     "metadata": {},
     "output_type": "execute_result"
    }
   ],
   "source": [
    "#this is the result\n",
    "INQbyMONTH"
   ]
  },
  {
   "cell_type": "code",
   "execution_count": 103,
   "metadata": {},
   "outputs": [
    {
     "data": {
      "text/plain": [
       "pandas.core.frame.DataFrame"
      ]
     },
     "execution_count": 103,
     "metadata": {},
     "output_type": "execute_result"
    }
   ],
   "source": [
    "#it is a df\n",
    "type(INQbyMONTH)"
   ]
  },
  {
   "cell_type": "code",
   "execution_count": 104,
   "metadata": {},
   "outputs": [],
   "source": [
    "#before January values\n",
    "a = B4JAN16['Contact_ID'].value_counts().sum()\n",
    "b = B4JAN17['Contact_ID'].value_counts().sum()\n",
    "c = B4JAN18['Contact_ID'].value_counts().sum()\n",
    "d = B4JAN19['Contact_ID'].value_counts().sum()"
   ]
  },
  {
   "cell_type": "code",
   "execution_count": 105,
   "metadata": {},
   "outputs": [],
   "source": [
    "PRIOR = pd.DataFrame({'Prior to Jan 2016': a , 'Prior to Jan 2017': b , 'Prior to Jan 2018': c, 'Prior to Jan 2018.2': d},index = [0])"
   ]
  },
  {
   "cell_type": "code",
   "execution_count": 106,
   "metadata": {},
   "outputs": [
    {
     "data": {
      "text/html": [
       "<div>\n",
       "<style scoped>\n",
       "    .dataframe tbody tr th:only-of-type {\n",
       "        vertical-align: middle;\n",
       "    }\n",
       "\n",
       "    .dataframe tbody tr th {\n",
       "        vertical-align: top;\n",
       "    }\n",
       "\n",
       "    .dataframe thead th {\n",
       "        text-align: right;\n",
       "    }\n",
       "</style>\n",
       "<table border=\"1\" class=\"dataframe\">\n",
       "  <thead>\n",
       "    <tr style=\"text-align: right;\">\n",
       "      <th></th>\n",
       "      <th>Prior to Jan 2016</th>\n",
       "      <th>Prior to Jan 2017</th>\n",
       "      <th>Prior to Jan 2018</th>\n",
       "      <th>Prior to Jan 2018.2</th>\n",
       "    </tr>\n",
       "  </thead>\n",
       "  <tbody>\n",
       "    <tr>\n",
       "      <th>0</th>\n",
       "      <td>63460</td>\n",
       "      <td>37499</td>\n",
       "      <td>28852</td>\n",
       "      <td>6546</td>\n",
       "    </tr>\n",
       "  </tbody>\n",
       "</table>\n",
       "</div>"
      ],
      "text/plain": [
       "   Prior to Jan 2016  Prior to Jan 2017  Prior to Jan 2018  \\\n",
       "0              63460              37499              28852   \n",
       "\n",
       "   Prior to Jan 2018.2  \n",
       "0                 6546  "
      ]
     },
     "execution_count": 106,
     "metadata": {},
     "output_type": "execute_result"
    }
   ],
   "source": [
    "PRIOR"
   ]
  },
  {
   "cell_type": "code",
   "execution_count": 107,
   "metadata": {},
   "outputs": [],
   "source": [
    "#before February values\n",
    "e = B4FEB17['Contact_ID'].value_counts().sum()\n",
    "f = B4FEB18['Contact_ID'].value_counts().sum()"
   ]
  },
  {
   "cell_type": "code",
   "execution_count": 108,
   "metadata": {},
   "outputs": [],
   "source": [
    "PRIOR2 = pd.DataFrame({'Prior to Feb 2017': e , 'Prior to Feb 2018': f },index = [0])"
   ]
  },
  {
   "cell_type": "code",
   "execution_count": 109,
   "metadata": {},
   "outputs": [
    {
     "data": {
      "text/html": [
       "<div>\n",
       "<style scoped>\n",
       "    .dataframe tbody tr th:only-of-type {\n",
       "        vertical-align: middle;\n",
       "    }\n",
       "\n",
       "    .dataframe tbody tr th {\n",
       "        vertical-align: top;\n",
       "    }\n",
       "\n",
       "    .dataframe thead th {\n",
       "        text-align: right;\n",
       "    }\n",
       "</style>\n",
       "<table border=\"1\" class=\"dataframe\">\n",
       "  <thead>\n",
       "    <tr style=\"text-align: right;\">\n",
       "      <th></th>\n",
       "      <th>Prior to Feb 2017</th>\n",
       "      <th>Prior to Feb 2018</th>\n",
       "    </tr>\n",
       "  </thead>\n",
       "  <tbody>\n",
       "    <tr>\n",
       "      <th>0</th>\n",
       "      <td>174373</td>\n",
       "      <td>133036</td>\n",
       "    </tr>\n",
       "  </tbody>\n",
       "</table>\n",
       "</div>"
      ],
      "text/plain": [
       "   Prior to Feb 2017  Prior to Feb 2018\n",
       "0             174373             133036"
      ]
     },
     "execution_count": 109,
     "metadata": {},
     "output_type": "execute_result"
    }
   ],
   "source": [
    "PRIOR2"
   ]
  },
  {
   "cell_type": "code",
   "execution_count": 110,
   "metadata": {},
   "outputs": [],
   "source": [
    "#before August values\n",
    "g = B4AUG17['Contact_ID'].value_counts().sum()\n",
    "h = B4AUG18['Contact_ID'].value_counts().sum()"
   ]
  },
  {
   "cell_type": "code",
   "execution_count": 111,
   "metadata": {},
   "outputs": [],
   "source": [
    "PRIOR3 = pd.DataFrame({'Prior to Aug 2017': g , 'Prior to Aug 2018': h },index = [0])"
   ]
  },
  {
   "cell_type": "code",
   "execution_count": 112,
   "metadata": {},
   "outputs": [
    {
     "data": {
      "text/html": [
       "<div>\n",
       "<style scoped>\n",
       "    .dataframe tbody tr th:only-of-type {\n",
       "        vertical-align: middle;\n",
       "    }\n",
       "\n",
       "    .dataframe tbody tr th {\n",
       "        vertical-align: top;\n",
       "    }\n",
       "\n",
       "    .dataframe thead th {\n",
       "        text-align: right;\n",
       "    }\n",
       "</style>\n",
       "<table border=\"1\" class=\"dataframe\">\n",
       "  <thead>\n",
       "    <tr style=\"text-align: right;\">\n",
       "      <th></th>\n",
       "      <th>Prior to Aug 2017</th>\n",
       "      <th>Prior to Aug 2018</th>\n",
       "    </tr>\n",
       "  </thead>\n",
       "  <tbody>\n",
       "    <tr>\n",
       "      <th>0</th>\n",
       "      <td>187528</td>\n",
       "      <td>145017</td>\n",
       "    </tr>\n",
       "  </tbody>\n",
       "</table>\n",
       "</div>"
      ],
      "text/plain": [
       "   Prior to Aug 2017  Prior to Aug 2018\n",
       "0             187528             145017"
      ]
     },
     "execution_count": 112,
     "metadata": {},
     "output_type": "execute_result"
    }
   ],
   "source": [
    "PRIOR3"
   ]
  },
  {
   "cell_type": "code",
   "execution_count": 113,
   "metadata": {},
   "outputs": [],
   "source": [
    "#current values\n",
    "i = TOTAL2017['Contact_ID'].value_counts().sum()\n",
    "j = TOTAL2018['Contact_ID'].value_counts().sum()\n",
    "k = TOTAL2019['Contact_ID'].value_counts().sum()\n",
    "l = TOTAL2020['Contact_ID'].value_counts().sum()"
   ]
  },
  {
   "cell_type": "code",
   "execution_count": 114,
   "metadata": {},
   "outputs": [],
   "source": [
    "TOTAL4 = pd.DataFrame({'Total 2017': i , 'Total 2018': j, 'Total 2019': k, 'Total 2020': l},index = [0])"
   ]
  },
  {
   "cell_type": "code",
   "execution_count": 115,
   "metadata": {},
   "outputs": [
    {
     "data": {
      "text/html": [
       "<div>\n",
       "<style scoped>\n",
       "    .dataframe tbody tr th:only-of-type {\n",
       "        vertical-align: middle;\n",
       "    }\n",
       "\n",
       "    .dataframe tbody tr th {\n",
       "        vertical-align: top;\n",
       "    }\n",
       "\n",
       "    .dataframe thead th {\n",
       "        text-align: right;\n",
       "    }\n",
       "</style>\n",
       "<table border=\"1\" class=\"dataframe\">\n",
       "  <thead>\n",
       "    <tr style=\"text-align: right;\">\n",
       "      <th></th>\n",
       "      <th>Total 2017</th>\n",
       "      <th>Total 2018</th>\n",
       "      <th>Total 2019</th>\n",
       "      <th>Total 2020</th>\n",
       "    </tr>\n",
       "  </thead>\n",
       "  <tbody>\n",
       "    <tr>\n",
       "      <th>0</th>\n",
       "      <td>189369</td>\n",
       "      <td>145379</td>\n",
       "      <td>108205</td>\n",
       "      <td>32135</td>\n",
       "    </tr>\n",
       "  </tbody>\n",
       "</table>\n",
       "</div>"
      ],
      "text/plain": [
       "   Total 2017  Total 2018  Total 2019  Total 2020\n",
       "0      189369      145379      108205       32135"
      ]
     },
     "execution_count": 115,
     "metadata": {},
     "output_type": "execute_result"
    }
   ],
   "source": [
    "TOTAL4"
   ]
  },
  {
   "cell_type": "code",
   "execution_count": 116,
   "metadata": {},
   "outputs": [],
   "source": [
    "#create a df for the y-o-y comparison of 2017, 2018, and 2019. #redundant???\n",
    "#tspriorFEB17 = pd.Timestamp('2/1/2017')\n",
    "#tspriorFEB18 = pd.Timestamp ('2/1/2018')\n",
    "#tspriorFEB19 = pd.Timestamp('2/1/2019')\n",
    "#tspriorAUG17 = pd.Timestamp('8/1/2017')\n",
    "#tspriorAUG18 = pd.Timestamp ('8/1/2018')\n",
    "#tspriorAUG19 = pd.Timestamp('8/1/2019')\n",
    "#tsJUN312017 = pd.Timestamp('6/30/2017')\n",
    "#tsJUN312018 = pd.Timestamp('6/30/2018')\n",
    "#tsJUN312019 = pd.Timestamp('6/30/2019')"
   ]
  },
  {
   "cell_type": "code",
   "execution_count": 117,
   "metadata": {},
   "outputs": [
    {
     "data": {
      "text/html": [
       "<div>\n",
       "<style scoped>\n",
       "    .dataframe tbody tr th:only-of-type {\n",
       "        vertical-align: middle;\n",
       "    }\n",
       "\n",
       "    .dataframe tbody tr th {\n",
       "        vertical-align: top;\n",
       "    }\n",
       "\n",
       "    .dataframe thead th {\n",
       "        text-align: right;\n",
       "    }\n",
       "</style>\n",
       "<table border=\"1\" class=\"dataframe\">\n",
       "  <thead>\n",
       "    <tr style=\"text-align: right;\">\n",
       "      <th></th>\n",
       "      <th>2017</th>\n",
       "    </tr>\n",
       "    <tr>\n",
       "      <th>Lead_Source</th>\n",
       "      <th></th>\n",
       "    </tr>\n",
       "  </thead>\n",
       "  <tbody>\n",
       "    <tr>\n",
       "      <th>Admission Conversion</th>\n",
       "      <td>31</td>\n",
       "    </tr>\n",
       "    <tr>\n",
       "      <th>College Fair</th>\n",
       "      <td>10624</td>\n",
       "    </tr>\n",
       "    <tr>\n",
       "      <th>College Visit</th>\n",
       "      <td>13</td>\n",
       "    </tr>\n",
       "    <tr>\n",
       "      <th>Education Fair</th>\n",
       "      <td>10</td>\n",
       "    </tr>\n",
       "    <tr>\n",
       "      <th>Email</th>\n",
       "      <td>212</td>\n",
       "    </tr>\n",
       "    <tr>\n",
       "      <th>Event Registration</th>\n",
       "      <td>9744</td>\n",
       "    </tr>\n",
       "    <tr>\n",
       "      <th>Financial Aid</th>\n",
       "      <td>130</td>\n",
       "    </tr>\n",
       "    <tr>\n",
       "      <th>Group Tour</th>\n",
       "      <td>4</td>\n",
       "    </tr>\n",
       "    <tr>\n",
       "      <th>High School Visit</th>\n",
       "      <td>4265</td>\n",
       "    </tr>\n",
       "    <tr>\n",
       "      <th>Initiated Application</th>\n",
       "      <td>807</td>\n",
       "    </tr>\n",
       "    <tr>\n",
       "      <th>International Travel</th>\n",
       "      <td>258</td>\n",
       "    </tr>\n",
       "    <tr>\n",
       "      <th>Lead Card</th>\n",
       "      <td>354</td>\n",
       "    </tr>\n",
       "    <tr>\n",
       "      <th>Legacy Admission Alumni Form</th>\n",
       "      <td>5</td>\n",
       "    </tr>\n",
       "    <tr>\n",
       "      <th>Legacy Admission Student Form</th>\n",
       "      <td>4</td>\n",
       "    </tr>\n",
       "    <tr>\n",
       "      <th>Letter of Recommendation</th>\n",
       "      <td>1</td>\n",
       "    </tr>\n",
       "    <tr>\n",
       "      <th>Office Visit</th>\n",
       "      <td>161</td>\n",
       "    </tr>\n",
       "    <tr>\n",
       "      <th>Other</th>\n",
       "      <td>3289</td>\n",
       "    </tr>\n",
       "    <tr>\n",
       "      <th>Phone</th>\n",
       "      <td>32</td>\n",
       "    </tr>\n",
       "    <tr>\n",
       "      <th>Purchased List</th>\n",
       "      <td>49952</td>\n",
       "    </tr>\n",
       "    <tr>\n",
       "      <th>Resume</th>\n",
       "      <td>1</td>\n",
       "    </tr>\n",
       "    <tr>\n",
       "      <th>Royal Short Mailing List Form</th>\n",
       "      <td>47</td>\n",
       "    </tr>\n",
       "    <tr>\n",
       "      <th>Submitted Test Score</th>\n",
       "      <td>17184</td>\n",
       "    </tr>\n",
       "    <tr>\n",
       "      <th>Submitted Transcript</th>\n",
       "      <td>3</td>\n",
       "    </tr>\n",
       "    <tr>\n",
       "      <th>UGrad Campus Visit Check-in Form</th>\n",
       "      <td>574</td>\n",
       "    </tr>\n",
       "    <tr>\n",
       "      <th>Web Form</th>\n",
       "      <td>8828</td>\n",
       "    </tr>\n",
       "  </tbody>\n",
       "</table>\n",
       "</div>"
      ],
      "text/plain": [
       "                                   2017\n",
       "Lead_Source                            \n",
       "Admission Conversion                 31\n",
       "College Fair                      10624\n",
       "College Visit                        13\n",
       "Education Fair                       10\n",
       "Email                               212\n",
       "Event Registration                 9744\n",
       "Financial Aid                       130\n",
       "Group Tour                            4\n",
       "High School Visit                  4265\n",
       "Initiated Application               807\n",
       "International Travel                258\n",
       "Lead Card                           354\n",
       "Legacy Admission Alumni Form          5\n",
       "Legacy Admission Student Form         4\n",
       "Letter of Recommendation              1\n",
       "Office Visit                        161\n",
       "Other                              3289\n",
       "Phone                                32\n",
       "Purchased List                    49952\n",
       "Resume                                1\n",
       "Royal Short Mailing List Form        47\n",
       "Submitted Test Score              17184\n",
       "Submitted Transcript                  3\n",
       "UGrad Campus Visit Check-in Form    574\n",
       "Web Form                           8828"
      ]
     },
     "execution_count": 117,
     "metadata": {},
     "output_type": "execute_result"
    }
   ],
   "source": [
    "#LeadSource Counts for AdmitTerm 2017 that occured in 2016\n",
    "LEAD17 = YoY2017.pivot_table(index=['Lead_Source'],values =['Contact_ID'],aggfunc =len)\n",
    "LEAD17.rename(index= str, columns={'Contact_ID':'2017'},inplace =True)\n",
    "LEAD17"
   ]
  },
  {
   "cell_type": "code",
   "execution_count": 118,
   "metadata": {},
   "outputs": [
    {
     "data": {
      "text/html": [
       "<div>\n",
       "<style scoped>\n",
       "    .dataframe tbody tr th:only-of-type {\n",
       "        vertical-align: middle;\n",
       "    }\n",
       "\n",
       "    .dataframe tbody tr th {\n",
       "        vertical-align: top;\n",
       "    }\n",
       "\n",
       "    .dataframe thead th {\n",
       "        text-align: right;\n",
       "    }\n",
       "</style>\n",
       "<table border=\"1\" class=\"dataframe\">\n",
       "  <thead>\n",
       "    <tr style=\"text-align: right;\">\n",
       "      <th></th>\n",
       "      <th>2018</th>\n",
       "    </tr>\n",
       "    <tr>\n",
       "      <th>Lead_Source</th>\n",
       "      <th></th>\n",
       "    </tr>\n",
       "  </thead>\n",
       "  <tbody>\n",
       "    <tr>\n",
       "      <th>Admission Conversion</th>\n",
       "      <td>21</td>\n",
       "    </tr>\n",
       "    <tr>\n",
       "      <th>College Fair</th>\n",
       "      <td>10379</td>\n",
       "    </tr>\n",
       "    <tr>\n",
       "      <th>College Visit</th>\n",
       "      <td>27</td>\n",
       "    </tr>\n",
       "    <tr>\n",
       "      <th>Education Fair</th>\n",
       "      <td>8</td>\n",
       "    </tr>\n",
       "    <tr>\n",
       "      <th>Email</th>\n",
       "      <td>83</td>\n",
       "    </tr>\n",
       "    <tr>\n",
       "      <th>Event Registration</th>\n",
       "      <td>10535</td>\n",
       "    </tr>\n",
       "    <tr>\n",
       "      <th>Financial Aid</th>\n",
       "      <td>6</td>\n",
       "    </tr>\n",
       "    <tr>\n",
       "      <th>Group Tour</th>\n",
       "      <td>405</td>\n",
       "    </tr>\n",
       "    <tr>\n",
       "      <th>High School Visit</th>\n",
       "      <td>3232</td>\n",
       "    </tr>\n",
       "    <tr>\n",
       "      <th>Initiated Application</th>\n",
       "      <td>237</td>\n",
       "    </tr>\n",
       "    <tr>\n",
       "      <th>International Travel</th>\n",
       "      <td>40</td>\n",
       "    </tr>\n",
       "    <tr>\n",
       "      <th>Lead Card</th>\n",
       "      <td>242</td>\n",
       "    </tr>\n",
       "    <tr>\n",
       "      <th>Legacy Admission Alumni Form</th>\n",
       "      <td>1</td>\n",
       "    </tr>\n",
       "    <tr>\n",
       "      <th>Office Visit</th>\n",
       "      <td>181</td>\n",
       "    </tr>\n",
       "    <tr>\n",
       "      <th>Other</th>\n",
       "      <td>422</td>\n",
       "    </tr>\n",
       "    <tr>\n",
       "      <th>Phone</th>\n",
       "      <td>4</td>\n",
       "    </tr>\n",
       "    <tr>\n",
       "      <th>Purchased List</th>\n",
       "      <td>29903</td>\n",
       "    </tr>\n",
       "    <tr>\n",
       "      <th>Royal Short Mailing List Form</th>\n",
       "      <td>4</td>\n",
       "    </tr>\n",
       "    <tr>\n",
       "      <th>Search Responder</th>\n",
       "      <td>317</td>\n",
       "    </tr>\n",
       "    <tr>\n",
       "      <th>Submitted Test Score</th>\n",
       "      <td>12422</td>\n",
       "    </tr>\n",
       "    <tr>\n",
       "      <th>Submitted Transcript</th>\n",
       "      <td>1</td>\n",
       "    </tr>\n",
       "    <tr>\n",
       "      <th>UGrad Campus Visit Check-in Form</th>\n",
       "      <td>93</td>\n",
       "    </tr>\n",
       "    <tr>\n",
       "      <th>Virtual Tour</th>\n",
       "      <td>405</td>\n",
       "    </tr>\n",
       "    <tr>\n",
       "      <th>Web Form</th>\n",
       "      <td>8126</td>\n",
       "    </tr>\n",
       "  </tbody>\n",
       "</table>\n",
       "</div>"
      ],
      "text/plain": [
       "                                   2018\n",
       "Lead_Source                            \n",
       "Admission Conversion                 21\n",
       "College Fair                      10379\n",
       "College Visit                        27\n",
       "Education Fair                        8\n",
       "Email                                83\n",
       "Event Registration                10535\n",
       "Financial Aid                         6\n",
       "Group Tour                          405\n",
       "High School Visit                  3232\n",
       "Initiated Application               237\n",
       "International Travel                 40\n",
       "Lead Card                           242\n",
       "Legacy Admission Alumni Form          1\n",
       "Office Visit                        181\n",
       "Other                               422\n",
       "Phone                                 4\n",
       "Purchased List                    29903\n",
       "Royal Short Mailing List Form         4\n",
       "Search Responder                    317\n",
       "Submitted Test Score              12422\n",
       "Submitted Transcript                  1\n",
       "UGrad Campus Visit Check-in Form     93\n",
       "Virtual Tour                        405\n",
       "Web Form                           8126"
      ]
     },
     "execution_count": 118,
     "metadata": {},
     "output_type": "execute_result"
    }
   ],
   "source": [
    "#LeadSource Counts for AdmitTerm 2018 that occured in 2017\n",
    "LEAD18 = YoY2018.pivot_table(index=['Lead_Source'],values =['Contact_ID'],aggfunc =len)\n",
    "LEAD18.rename(index= str, columns={'Contact_ID':'2018'},inplace =True)\n",
    "LEAD18"
   ]
  },
  {
   "cell_type": "code",
   "execution_count": 119,
   "metadata": {},
   "outputs": [
    {
     "data": {
      "text/html": [
       "<div>\n",
       "<style scoped>\n",
       "    .dataframe tbody tr th:only-of-type {\n",
       "        vertical-align: middle;\n",
       "    }\n",
       "\n",
       "    .dataframe tbody tr th {\n",
       "        vertical-align: top;\n",
       "    }\n",
       "\n",
       "    .dataframe thead th {\n",
       "        text-align: right;\n",
       "    }\n",
       "</style>\n",
       "<table border=\"1\" class=\"dataframe\">\n",
       "  <thead>\n",
       "    <tr style=\"text-align: right;\">\n",
       "      <th></th>\n",
       "      <th>2019</th>\n",
       "    </tr>\n",
       "    <tr>\n",
       "      <th>Lead_Source</th>\n",
       "      <th></th>\n",
       "    </tr>\n",
       "  </thead>\n",
       "  <tbody>\n",
       "    <tr>\n",
       "      <th>Admission Conversion</th>\n",
       "      <td>4</td>\n",
       "    </tr>\n",
       "    <tr>\n",
       "      <th>College Fair</th>\n",
       "      <td>10116</td>\n",
       "    </tr>\n",
       "    <tr>\n",
       "      <th>College Visit</th>\n",
       "      <td>12</td>\n",
       "    </tr>\n",
       "    <tr>\n",
       "      <th>Education Fair</th>\n",
       "      <td>12</td>\n",
       "    </tr>\n",
       "    <tr>\n",
       "      <th>Email</th>\n",
       "      <td>31</td>\n",
       "    </tr>\n",
       "    <tr>\n",
       "      <th>Event Registration</th>\n",
       "      <td>12523</td>\n",
       "    </tr>\n",
       "    <tr>\n",
       "      <th>Financial Aid</th>\n",
       "      <td>5</td>\n",
       "    </tr>\n",
       "    <tr>\n",
       "      <th>Group Tour</th>\n",
       "      <td>476</td>\n",
       "    </tr>\n",
       "    <tr>\n",
       "      <th>High School Visit</th>\n",
       "      <td>2889</td>\n",
       "    </tr>\n",
       "    <tr>\n",
       "      <th>Initiated Application</th>\n",
       "      <td>32</td>\n",
       "    </tr>\n",
       "    <tr>\n",
       "      <th>International Travel</th>\n",
       "      <td>1</td>\n",
       "    </tr>\n",
       "    <tr>\n",
       "      <th>Lead Card</th>\n",
       "      <td>199</td>\n",
       "    </tr>\n",
       "    <tr>\n",
       "      <th>Office Visit</th>\n",
       "      <td>363</td>\n",
       "    </tr>\n",
       "    <tr>\n",
       "      <th>Other</th>\n",
       "      <td>13</td>\n",
       "    </tr>\n",
       "    <tr>\n",
       "      <th>Phone</th>\n",
       "      <td>2</td>\n",
       "    </tr>\n",
       "    <tr>\n",
       "      <th>Professional Association</th>\n",
       "      <td>1</td>\n",
       "    </tr>\n",
       "    <tr>\n",
       "      <th>Professional Conference</th>\n",
       "      <td>1</td>\n",
       "    </tr>\n",
       "    <tr>\n",
       "      <th>Purchased List</th>\n",
       "      <td>22093</td>\n",
       "    </tr>\n",
       "    <tr>\n",
       "      <th>Search Responder</th>\n",
       "      <td>8413</td>\n",
       "    </tr>\n",
       "    <tr>\n",
       "      <th>Submitted Test Score</th>\n",
       "      <td>16916</td>\n",
       "    </tr>\n",
       "    <tr>\n",
       "      <th>UGrad Campus Visit Check-in Form</th>\n",
       "      <td>15</td>\n",
       "    </tr>\n",
       "    <tr>\n",
       "      <th>Virtual</th>\n",
       "      <td>104</td>\n",
       "    </tr>\n",
       "    <tr>\n",
       "      <th>Virtual Tour</th>\n",
       "      <td>1101</td>\n",
       "    </tr>\n",
       "    <tr>\n",
       "      <th>Web Form</th>\n",
       "      <td>8352</td>\n",
       "    </tr>\n",
       "  </tbody>\n",
       "</table>\n",
       "</div>"
      ],
      "text/plain": [
       "                                   2019\n",
       "Lead_Source                            \n",
       "Admission Conversion                  4\n",
       "College Fair                      10116\n",
       "College Visit                        12\n",
       "Education Fair                       12\n",
       "Email                                31\n",
       "Event Registration                12523\n",
       "Financial Aid                         5\n",
       "Group Tour                          476\n",
       "High School Visit                  2889\n",
       "Initiated Application                32\n",
       "International Travel                  1\n",
       "Lead Card                           199\n",
       "Office Visit                        363\n",
       "Other                                13\n",
       "Phone                                 2\n",
       "Professional Association              1\n",
       "Professional Conference               1\n",
       "Purchased List                    22093\n",
       "Search Responder                   8413\n",
       "Submitted Test Score              16916\n",
       "UGrad Campus Visit Check-in Form     15\n",
       "Virtual                             104\n",
       "Virtual Tour                       1101\n",
       "Web Form                           8352"
      ]
     },
     "execution_count": 119,
     "metadata": {},
     "output_type": "execute_result"
    }
   ],
   "source": [
    "#LeadSource Counts for AdmitTerm 2019 that occured in 2018\n",
    "LEAD19 = YoY2019.pivot_table(index=['Lead_Source'],values =['Contact_ID'],aggfunc =len)\n",
    "LEAD19.rename(index= str, columns={'Contact_ID':'2019'},inplace =True)\n",
    "LEAD19"
   ]
  },
  {
   "cell_type": "code",
   "execution_count": 120,
   "metadata": {},
   "outputs": [
    {
     "data": {
      "text/html": [
       "<div>\n",
       "<style scoped>\n",
       "    .dataframe tbody tr th:only-of-type {\n",
       "        vertical-align: middle;\n",
       "    }\n",
       "\n",
       "    .dataframe tbody tr th {\n",
       "        vertical-align: top;\n",
       "    }\n",
       "\n",
       "    .dataframe thead th {\n",
       "        text-align: right;\n",
       "    }\n",
       "</style>\n",
       "<table border=\"1\" class=\"dataframe\">\n",
       "  <thead>\n",
       "    <tr style=\"text-align: right;\">\n",
       "      <th></th>\n",
       "      <th>2017</th>\n",
       "      <th>2018</th>\n",
       "    </tr>\n",
       "    <tr>\n",
       "      <th>Lead_Source</th>\n",
       "      <th></th>\n",
       "      <th></th>\n",
       "    </tr>\n",
       "  </thead>\n",
       "  <tbody>\n",
       "    <tr>\n",
       "      <th>Admission Conversion</th>\n",
       "      <td>31.0</td>\n",
       "      <td>21</td>\n",
       "    </tr>\n",
       "    <tr>\n",
       "      <th>College Fair</th>\n",
       "      <td>10624.0</td>\n",
       "      <td>10379</td>\n",
       "    </tr>\n",
       "    <tr>\n",
       "      <th>College Visit</th>\n",
       "      <td>13.0</td>\n",
       "      <td>27</td>\n",
       "    </tr>\n",
       "    <tr>\n",
       "      <th>Education Fair</th>\n",
       "      <td>10.0</td>\n",
       "      <td>8</td>\n",
       "    </tr>\n",
       "    <tr>\n",
       "      <th>Email</th>\n",
       "      <td>212.0</td>\n",
       "      <td>83</td>\n",
       "    </tr>\n",
       "    <tr>\n",
       "      <th>Event Registration</th>\n",
       "      <td>9744.0</td>\n",
       "      <td>10535</td>\n",
       "    </tr>\n",
       "    <tr>\n",
       "      <th>Financial Aid</th>\n",
       "      <td>130.0</td>\n",
       "      <td>6</td>\n",
       "    </tr>\n",
       "    <tr>\n",
       "      <th>Group Tour</th>\n",
       "      <td>4.0</td>\n",
       "      <td>405</td>\n",
       "    </tr>\n",
       "    <tr>\n",
       "      <th>High School Visit</th>\n",
       "      <td>4265.0</td>\n",
       "      <td>3232</td>\n",
       "    </tr>\n",
       "    <tr>\n",
       "      <th>Initiated Application</th>\n",
       "      <td>807.0</td>\n",
       "      <td>237</td>\n",
       "    </tr>\n",
       "    <tr>\n",
       "      <th>International Travel</th>\n",
       "      <td>258.0</td>\n",
       "      <td>40</td>\n",
       "    </tr>\n",
       "    <tr>\n",
       "      <th>Lead Card</th>\n",
       "      <td>354.0</td>\n",
       "      <td>242</td>\n",
       "    </tr>\n",
       "    <tr>\n",
       "      <th>Legacy Admission Alumni Form</th>\n",
       "      <td>5.0</td>\n",
       "      <td>1</td>\n",
       "    </tr>\n",
       "    <tr>\n",
       "      <th>Office Visit</th>\n",
       "      <td>161.0</td>\n",
       "      <td>181</td>\n",
       "    </tr>\n",
       "    <tr>\n",
       "      <th>Other</th>\n",
       "      <td>3289.0</td>\n",
       "      <td>422</td>\n",
       "    </tr>\n",
       "    <tr>\n",
       "      <th>Phone</th>\n",
       "      <td>32.0</td>\n",
       "      <td>4</td>\n",
       "    </tr>\n",
       "    <tr>\n",
       "      <th>Purchased List</th>\n",
       "      <td>49952.0</td>\n",
       "      <td>29903</td>\n",
       "    </tr>\n",
       "    <tr>\n",
       "      <th>Royal Short Mailing List Form</th>\n",
       "      <td>47.0</td>\n",
       "      <td>4</td>\n",
       "    </tr>\n",
       "    <tr>\n",
       "      <th>Search Responder</th>\n",
       "      <td>NaN</td>\n",
       "      <td>317</td>\n",
       "    </tr>\n",
       "    <tr>\n",
       "      <th>Submitted Test Score</th>\n",
       "      <td>17184.0</td>\n",
       "      <td>12422</td>\n",
       "    </tr>\n",
       "    <tr>\n",
       "      <th>Submitted Transcript</th>\n",
       "      <td>3.0</td>\n",
       "      <td>1</td>\n",
       "    </tr>\n",
       "    <tr>\n",
       "      <th>UGrad Campus Visit Check-in Form</th>\n",
       "      <td>574.0</td>\n",
       "      <td>93</td>\n",
       "    </tr>\n",
       "    <tr>\n",
       "      <th>Virtual Tour</th>\n",
       "      <td>NaN</td>\n",
       "      <td>405</td>\n",
       "    </tr>\n",
       "    <tr>\n",
       "      <th>Web Form</th>\n",
       "      <td>8828.0</td>\n",
       "      <td>8126</td>\n",
       "    </tr>\n",
       "  </tbody>\n",
       "</table>\n",
       "</div>"
      ],
      "text/plain": [
       "                                     2017   2018\n",
       "Lead_Source                                     \n",
       "Admission Conversion                 31.0     21\n",
       "College Fair                      10624.0  10379\n",
       "College Visit                        13.0     27\n",
       "Education Fair                       10.0      8\n",
       "Email                               212.0     83\n",
       "Event Registration                 9744.0  10535\n",
       "Financial Aid                       130.0      6\n",
       "Group Tour                            4.0    405\n",
       "High School Visit                  4265.0   3232\n",
       "Initiated Application               807.0    237\n",
       "International Travel                258.0     40\n",
       "Lead Card                           354.0    242\n",
       "Legacy Admission Alumni Form          5.0      1\n",
       "Office Visit                        161.0    181\n",
       "Other                              3289.0    422\n",
       "Phone                                32.0      4\n",
       "Purchased List                    49952.0  29903\n",
       "Royal Short Mailing List Form        47.0      4\n",
       "Search Responder                      NaN    317\n",
       "Submitted Test Score              17184.0  12422\n",
       "Submitted Transcript                  3.0      1\n",
       "UGrad Campus Visit Check-in Form    574.0     93\n",
       "Virtual Tour                          NaN    405\n",
       "Web Form                           8828.0   8126"
      ]
     },
     "execution_count": 120,
     "metadata": {},
     "output_type": "execute_result"
    }
   ],
   "source": [
    "LEAD1 = pd.concat([LEAD17, LEAD18], axis=1, join_axes=[LEAD18.index])\n",
    "LEAD1"
   ]
  },
  {
   "cell_type": "code",
   "execution_count": 121,
   "metadata": {},
   "outputs": [
    {
     "data": {
      "text/html": [
       "<div>\n",
       "<style scoped>\n",
       "    .dataframe tbody tr th:only-of-type {\n",
       "        vertical-align: middle;\n",
       "    }\n",
       "\n",
       "    .dataframe tbody tr th {\n",
       "        vertical-align: top;\n",
       "    }\n",
       "\n",
       "    .dataframe thead th {\n",
       "        text-align: right;\n",
       "    }\n",
       "</style>\n",
       "<table border=\"1\" class=\"dataframe\">\n",
       "  <thead>\n",
       "    <tr style=\"text-align: right;\">\n",
       "      <th></th>\n",
       "      <th>2017</th>\n",
       "      <th>2018</th>\n",
       "      <th>2019</th>\n",
       "    </tr>\n",
       "    <tr>\n",
       "      <th>Lead_Source</th>\n",
       "      <th></th>\n",
       "      <th></th>\n",
       "      <th></th>\n",
       "    </tr>\n",
       "  </thead>\n",
       "  <tbody>\n",
       "    <tr>\n",
       "      <th>Admission Conversion</th>\n",
       "      <td>31.0</td>\n",
       "      <td>21</td>\n",
       "      <td>4.0</td>\n",
       "    </tr>\n",
       "    <tr>\n",
       "      <th>College Fair</th>\n",
       "      <td>10624.0</td>\n",
       "      <td>10379</td>\n",
       "      <td>10116.0</td>\n",
       "    </tr>\n",
       "    <tr>\n",
       "      <th>College Visit</th>\n",
       "      <td>13.0</td>\n",
       "      <td>27</td>\n",
       "      <td>12.0</td>\n",
       "    </tr>\n",
       "    <tr>\n",
       "      <th>Education Fair</th>\n",
       "      <td>10.0</td>\n",
       "      <td>8</td>\n",
       "      <td>12.0</td>\n",
       "    </tr>\n",
       "    <tr>\n",
       "      <th>Email</th>\n",
       "      <td>212.0</td>\n",
       "      <td>83</td>\n",
       "      <td>31.0</td>\n",
       "    </tr>\n",
       "    <tr>\n",
       "      <th>Event Registration</th>\n",
       "      <td>9744.0</td>\n",
       "      <td>10535</td>\n",
       "      <td>12523.0</td>\n",
       "    </tr>\n",
       "    <tr>\n",
       "      <th>Financial Aid</th>\n",
       "      <td>130.0</td>\n",
       "      <td>6</td>\n",
       "      <td>5.0</td>\n",
       "    </tr>\n",
       "    <tr>\n",
       "      <th>Group Tour</th>\n",
       "      <td>4.0</td>\n",
       "      <td>405</td>\n",
       "      <td>476.0</td>\n",
       "    </tr>\n",
       "    <tr>\n",
       "      <th>High School Visit</th>\n",
       "      <td>4265.0</td>\n",
       "      <td>3232</td>\n",
       "      <td>2889.0</td>\n",
       "    </tr>\n",
       "    <tr>\n",
       "      <th>Initiated Application</th>\n",
       "      <td>807.0</td>\n",
       "      <td>237</td>\n",
       "      <td>32.0</td>\n",
       "    </tr>\n",
       "    <tr>\n",
       "      <th>International Travel</th>\n",
       "      <td>258.0</td>\n",
       "      <td>40</td>\n",
       "      <td>1.0</td>\n",
       "    </tr>\n",
       "    <tr>\n",
       "      <th>Lead Card</th>\n",
       "      <td>354.0</td>\n",
       "      <td>242</td>\n",
       "      <td>199.0</td>\n",
       "    </tr>\n",
       "    <tr>\n",
       "      <th>Legacy Admission Alumni Form</th>\n",
       "      <td>5.0</td>\n",
       "      <td>1</td>\n",
       "      <td>NaN</td>\n",
       "    </tr>\n",
       "    <tr>\n",
       "      <th>Office Visit</th>\n",
       "      <td>161.0</td>\n",
       "      <td>181</td>\n",
       "      <td>363.0</td>\n",
       "    </tr>\n",
       "    <tr>\n",
       "      <th>Other</th>\n",
       "      <td>3289.0</td>\n",
       "      <td>422</td>\n",
       "      <td>13.0</td>\n",
       "    </tr>\n",
       "    <tr>\n",
       "      <th>Phone</th>\n",
       "      <td>32.0</td>\n",
       "      <td>4</td>\n",
       "      <td>2.0</td>\n",
       "    </tr>\n",
       "    <tr>\n",
       "      <th>Purchased List</th>\n",
       "      <td>49952.0</td>\n",
       "      <td>29903</td>\n",
       "      <td>22093.0</td>\n",
       "    </tr>\n",
       "    <tr>\n",
       "      <th>Royal Short Mailing List Form</th>\n",
       "      <td>47.0</td>\n",
       "      <td>4</td>\n",
       "      <td>NaN</td>\n",
       "    </tr>\n",
       "    <tr>\n",
       "      <th>Search Responder</th>\n",
       "      <td>NaN</td>\n",
       "      <td>317</td>\n",
       "      <td>8413.0</td>\n",
       "    </tr>\n",
       "    <tr>\n",
       "      <th>Submitted Test Score</th>\n",
       "      <td>17184.0</td>\n",
       "      <td>12422</td>\n",
       "      <td>16916.0</td>\n",
       "    </tr>\n",
       "    <tr>\n",
       "      <th>Submitted Transcript</th>\n",
       "      <td>3.0</td>\n",
       "      <td>1</td>\n",
       "      <td>NaN</td>\n",
       "    </tr>\n",
       "    <tr>\n",
       "      <th>UGrad Campus Visit Check-in Form</th>\n",
       "      <td>574.0</td>\n",
       "      <td>93</td>\n",
       "      <td>15.0</td>\n",
       "    </tr>\n",
       "    <tr>\n",
       "      <th>Virtual Tour</th>\n",
       "      <td>NaN</td>\n",
       "      <td>405</td>\n",
       "      <td>1101.0</td>\n",
       "    </tr>\n",
       "    <tr>\n",
       "      <th>Web Form</th>\n",
       "      <td>8828.0</td>\n",
       "      <td>8126</td>\n",
       "      <td>8352.0</td>\n",
       "    </tr>\n",
       "  </tbody>\n",
       "</table>\n",
       "</div>"
      ],
      "text/plain": [
       "                                     2017   2018     2019\n",
       "Lead_Source                                              \n",
       "Admission Conversion                 31.0     21      4.0\n",
       "College Fair                      10624.0  10379  10116.0\n",
       "College Visit                        13.0     27     12.0\n",
       "Education Fair                       10.0      8     12.0\n",
       "Email                               212.0     83     31.0\n",
       "Event Registration                 9744.0  10535  12523.0\n",
       "Financial Aid                       130.0      6      5.0\n",
       "Group Tour                            4.0    405    476.0\n",
       "High School Visit                  4265.0   3232   2889.0\n",
       "Initiated Application               807.0    237     32.0\n",
       "International Travel                258.0     40      1.0\n",
       "Lead Card                           354.0    242    199.0\n",
       "Legacy Admission Alumni Form          5.0      1      NaN\n",
       "Office Visit                        161.0    181    363.0\n",
       "Other                              3289.0    422     13.0\n",
       "Phone                                32.0      4      2.0\n",
       "Purchased List                    49952.0  29903  22093.0\n",
       "Royal Short Mailing List Form        47.0      4      NaN\n",
       "Search Responder                      NaN    317   8413.0\n",
       "Submitted Test Score              17184.0  12422  16916.0\n",
       "Submitted Transcript                  3.0      1      NaN\n",
       "UGrad Campus Visit Check-in Form    574.0     93     15.0\n",
       "Virtual Tour                          NaN    405   1101.0\n",
       "Web Form                           8828.0   8126   8352.0"
      ]
     },
     "execution_count": 121,
     "metadata": {},
     "output_type": "execute_result"
    }
   ],
   "source": [
    "Lead2 = pd.concat([LEAD1, LEAD19], axis=1, join_axes=[LEAD18.index])\n",
    "Lead2"
   ]
  },
  {
   "cell_type": "code",
   "execution_count": 122,
   "metadata": {},
   "outputs": [
    {
     "data": {
      "text/html": [
       "<div>\n",
       "<style scoped>\n",
       "    .dataframe tbody tr th:only-of-type {\n",
       "        vertical-align: middle;\n",
       "    }\n",
       "\n",
       "    .dataframe tbody tr th {\n",
       "        vertical-align: top;\n",
       "    }\n",
       "\n",
       "    .dataframe thead th {\n",
       "        text-align: right;\n",
       "    }\n",
       "</style>\n",
       "<table border=\"1\" class=\"dataframe\">\n",
       "  <thead>\n",
       "    <tr style=\"text-align: right;\">\n",
       "      <th></th>\n",
       "      <th>2017</th>\n",
       "      <th>2018</th>\n",
       "      <th>2019</th>\n",
       "    </tr>\n",
       "    <tr>\n",
       "      <th>Lead_Source</th>\n",
       "      <th></th>\n",
       "      <th></th>\n",
       "      <th></th>\n",
       "    </tr>\n",
       "  </thead>\n",
       "  <tbody>\n",
       "    <tr>\n",
       "      <th>Admission Conversion</th>\n",
       "      <td>31.0</td>\n",
       "      <td>21</td>\n",
       "      <td>4</td>\n",
       "    </tr>\n",
       "    <tr>\n",
       "      <th>College Fair</th>\n",
       "      <td>10624.0</td>\n",
       "      <td>10379</td>\n",
       "      <td>10116</td>\n",
       "    </tr>\n",
       "    <tr>\n",
       "      <th>College Visit</th>\n",
       "      <td>13.0</td>\n",
       "      <td>27</td>\n",
       "      <td>12</td>\n",
       "    </tr>\n",
       "    <tr>\n",
       "      <th>Education Fair</th>\n",
       "      <td>10.0</td>\n",
       "      <td>8</td>\n",
       "      <td>12</td>\n",
       "    </tr>\n",
       "    <tr>\n",
       "      <th>Email</th>\n",
       "      <td>212.0</td>\n",
       "      <td>83</td>\n",
       "      <td>31</td>\n",
       "    </tr>\n",
       "    <tr>\n",
       "      <th>Event Registration</th>\n",
       "      <td>9744.0</td>\n",
       "      <td>10535</td>\n",
       "      <td>12523</td>\n",
       "    </tr>\n",
       "    <tr>\n",
       "      <th>Financial Aid</th>\n",
       "      <td>130.0</td>\n",
       "      <td>6</td>\n",
       "      <td>5</td>\n",
       "    </tr>\n",
       "    <tr>\n",
       "      <th>Group Tour</th>\n",
       "      <td>4.0</td>\n",
       "      <td>405</td>\n",
       "      <td>476</td>\n",
       "    </tr>\n",
       "    <tr>\n",
       "      <th>High School Visit</th>\n",
       "      <td>4265.0</td>\n",
       "      <td>3232</td>\n",
       "      <td>2889</td>\n",
       "    </tr>\n",
       "    <tr>\n",
       "      <th>Initiated Application</th>\n",
       "      <td>807.0</td>\n",
       "      <td>237</td>\n",
       "      <td>32</td>\n",
       "    </tr>\n",
       "    <tr>\n",
       "      <th>International Travel</th>\n",
       "      <td>258.0</td>\n",
       "      <td>40</td>\n",
       "      <td>1</td>\n",
       "    </tr>\n",
       "    <tr>\n",
       "      <th>Lead Card</th>\n",
       "      <td>354.0</td>\n",
       "      <td>242</td>\n",
       "      <td>199</td>\n",
       "    </tr>\n",
       "    <tr>\n",
       "      <th>Legacy Admission Alumni Form</th>\n",
       "      <td>5.0</td>\n",
       "      <td>1</td>\n",
       "      <td>0</td>\n",
       "    </tr>\n",
       "    <tr>\n",
       "      <th>Office Visit</th>\n",
       "      <td>161.0</td>\n",
       "      <td>181</td>\n",
       "      <td>363</td>\n",
       "    </tr>\n",
       "    <tr>\n",
       "      <th>Other</th>\n",
       "      <td>3289.0</td>\n",
       "      <td>422</td>\n",
       "      <td>13</td>\n",
       "    </tr>\n",
       "    <tr>\n",
       "      <th>Phone</th>\n",
       "      <td>32.0</td>\n",
       "      <td>4</td>\n",
       "      <td>2</td>\n",
       "    </tr>\n",
       "    <tr>\n",
       "      <th>Purchased List</th>\n",
       "      <td>49952.0</td>\n",
       "      <td>29903</td>\n",
       "      <td>22093</td>\n",
       "    </tr>\n",
       "    <tr>\n",
       "      <th>Royal Short Mailing List Form</th>\n",
       "      <td>47.0</td>\n",
       "      <td>4</td>\n",
       "      <td>0</td>\n",
       "    </tr>\n",
       "    <tr>\n",
       "      <th>Search Responder</th>\n",
       "      <td>0.0</td>\n",
       "      <td>317</td>\n",
       "      <td>8413</td>\n",
       "    </tr>\n",
       "    <tr>\n",
       "      <th>Submitted Test Score</th>\n",
       "      <td>17184.0</td>\n",
       "      <td>12422</td>\n",
       "      <td>16916</td>\n",
       "    </tr>\n",
       "    <tr>\n",
       "      <th>Submitted Transcript</th>\n",
       "      <td>3.0</td>\n",
       "      <td>1</td>\n",
       "      <td>0</td>\n",
       "    </tr>\n",
       "    <tr>\n",
       "      <th>UGrad Campus Visit Check-in Form</th>\n",
       "      <td>574.0</td>\n",
       "      <td>93</td>\n",
       "      <td>15</td>\n",
       "    </tr>\n",
       "    <tr>\n",
       "      <th>Virtual Tour</th>\n",
       "      <td>0.0</td>\n",
       "      <td>405</td>\n",
       "      <td>1101</td>\n",
       "    </tr>\n",
       "    <tr>\n",
       "      <th>Web Form</th>\n",
       "      <td>8828.0</td>\n",
       "      <td>8126</td>\n",
       "      <td>8352</td>\n",
       "    </tr>\n",
       "  </tbody>\n",
       "</table>\n",
       "</div>"
      ],
      "text/plain": [
       "                                     2017   2018   2019\n",
       "Lead_Source                                            \n",
       "Admission Conversion                 31.0     21      4\n",
       "College Fair                      10624.0  10379  10116\n",
       "College Visit                        13.0     27     12\n",
       "Education Fair                       10.0      8     12\n",
       "Email                               212.0     83     31\n",
       "Event Registration                 9744.0  10535  12523\n",
       "Financial Aid                       130.0      6      5\n",
       "Group Tour                            4.0    405    476\n",
       "High School Visit                  4265.0   3232   2889\n",
       "Initiated Application               807.0    237     32\n",
       "International Travel                258.0     40      1\n",
       "Lead Card                           354.0    242    199\n",
       "Legacy Admission Alumni Form          5.0      1      0\n",
       "Office Visit                        161.0    181    363\n",
       "Other                              3289.0    422     13\n",
       "Phone                                32.0      4      2\n",
       "Purchased List                    49952.0  29903  22093\n",
       "Royal Short Mailing List Form        47.0      4      0\n",
       "Search Responder                      0.0    317   8413\n",
       "Submitted Test Score              17184.0  12422  16916\n",
       "Submitted Transcript                  3.0      1      0\n",
       "UGrad Campus Visit Check-in Form    574.0     93     15\n",
       "Virtual Tour                          0.0    405   1101\n",
       "Web Form                           8828.0   8126   8352"
      ]
     },
     "execution_count": 122,
     "metadata": {},
     "output_type": "execute_result"
    }
   ],
   "source": [
    "LEAD = Lead2.fillna(0)\n",
    "LEAD['2018'] = LEAD['2018'].astype(int)\n",
    "LEAD['2019'] = LEAD['2019'].astype(int)\n",
    "LEAD"
   ]
  },
  {
   "cell_type": "code",
   "execution_count": 123,
   "metadata": {},
   "outputs": [],
   "source": [
    "#Count all Inq for the 2017 Admit term that occured before August of 2017  #Redundant???\n",
    "#B4AUG17 = TERM2017.loc[TERM2017.Create_Date <= tspriorAUG17,:]\n",
    "#len(B4AUG17)"
   ]
  },
  {
   "cell_type": "code",
   "execution_count": 124,
   "metadata": {},
   "outputs": [],
   "source": [
    "#Count all Inq for the 2018 Admit term that occured before August of 2018 #Redundant???\n",
    "#B4AUG18 = TERM2018.loc[TERM2018.Create_Date <= tspriorAUG18,:]\n",
    "#len(B4AUG18)"
   ]
  },
  {
   "cell_type": "code",
   "execution_count": 125,
   "metadata": {},
   "outputs": [],
   "source": [
    "# create the path where the results willbe sent\n",
    "path_final = r'C:/Users/mjc341/Desktop/EMSA-GIT/COLAB'\n",
    "#path_final = r'C:/Users/sxh706/Desktop'"
   ]
  },
  {
   "cell_type": "code",
   "execution_count": 126,
   "metadata": {},
   "outputs": [],
   "source": [
    "#path_final"
   ]
  },
  {
   "cell_type": "code",
   "execution_count": 127,
   "metadata": {},
   "outputs": [
    {
     "data": {
      "text/html": [
       "<div>\n",
       "<style scoped>\n",
       "    .dataframe tbody tr th:only-of-type {\n",
       "        vertical-align: middle;\n",
       "    }\n",
       "\n",
       "    .dataframe tbody tr th {\n",
       "        vertical-align: top;\n",
       "    }\n",
       "\n",
       "    .dataframe thead th {\n",
       "        text-align: right;\n",
       "    }\n",
       "</style>\n",
       "<table border=\"1\" class=\"dataframe\">\n",
       "  <thead>\n",
       "    <tr style=\"text-align: right;\">\n",
       "      <th></th>\n",
       "      <th>2017</th>\n",
       "    </tr>\n",
       "    <tr>\n",
       "      <th>IPEDS2</th>\n",
       "      <th></th>\n",
       "    </tr>\n",
       "  </thead>\n",
       "  <tbody>\n",
       "    <tr>\n",
       "      <th>American Indian/Alaska Native</th>\n",
       "      <td>249</td>\n",
       "    </tr>\n",
       "    <tr>\n",
       "      <th>Asian</th>\n",
       "      <td>6895</td>\n",
       "    </tr>\n",
       "    <tr>\n",
       "      <th>Black/African American</th>\n",
       "      <td>11660</td>\n",
       "    </tr>\n",
       "    <tr>\n",
       "      <th>Hispanic/Latino</th>\n",
       "      <td>9063</td>\n",
       "    </tr>\n",
       "    <tr>\n",
       "      <th>Native Hawaiian/Other Pacific Islander</th>\n",
       "      <td>27</td>\n",
       "    </tr>\n",
       "    <tr>\n",
       "      <th>Two or More Races</th>\n",
       "      <td>1744</td>\n",
       "    </tr>\n",
       "    <tr>\n",
       "      <th>Unknown</th>\n",
       "      <td>29871</td>\n",
       "    </tr>\n",
       "    <tr>\n",
       "      <th>White</th>\n",
       "      <td>47042</td>\n",
       "    </tr>\n",
       "  </tbody>\n",
       "</table>\n",
       "</div>"
      ],
      "text/plain": [
       "                                         2017\n",
       "IPEDS2                                       \n",
       "American Indian/Alaska Native             249\n",
       "Asian                                    6895\n",
       "Black/African American                  11660\n",
       "Hispanic/Latino                          9063\n",
       "Native Hawaiian/Other Pacific Islander     27\n",
       "Two or More Races                        1744\n",
       "Unknown                                 29871\n",
       "White                                   47042"
      ]
     },
     "execution_count": 127,
     "metadata": {},
     "output_type": "execute_result"
    }
   ],
   "source": [
    "#Ethnicity Counts for AdmitTerm 2017 that occured in 2016\n",
    "ETH17 = YoY2017.pivot_table(index=['IPEDS2'],values =['Contact_ID'],aggfunc =len)\n",
    "ETH17.rename(index= str, columns={'Contact_ID':'2017'},inplace =True)\n",
    "ETH17"
   ]
  },
  {
   "cell_type": "code",
   "execution_count": 128,
   "metadata": {},
   "outputs": [
    {
     "data": {
      "text/html": [
       "<div>\n",
       "<style scoped>\n",
       "    .dataframe tbody tr th:only-of-type {\n",
       "        vertical-align: middle;\n",
       "    }\n",
       "\n",
       "    .dataframe tbody tr th {\n",
       "        vertical-align: top;\n",
       "    }\n",
       "\n",
       "    .dataframe thead th {\n",
       "        text-align: right;\n",
       "    }\n",
       "</style>\n",
       "<table border=\"1\" class=\"dataframe\">\n",
       "  <thead>\n",
       "    <tr style=\"text-align: right;\">\n",
       "      <th></th>\n",
       "      <th>2018</th>\n",
       "    </tr>\n",
       "    <tr>\n",
       "      <th>IPEDS2</th>\n",
       "      <th></th>\n",
       "    </tr>\n",
       "  </thead>\n",
       "  <tbody>\n",
       "    <tr>\n",
       "      <th>American Indian/Alaska Native</th>\n",
       "      <td>166</td>\n",
       "    </tr>\n",
       "    <tr>\n",
       "      <th>Asian</th>\n",
       "      <td>4570</td>\n",
       "    </tr>\n",
       "    <tr>\n",
       "      <th>Black/African American</th>\n",
       "      <td>6448</td>\n",
       "    </tr>\n",
       "    <tr>\n",
       "      <th>Hispanic/Latino</th>\n",
       "      <td>6246</td>\n",
       "    </tr>\n",
       "    <tr>\n",
       "      <th>Native Hawaiian/Other Pacific Islander</th>\n",
       "      <td>31</td>\n",
       "    </tr>\n",
       "    <tr>\n",
       "      <th>Two or More Races</th>\n",
       "      <td>1477</td>\n",
       "    </tr>\n",
       "    <tr>\n",
       "      <th>Unknown</th>\n",
       "      <td>29030</td>\n",
       "    </tr>\n",
       "    <tr>\n",
       "      <th>White</th>\n",
       "      <td>29130</td>\n",
       "    </tr>\n",
       "  </tbody>\n",
       "</table>\n",
       "</div>"
      ],
      "text/plain": [
       "                                         2018\n",
       "IPEDS2                                       \n",
       "American Indian/Alaska Native             166\n",
       "Asian                                    4570\n",
       "Black/African American                   6448\n",
       "Hispanic/Latino                          6246\n",
       "Native Hawaiian/Other Pacific Islander     31\n",
       "Two or More Races                        1477\n",
       "Unknown                                 29030\n",
       "White                                   29130"
      ]
     },
     "execution_count": 128,
     "metadata": {},
     "output_type": "execute_result"
    }
   ],
   "source": [
    "#ETH Counts for AdmitTerm 2018 that occured in 2017\n",
    "ETH18 = YoY2018.pivot_table(index=['IPEDS2'],values =['Contact_ID'],aggfunc =len)\n",
    "ETH18.rename(index= str, columns={'Contact_ID':'2018'},inplace =True)\n",
    "ETH18"
   ]
  },
  {
   "cell_type": "code",
   "execution_count": 129,
   "metadata": {},
   "outputs": [
    {
     "data": {
      "text/html": [
       "<div>\n",
       "<style scoped>\n",
       "    .dataframe tbody tr th:only-of-type {\n",
       "        vertical-align: middle;\n",
       "    }\n",
       "\n",
       "    .dataframe tbody tr th {\n",
       "        vertical-align: top;\n",
       "    }\n",
       "\n",
       "    .dataframe thead th {\n",
       "        text-align: right;\n",
       "    }\n",
       "</style>\n",
       "<table border=\"1\" class=\"dataframe\">\n",
       "  <thead>\n",
       "    <tr style=\"text-align: right;\">\n",
       "      <th></th>\n",
       "      <th>2019</th>\n",
       "    </tr>\n",
       "    <tr>\n",
       "      <th>IPEDS2</th>\n",
       "      <th></th>\n",
       "    </tr>\n",
       "  </thead>\n",
       "  <tbody>\n",
       "    <tr>\n",
       "      <th>American Indian/Alaska Native</th>\n",
       "      <td>232</td>\n",
       "    </tr>\n",
       "    <tr>\n",
       "      <th>Asian</th>\n",
       "      <td>3704</td>\n",
       "    </tr>\n",
       "    <tr>\n",
       "      <th>Black/African American</th>\n",
       "      <td>6073</td>\n",
       "    </tr>\n",
       "    <tr>\n",
       "      <th>Hispanic/Latino</th>\n",
       "      <td>7318</td>\n",
       "    </tr>\n",
       "    <tr>\n",
       "      <th>Native Hawaiian/Other Pacific Islander</th>\n",
       "      <td>10</td>\n",
       "    </tr>\n",
       "    <tr>\n",
       "      <th>Two or More Races</th>\n",
       "      <td>2150</td>\n",
       "    </tr>\n",
       "    <tr>\n",
       "      <th>Unknown</th>\n",
       "      <td>36726</td>\n",
       "    </tr>\n",
       "    <tr>\n",
       "      <th>White</th>\n",
       "      <td>27461</td>\n",
       "    </tr>\n",
       "  </tbody>\n",
       "</table>\n",
       "</div>"
      ],
      "text/plain": [
       "                                         2019\n",
       "IPEDS2                                       \n",
       "American Indian/Alaska Native             232\n",
       "Asian                                    3704\n",
       "Black/African American                   6073\n",
       "Hispanic/Latino                          7318\n",
       "Native Hawaiian/Other Pacific Islander     10\n",
       "Two or More Races                        2150\n",
       "Unknown                                 36726\n",
       "White                                   27461"
      ]
     },
     "execution_count": 129,
     "metadata": {},
     "output_type": "execute_result"
    }
   ],
   "source": [
    "#Ethnicity Counts for AdmitTerm 2019 that occured in 2018\n",
    "ETH19 = YoY2019.pivot_table(index=['IPEDS2'],values =['Contact_ID'],aggfunc =len)\n",
    "ETH19.rename(index= str, columns={'Contact_ID':'2019'},inplace =True)\n",
    "ETH19"
   ]
  },
  {
   "cell_type": "code",
   "execution_count": 130,
   "metadata": {},
   "outputs": [
    {
     "data": {
      "text/html": [
       "<div>\n",
       "<style scoped>\n",
       "    .dataframe tbody tr th:only-of-type {\n",
       "        vertical-align: middle;\n",
       "    }\n",
       "\n",
       "    .dataframe tbody tr th {\n",
       "        vertical-align: top;\n",
       "    }\n",
       "\n",
       "    .dataframe thead th {\n",
       "        text-align: right;\n",
       "    }\n",
       "</style>\n",
       "<table border=\"1\" class=\"dataframe\">\n",
       "  <thead>\n",
       "    <tr style=\"text-align: right;\">\n",
       "      <th></th>\n",
       "      <th>2017</th>\n",
       "      <th>2018</th>\n",
       "      <th>2019</th>\n",
       "    </tr>\n",
       "    <tr>\n",
       "      <th>IPEDS2</th>\n",
       "      <th></th>\n",
       "      <th></th>\n",
       "      <th></th>\n",
       "    </tr>\n",
       "  </thead>\n",
       "  <tbody>\n",
       "    <tr>\n",
       "      <th>American Indian/Alaska Native</th>\n",
       "      <td>249</td>\n",
       "      <td>166</td>\n",
       "      <td>232</td>\n",
       "    </tr>\n",
       "    <tr>\n",
       "      <th>Asian</th>\n",
       "      <td>6895</td>\n",
       "      <td>4570</td>\n",
       "      <td>3704</td>\n",
       "    </tr>\n",
       "    <tr>\n",
       "      <th>Black/African American</th>\n",
       "      <td>11660</td>\n",
       "      <td>6448</td>\n",
       "      <td>6073</td>\n",
       "    </tr>\n",
       "    <tr>\n",
       "      <th>Hispanic/Latino</th>\n",
       "      <td>9063</td>\n",
       "      <td>6246</td>\n",
       "      <td>7318</td>\n",
       "    </tr>\n",
       "    <tr>\n",
       "      <th>Native Hawaiian/Other Pacific Islander</th>\n",
       "      <td>27</td>\n",
       "      <td>31</td>\n",
       "      <td>10</td>\n",
       "    </tr>\n",
       "    <tr>\n",
       "      <th>Two or More Races</th>\n",
       "      <td>1744</td>\n",
       "      <td>1477</td>\n",
       "      <td>2150</td>\n",
       "    </tr>\n",
       "    <tr>\n",
       "      <th>Unknown</th>\n",
       "      <td>29871</td>\n",
       "      <td>29030</td>\n",
       "      <td>36726</td>\n",
       "    </tr>\n",
       "    <tr>\n",
       "      <th>White</th>\n",
       "      <td>47042</td>\n",
       "      <td>29130</td>\n",
       "      <td>27461</td>\n",
       "    </tr>\n",
       "  </tbody>\n",
       "</table>\n",
       "</div>"
      ],
      "text/plain": [
       "                                         2017   2018   2019\n",
       "IPEDS2                                                     \n",
       "American Indian/Alaska Native             249    166    232\n",
       "Asian                                    6895   4570   3704\n",
       "Black/African American                  11660   6448   6073\n",
       "Hispanic/Latino                          9063   6246   7318\n",
       "Native Hawaiian/Other Pacific Islander     27     31     10\n",
       "Two or More Races                        1744   1477   2150\n",
       "Unknown                                 29871  29030  36726\n",
       "White                                   47042  29130  27461"
      ]
     },
     "execution_count": 130,
     "metadata": {},
     "output_type": "execute_result"
    }
   ],
   "source": [
    "ETH1 = pd.concat([ETH17, ETH18], axis=1, join_axes=[ETH18.index])\n",
    "ETH2 = pd.concat([ETH1, ETH19], axis=1, join_axes=[ETH18.index])\n",
    "ETH2"
   ]
  },
  {
   "cell_type": "code",
   "execution_count": 131,
   "metadata": {},
   "outputs": [
    {
     "name": "stdout",
     "output_type": "stream",
     "text": [
      "<class 'pandas.core.frame.DataFrame'>\n",
      "Index: 8 entries, American Indian/Alaska Native to White\n",
      "Data columns (total 3 columns):\n",
      "2017    8 non-null int64\n",
      "2018    8 non-null int64\n",
      "2019    8 non-null int64\n",
      "dtypes: int64(3)\n",
      "memory usage: 256.0+ bytes\n"
     ]
    }
   ],
   "source": [
    "ETH2.info()"
   ]
  },
  {
   "cell_type": "code",
   "execution_count": 132,
   "metadata": {},
   "outputs": [],
   "source": [
    "#State Counts for AdmitTerm 2017 that occured in 2016\n",
    "STATE17 = YoY2017.pivot_table(index=['STATE5'],values =['Contact_ID'],aggfunc =len)\n",
    "STATE17.rename(index= str, columns={'Contact_ID':'2017'},inplace =True)\n",
    "STATE18 = YoY2018.pivot_table(index=['STATE5'],values =['Contact_ID'],aggfunc =len)\n",
    "STATE18.rename(index= str, columns={'Contact_ID':'2018'},inplace =True)\n",
    "STATE19 = YoY2019.pivot_table(index=['STATE5'],values =['Contact_ID'],aggfunc =len)\n",
    "STATE19.rename(index= str, columns={'Contact_ID':'2019'},inplace =True)"
   ]
  },
  {
   "cell_type": "code",
   "execution_count": 133,
   "metadata": {
    "scrolled": true
   },
   "outputs": [
    {
     "data": {
      "text/html": [
       "<div>\n",
       "<style scoped>\n",
       "    .dataframe tbody tr th:only-of-type {\n",
       "        vertical-align: middle;\n",
       "    }\n",
       "\n",
       "    .dataframe tbody tr th {\n",
       "        vertical-align: top;\n",
       "    }\n",
       "\n",
       "    .dataframe thead th {\n",
       "        text-align: right;\n",
       "    }\n",
       "</style>\n",
       "<table border=\"1\" class=\"dataframe\">\n",
       "  <thead>\n",
       "    <tr style=\"text-align: right;\">\n",
       "      <th></th>\n",
       "      <th>2017</th>\n",
       "      <th>2018</th>\n",
       "      <th>2019</th>\n",
       "    </tr>\n",
       "    <tr>\n",
       "      <th>STATE5</th>\n",
       "      <th></th>\n",
       "      <th></th>\n",
       "      <th></th>\n",
       "    </tr>\n",
       "  </thead>\n",
       "  <tbody>\n",
       "    <tr>\n",
       "      <th>AK</th>\n",
       "      <td>42</td>\n",
       "      <td>20</td>\n",
       "      <td>21</td>\n",
       "    </tr>\n",
       "    <tr>\n",
       "      <th>AL</th>\n",
       "      <td>1939</td>\n",
       "      <td>691</td>\n",
       "      <td>908</td>\n",
       "    </tr>\n",
       "    <tr>\n",
       "      <th>AR</th>\n",
       "      <td>466</td>\n",
       "      <td>256</td>\n",
       "      <td>294</td>\n",
       "    </tr>\n",
       "    <tr>\n",
       "      <th>AZ</th>\n",
       "      <td>796</td>\n",
       "      <td>453</td>\n",
       "      <td>442</td>\n",
       "    </tr>\n",
       "    <tr>\n",
       "      <th>CA</th>\n",
       "      <td>4706</td>\n",
       "      <td>3265</td>\n",
       "      <td>3535</td>\n",
       "    </tr>\n",
       "    <tr>\n",
       "      <th>CO</th>\n",
       "      <td>869</td>\n",
       "      <td>713</td>\n",
       "      <td>820</td>\n",
       "    </tr>\n",
       "    <tr>\n",
       "      <th>CT</th>\n",
       "      <td>1289</td>\n",
       "      <td>1173</td>\n",
       "      <td>2140</td>\n",
       "    </tr>\n",
       "    <tr>\n",
       "      <th>DC</th>\n",
       "      <td>138</td>\n",
       "      <td>134</td>\n",
       "      <td>153</td>\n",
       "    </tr>\n",
       "    <tr>\n",
       "      <th>DE</th>\n",
       "      <td>300</td>\n",
       "      <td>243</td>\n",
       "      <td>285</td>\n",
       "    </tr>\n",
       "    <tr>\n",
       "      <th>FL</th>\n",
       "      <td>33223</td>\n",
       "      <td>26844</td>\n",
       "      <td>27617</td>\n",
       "    </tr>\n",
       "    <tr>\n",
       "      <th>FM</th>\n",
       "      <td>2</td>\n",
       "      <td>12</td>\n",
       "      <td>3</td>\n",
       "    </tr>\n",
       "    <tr>\n",
       "      <th>GA</th>\n",
       "      <td>3567</td>\n",
       "      <td>2549</td>\n",
       "      <td>2570</td>\n",
       "    </tr>\n",
       "    <tr>\n",
       "      <th>GU</th>\n",
       "      <td>1</td>\n",
       "      <td>2</td>\n",
       "      <td>7</td>\n",
       "    </tr>\n",
       "    <tr>\n",
       "      <th>HI</th>\n",
       "      <td>386</td>\n",
       "      <td>296</td>\n",
       "      <td>361</td>\n",
       "    </tr>\n",
       "    <tr>\n",
       "      <th>IA</th>\n",
       "      <td>256</td>\n",
       "      <td>116</td>\n",
       "      <td>133</td>\n",
       "    </tr>\n",
       "    <tr>\n",
       "      <th>ID</th>\n",
       "      <td>142</td>\n",
       "      <td>38</td>\n",
       "      <td>97</td>\n",
       "    </tr>\n",
       "    <tr>\n",
       "      <th>IL</th>\n",
       "      <td>3973</td>\n",
       "      <td>3249</td>\n",
       "      <td>3577</td>\n",
       "    </tr>\n",
       "    <tr>\n",
       "      <th>IN</th>\n",
       "      <td>1371</td>\n",
       "      <td>540</td>\n",
       "      <td>624</td>\n",
       "    </tr>\n",
       "    <tr>\n",
       "      <th>KS</th>\n",
       "      <td>332</td>\n",
       "      <td>192</td>\n",
       "      <td>185</td>\n",
       "    </tr>\n",
       "    <tr>\n",
       "      <th>KY</th>\n",
       "      <td>1187</td>\n",
       "      <td>460</td>\n",
       "      <td>447</td>\n",
       "    </tr>\n",
       "    <tr>\n",
       "      <th>LA</th>\n",
       "      <td>1350</td>\n",
       "      <td>744</td>\n",
       "      <td>802</td>\n",
       "    </tr>\n",
       "    <tr>\n",
       "      <th>MA</th>\n",
       "      <td>2120</td>\n",
       "      <td>1671</td>\n",
       "      <td>2503</td>\n",
       "    </tr>\n",
       "    <tr>\n",
       "      <th>MD</th>\n",
       "      <td>2627</td>\n",
       "      <td>1970</td>\n",
       "      <td>2488</td>\n",
       "    </tr>\n",
       "    <tr>\n",
       "      <th>ME</th>\n",
       "      <td>136</td>\n",
       "      <td>85</td>\n",
       "      <td>122</td>\n",
       "    </tr>\n",
       "    <tr>\n",
       "      <th>MH</th>\n",
       "      <td>2</td>\n",
       "      <td>12</td>\n",
       "      <td>6</td>\n",
       "    </tr>\n",
       "    <tr>\n",
       "      <th>MI</th>\n",
       "      <td>1331</td>\n",
       "      <td>904</td>\n",
       "      <td>1215</td>\n",
       "    </tr>\n",
       "    <tr>\n",
       "      <th>MN</th>\n",
       "      <td>1348</td>\n",
       "      <td>653</td>\n",
       "      <td>584</td>\n",
       "    </tr>\n",
       "    <tr>\n",
       "      <th>MO</th>\n",
       "      <td>990</td>\n",
       "      <td>621</td>\n",
       "      <td>713</td>\n",
       "    </tr>\n",
       "    <tr>\n",
       "      <th>MS</th>\n",
       "      <td>307</td>\n",
       "      <td>250</td>\n",
       "      <td>341</td>\n",
       "    </tr>\n",
       "    <tr>\n",
       "      <th>MT</th>\n",
       "      <td>63</td>\n",
       "      <td>22</td>\n",
       "      <td>31</td>\n",
       "    </tr>\n",
       "    <tr>\n",
       "      <th>NC</th>\n",
       "      <td>5230</td>\n",
       "      <td>1642</td>\n",
       "      <td>1635</td>\n",
       "    </tr>\n",
       "    <tr>\n",
       "      <th>ND</th>\n",
       "      <td>36</td>\n",
       "      <td>26</td>\n",
       "      <td>38</td>\n",
       "    </tr>\n",
       "    <tr>\n",
       "      <th>NE</th>\n",
       "      <td>240</td>\n",
       "      <td>168</td>\n",
       "      <td>245</td>\n",
       "    </tr>\n",
       "    <tr>\n",
       "      <th>NH</th>\n",
       "      <td>251</td>\n",
       "      <td>192</td>\n",
       "      <td>278</td>\n",
       "    </tr>\n",
       "    <tr>\n",
       "      <th>NJ</th>\n",
       "      <td>4954</td>\n",
       "      <td>4371</td>\n",
       "      <td>5418</td>\n",
       "    </tr>\n",
       "    <tr>\n",
       "      <th>NM</th>\n",
       "      <td>199</td>\n",
       "      <td>52</td>\n",
       "      <td>97</td>\n",
       "    </tr>\n",
       "    <tr>\n",
       "      <th>NV</th>\n",
       "      <td>335</td>\n",
       "      <td>145</td>\n",
       "      <td>224</td>\n",
       "    </tr>\n",
       "    <tr>\n",
       "      <th>NY</th>\n",
       "      <td>5268</td>\n",
       "      <td>4756</td>\n",
       "      <td>5668</td>\n",
       "    </tr>\n",
       "    <tr>\n",
       "      <th>OH</th>\n",
       "      <td>2445</td>\n",
       "      <td>1939</td>\n",
       "      <td>2108</td>\n",
       "    </tr>\n",
       "    <tr>\n",
       "      <th>OK</th>\n",
       "      <td>771</td>\n",
       "      <td>229</td>\n",
       "      <td>315</td>\n",
       "    </tr>\n",
       "    <tr>\n",
       "      <th>OR</th>\n",
       "      <td>284</td>\n",
       "      <td>119</td>\n",
       "      <td>121</td>\n",
       "    </tr>\n",
       "    <tr>\n",
       "      <th>PA</th>\n",
       "      <td>3269</td>\n",
       "      <td>2469</td>\n",
       "      <td>2719</td>\n",
       "    </tr>\n",
       "    <tr>\n",
       "      <th>PR</th>\n",
       "      <td>155</td>\n",
       "      <td>199</td>\n",
       "      <td>132</td>\n",
       "    </tr>\n",
       "    <tr>\n",
       "      <th>RI</th>\n",
       "      <td>246</td>\n",
       "      <td>239</td>\n",
       "      <td>304</td>\n",
       "    </tr>\n",
       "    <tr>\n",
       "      <th>SC</th>\n",
       "      <td>1294</td>\n",
       "      <td>746</td>\n",
       "      <td>781</td>\n",
       "    </tr>\n",
       "    <tr>\n",
       "      <th>SD</th>\n",
       "      <td>45</td>\n",
       "      <td>23</td>\n",
       "      <td>27</td>\n",
       "    </tr>\n",
       "    <tr>\n",
       "      <th>TN</th>\n",
       "      <td>3182</td>\n",
       "      <td>1246</td>\n",
       "      <td>1002</td>\n",
       "    </tr>\n",
       "    <tr>\n",
       "      <th>TX</th>\n",
       "      <td>5296</td>\n",
       "      <td>3638</td>\n",
       "      <td>3591</td>\n",
       "    </tr>\n",
       "    <tr>\n",
       "      <th>UT</th>\n",
       "      <td>756</td>\n",
       "      <td>164</td>\n",
       "      <td>143</td>\n",
       "    </tr>\n",
       "    <tr>\n",
       "      <th>VA</th>\n",
       "      <td>2030</td>\n",
       "      <td>1334</td>\n",
       "      <td>1427</td>\n",
       "    </tr>\n",
       "    <tr>\n",
       "      <th>VI</th>\n",
       "      <td>37</td>\n",
       "      <td>13</td>\n",
       "      <td>8</td>\n",
       "    </tr>\n",
       "    <tr>\n",
       "      <th>VT</th>\n",
       "      <td>103</td>\n",
       "      <td>73</td>\n",
       "      <td>58</td>\n",
       "    </tr>\n",
       "    <tr>\n",
       "      <th>WA</th>\n",
       "      <td>678</td>\n",
       "      <td>296</td>\n",
       "      <td>322</td>\n",
       "    </tr>\n",
       "    <tr>\n",
       "      <th>WI</th>\n",
       "      <td>729</td>\n",
       "      <td>451</td>\n",
       "      <td>614</td>\n",
       "    </tr>\n",
       "    <tr>\n",
       "      <th>WV</th>\n",
       "      <td>224</td>\n",
       "      <td>66</td>\n",
       "      <td>144</td>\n",
       "    </tr>\n",
       "    <tr>\n",
       "      <th>WY</th>\n",
       "      <td>34</td>\n",
       "      <td>26</td>\n",
       "      <td>14</td>\n",
       "    </tr>\n",
       "  </tbody>\n",
       "</table>\n",
       "</div>"
      ],
      "text/plain": [
       "         2017   2018   2019\n",
       "STATE5                     \n",
       "AK         42     20     21\n",
       "AL       1939    691    908\n",
       "AR        466    256    294\n",
       "AZ        796    453    442\n",
       "CA       4706   3265   3535\n",
       "CO        869    713    820\n",
       "CT       1289   1173   2140\n",
       "DC        138    134    153\n",
       "DE        300    243    285\n",
       "FL      33223  26844  27617\n",
       "FM          2     12      3\n",
       "GA       3567   2549   2570\n",
       "GU          1      2      7\n",
       "HI        386    296    361\n",
       "IA        256    116    133\n",
       "ID        142     38     97\n",
       "IL       3973   3249   3577\n",
       "IN       1371    540    624\n",
       "KS        332    192    185\n",
       "KY       1187    460    447\n",
       "LA       1350    744    802\n",
       "MA       2120   1671   2503\n",
       "MD       2627   1970   2488\n",
       "ME        136     85    122\n",
       "MH          2     12      6\n",
       "MI       1331    904   1215\n",
       "MN       1348    653    584\n",
       "MO        990    621    713\n",
       "MS        307    250    341\n",
       "MT         63     22     31\n",
       "NC       5230   1642   1635\n",
       "ND         36     26     38\n",
       "NE        240    168    245\n",
       "NH        251    192    278\n",
       "NJ       4954   4371   5418\n",
       "NM        199     52     97\n",
       "NV        335    145    224\n",
       "NY       5268   4756   5668\n",
       "OH       2445   1939   2108\n",
       "OK        771    229    315\n",
       "OR        284    119    121\n",
       "PA       3269   2469   2719\n",
       "PR        155    199    132\n",
       "RI        246    239    304\n",
       "SC       1294    746    781\n",
       "SD         45     23     27\n",
       "TN       3182   1246   1002\n",
       "TX       5296   3638   3591\n",
       "UT        756    164    143\n",
       "VA       2030   1334   1427\n",
       "VI         37     13      8\n",
       "VT        103     73     58\n",
       "WA        678    296    322\n",
       "WI        729    451    614\n",
       "WV        224     66    144\n",
       "WY         34     26     14"
      ]
     },
     "execution_count": 133,
     "metadata": {},
     "output_type": "execute_result"
    }
   ],
   "source": [
    "ST1 = pd.concat([STATE17, STATE18], axis=1, join_axes=[STATE18.index])\n",
    "ST2 = pd.concat([ST1, STATE19], axis=1, join_axes=[STATE18.index])\n",
    "ST2"
   ]
  },
  {
   "cell_type": "code",
   "execution_count": 134,
   "metadata": {},
   "outputs": [],
   "source": [
    "writer = pd.ExcelWriter(path_final + '/' + 'SalesForceByMonthSept' + '.xlsx')\n",
    "INQbyMONTH.to_excel(writer,'Results')\n",
    "PRIOR.to_excel(writer, 'PRIOR')\n",
    "PRIOR2.to_excel(writer, 'PRIOR2')\n",
    "PRIOR3.to_excel(writer, 'PRIOR3')\n",
    "TOTAL4.to_excel(writer, 'TOTAL4')\n",
    "LEAD.to_excel(writer,'LEAD')\n",
    "ETH2.to_excel(writer,'ETH2')\n",
    "ST2.to_excel(writer,'ST2')\n",
    "\n",
    "workbook = writer.book\n",
    "worksheet = writer.sheets['Results'] \n",
    "worksheet2 = writer.sheets ['PRIOR']\n",
    "worksheet3 = writer.sheets ['PRIOR2']\n",
    "worksheet4 = writer.sheets ['PRIOR3']\n",
    "worksheet5 = writer.sheets ['TOTAL4']\n",
    "worksheet6 = writer.sheets ['LEAD']\n",
    "worksheet7 = writer.sheets ['ETH2']\n",
    "worksheet8 = writer.sheets['ST2']\n",
    "\n",
    "format1 = workbook.add_format({'num_format': '#,##', 'bold': True, 'border': '1'})\n",
    "format2 = workbook.add_format({'num_format': '##,###', 'border': '1','bg_color':'#FFC7CE'})\n",
    "format3 = workbook.add_format({'border': '1','bg_color':'#DAF7A6'})\n",
    "format4 = workbook.add_format({'border': '1','bg_color':'#DAF7A6'})\n",
    "#added bkground color so we can show different years\n",
    "\n",
    "# Note: It isn't possible to format any cells that already have a format such\n",
    "# as the index or headers or any cells that contain dates or datetimes.\n",
    "\n",
    "worksheet.set_column('A:A', 10)\n",
    "worksheet.set_column('B:E', 12)\n",
    "worksheet.set_row(1, None, format2)\n",
    "worksheet.set_row(2, None, format2)\n",
    "worksheet.set_row(3, None, format2)\n",
    "worksheet.set_row(4, None, format2)\n",
    "worksheet.set_row(5, None, format2)\n",
    "worksheet.set_row(6, None, format2)\n",
    "worksheet.set_row(7, None, format2)\n",
    "worksheet.set_row(8, None, format2)\n",
    "worksheet.set_row(9, None, format2)\n",
    "worksheet.set_row(10, None, format2)\n",
    "worksheet.set_row(11, None, format2)\n",
    "worksheet.set_row(12, None, format2)\n",
    "\n",
    "worksheet2.set_column('A:A', 10)\n",
    "worksheet2.set_column('B:E', 18)\n",
    "worksheet2.set_row(1, None, format3)\n",
    "worksheet2.set_row(2, None, format4)\n",
    "\n",
    "worksheet3.set_column('A:A', 10)\n",
    "worksheet3.set_column('B:C', 18)\n",
    "worksheet3.set_row(1, None, format3)\n",
    "worksheet3.set_row(2, None, format4)\n",
    "\n",
    "worksheet4.set_column('A:A', 10)\n",
    "worksheet4.set_column('B:C', 18)\n",
    "worksheet4.set_row(1, None, format3)\n",
    "worksheet4.set_row(2, None, format4)\n",
    "\n",
    "worksheet5.set_column('A:A', 10)\n",
    "worksheet5.set_column('B:E', 18)\n",
    "worksheet5.set_row(1, None, format3)\n",
    "worksheet5.set_row(2, None, format4)\n",
    "\n",
    "worksheet6.set_column('A:A', 10)\n",
    "worksheet6.set_column('B:E', 18)\n",
    "worksheet6.set_row(1, None, format3)\n",
    "worksheet6.set_row(2, None, format4)\n",
    "worksheet6.set_row(3, None, format4)\n",
    "worksheet6.set_row(4, None, format4)\n",
    "worksheet6.set_row(5, None, format4)\n",
    "worksheet6.set_row(6, None, format4)\n",
    "worksheet6.set_row(7, None, format4)\n",
    "worksheet6.set_row(8, None, format4)\n",
    "worksheet6.set_row(9, None, format4)\n",
    "worksheet6.set_row(10, None, format4)\n",
    "worksheet6.set_row(11, None, format4)\n",
    "worksheet6.set_row(12, None, format4)\n",
    "worksheet6.set_row(13, None, format4)\n",
    "worksheet6.set_row(14, None, format4)\n",
    "worksheet6.set_row(15, None, format4)\n",
    "worksheet6.set_row(16, None, format4)\n",
    "worksheet6.set_row(17, None, format4)\n",
    "worksheet6.set_row(18, None, format4)\n",
    "worksheet6.set_row(19, None, format4)\n",
    "worksheet6.set_row(20, None, format4)\n",
    "\n",
    "worksheet7.set_column('A:A', 10)\n",
    "worksheet7.set_column('B:E', 18)\n",
    "worksheet7.set_row(1, None, format3)\n",
    "worksheet7.set_row(2, None, format4)\n",
    "worksheet7.set_row(3, None, format4)\n",
    "worksheet7.set_row(4, None, format4)\n",
    "worksheet7.set_row(5, None, format4)\n",
    "worksheet7.set_row(6, None, format4)\n",
    "worksheet7.set_row(7, None, format4)\n",
    "worksheet7.set_row(8, None, format4)\n",
    "worksheet7.set_row(9, None, format4)\n",
    "\n",
    "worksheet8.set_column('A:A', 10)\n",
    "worksheet8.set_column('B:E', 18)\n",
    "worksheet8.set_row(1, None, format3)\n",
    "worksheet8.set_row(2, None, format4)\n",
    "worksheet8.set_row(3, None, format4)\n",
    "worksheet8.set_row(4, None, format4)\n",
    "worksheet8.set_row(5, None, format4)\n",
    "worksheet8.set_row(6, None, format4)\n",
    "worksheet8.set_row(7, None, format4)\n",
    "worksheet8.set_row(8, None, format4)\n",
    "worksheet8.set_row(9, None, format4)\n",
    "worksheet8.set_row(10, None, format4)\n",
    "worksheet8.set_row(11, None, format4)\n",
    "worksheet8.set_row(12, None, format4)\n",
    "worksheet8.set_row(13, None, format4)\n",
    "worksheet8.set_row(14, None, format4)\n",
    "worksheet8.set_row(15, None, format4)\n",
    "worksheet8.set_row(16, None, format4)\n",
    "worksheet8.set_row(17, None, format4)\n",
    "worksheet8.set_row(18, None, format4)\n",
    "worksheet8.set_row(19, None, format4)\n",
    "worksheet8.set_row(20, None, format4)\n",
    "worksheet8.set_row(21, None, format4)\n",
    "worksheet8.set_row(22, None, format4)\n",
    "worksheet8.set_row(23, None, format4)\n",
    "worksheet8.set_row(24, None, format4)\n",
    "worksheet8.set_row(25, None, format4)\n",
    "worksheet8.set_row(26, None, format4)\n",
    "worksheet8.set_row(27, None, format4)\n",
    "worksheet8.set_row(28, None, format4)\n",
    "worksheet8.set_row(29, None, format4)\n",
    "worksheet8.set_row(30, None, format4)\n",
    "worksheet8.set_row(31, None, format4)\n",
    "worksheet8.set_row(32, None, format4)\n",
    "worksheet8.set_row(33, None, format4)\n",
    "worksheet8.set_row(34, None, format4)\n",
    "worksheet8.set_row(35, None, format4)\n",
    "worksheet8.set_row(36, None, format4)\n",
    "worksheet8.set_row(37, None, format4)\n",
    "worksheet8.set_row(38, None, format4)\n",
    "worksheet8.set_row(39, None, format4)\n",
    "worksheet8.set_row(40, None, format4)\n",
    "worksheet8.set_row(41, None, format4)\n",
    "worksheet8.set_row(42, None, format4)\n",
    "worksheet8.set_row(43, None, format4)\n",
    "worksheet8.set_row(44, None, format4)\n",
    "worksheet8.set_row(45, None, format4)\n",
    "worksheet8.set_row(46, None, format4)\n",
    "worksheet8.set_row(47, None, format4)\n",
    "worksheet8.set_row(48, None, format4)\n",
    "worksheet8.set_row(49, None, format4)\n",
    "worksheet8.set_row(50, None, format4)\n",
    "worksheet8.set_row(51, None, format4)\n",
    "worksheet8.set_row(52, None, format4)\n",
    "worksheet8.set_row(53, None, format4)\n",
    "worksheet8.set_row(54, None, format4)\n",
    "worksheet8.set_row(55, None, format4)\n",
    "worksheet8.set_row(56, None, format4)\n",
    "worksheet8.set_row(57, None, format4)\n",
    "\n",
    "#dont write until you check the code then remove the # below\n",
    "writer.save()"
   ]
  },
  {
   "cell_type": "code",
   "execution_count": null,
   "metadata": {},
   "outputs": [],
   "source": []
  }
 ],
 "metadata": {
  "kernelspec": {
   "display_name": "Python 3",
   "language": "python",
   "name": "python3"
  },
  "language_info": {
   "codemirror_mode": {
    "name": "ipython",
    "version": 3
   },
   "file_extension": ".py",
   "mimetype": "text/x-python",
   "name": "python",
   "nbconvert_exporter": "python",
   "pygments_lexer": "ipython3",
   "version": "3.6.5"
  }
 },
 "nbformat": 4,
 "nbformat_minor": 2
}
