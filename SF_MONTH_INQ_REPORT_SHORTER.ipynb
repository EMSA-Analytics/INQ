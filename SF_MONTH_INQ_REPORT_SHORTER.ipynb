{
 "cells": [
  {
   "cell_type": "code",
   "execution_count": 1,
   "metadata": {},
   "outputs": [],
   "source": [
    "#This is the functional Version. Use this for creating the report\n",
    "import numpy as np\n",
    "import pandas as pd\n",
    "import matplotlib.pyplot as plt\n",
    "import seaborn as sns\n",
    "%matplotlib inline"
   ]
  },
  {
   "cell_type": "code",
   "execution_count": 2,
   "metadata": {},
   "outputs": [],
   "source": [
    "#disable warnings\n",
    "import warnings; warnings.simplefilter('ignore')"
   ]
  },
  {
   "cell_type": "markdown",
   "metadata": {},
   "source": [
    "The source files for this script are SalesForce reports Interactions.Contacts.csv and Interactions.Opportunity.Term.csv. The source files have to be stored in a NON-GIT folder so that they will never be available to git hub. Whenever the source files are updated into box the old source files should be placed in a depreciated state in a different folder. This script therefore will always pull the most recent Salesforce report results.\n"
   ]
  },
  {
   "cell_type": "code",
   "execution_count": 3,
   "metadata": {},
   "outputs": [],
   "source": [
    "#INT is the contact information for INTERACTIONS\n",
    "INT=pd.read_csv('C:/Users/mjc341/Desktop/UMAN 1507 Monthly INQ summary Report/Interactions.Contacts1.csv',skipfooter=5,encoding='latin-1',engine ='python')\n",
    "#INT=pd.read_csv('C:/Users/sxh706/Desktop/Interactions.by.Month/2018/August/Interactions.Contacts1.csv',skipfooter=5,encoding='latin-1',engine ='python')"
   ]
  },
  {
   "cell_type": "markdown",
   "metadata": {},
   "source": [
    "Please Use a new dataframe name if you are going to break any code\n",
    "\n"
   ]
  },
  {
   "cell_type": "code",
   "execution_count": 4,
   "metadata": {},
   "outputs": [],
   "source": [
    "#CON is the CONTACT TERM information\n",
    "CON=pd.read_csv('C:/Users/mjc341/Desktop/UMAN 1507 Monthly INQ summary Report/Interactions.Opportunity.Term.csv',skipfooter=5,encoding='latin-1',engine ='python')\n",
    "#CON=pd.read_csv('C:/Users/sxh706/Desktop/Interactions.by.Month/2018/August/Interactions.Opportunity.Term.csv',skipfooter=5,encoding='latin-1',engine ='python')"
   ]
  },
  {
   "cell_type": "code",
   "execution_count": 5,
   "metadata": {},
   "outputs": [
    {
     "data": {
      "text/plain": [
       "1321215"
      ]
     },
     "execution_count": 5,
     "metadata": {},
     "output_type": "execute_result"
    }
   ],
   "source": [
    "len(INT)"
   ]
  },
  {
   "cell_type": "code",
   "execution_count": 6,
   "metadata": {},
   "outputs": [
    {
     "data": {
      "text/plain": [
       "818555"
      ]
     },
     "execution_count": 6,
     "metadata": {},
     "output_type": "execute_result"
    }
   ],
   "source": [
    "len(CON)"
   ]
  },
  {
   "cell_type": "code",
   "execution_count": 7,
   "metadata": {},
   "outputs": [],
   "source": [
    "#INT.info()"
   ]
  },
  {
   "cell_type": "code",
   "execution_count": 8,
   "metadata": {},
   "outputs": [
    {
     "data": {
      "text/plain": [
       "Index(['Contact: Contact ID (18-digit)', 'Interaction: Interaction Name',\n",
       "       'Admit Type', 'Contact: EMPLID', 'Contact: First Name',\n",
       "       'Contact: Middle Name', 'Contact: Last Name', 'Contact: Ethnic Group',\n",
       "       'Contact: Ethnicity', 'Contact: Gender', 'Term', 'Lead Source',\n",
       "       'Interaction: Created Date', 'Contact: Mailing Street',\n",
       "       'Contact: Mailing City', 'Contact: Mailing State/Province',\n",
       "       'Contact: Mailing Zip/Postal Code', 'Contact: Mailing Country',\n",
       "       'Contact: Other City', 'Contact: Other State/Province',\n",
       "       'Contact: Other Zip/Postal Code', 'Contact: Other Country',\n",
       "       'Contact: Market Segment Code', 'Contact: Market Segment'],\n",
       "      dtype='object')"
      ]
     },
     "execution_count": 8,
     "metadata": {},
     "output_type": "execute_result"
    }
   ],
   "source": [
    "INT.columns"
   ]
  },
  {
   "cell_type": "code",
   "execution_count": 9,
   "metadata": {},
   "outputs": [
    {
     "data": {
      "text/plain": [
       "Index(['Contact ID (18-digit)', 'Full Name', 'Opportunity Name',\n",
       "       'Term: Term Name', 'Opportunity Record Type', 'Inquiry', 'Inquiry Date',\n",
       "       'Opportunity ID (18-digit)', 'Empl ID', 'Application Number'],\n",
       "      dtype='object')"
      ]
     },
     "execution_count": 9,
     "metadata": {},
     "output_type": "execute_result"
    }
   ],
   "source": [
    "CON.columns"
   ]
  },
  {
   "cell_type": "code",
   "execution_count": 10,
   "metadata": {},
   "outputs": [],
   "source": [
    "#CON.info()"
   ]
  },
  {
   "cell_type": "code",
   "execution_count": 11,
   "metadata": {},
   "outputs": [],
   "source": [
    "#remove columns with identifing info\n",
    "CON = CON.drop(columns =['Full Name'])"
   ]
  },
  {
   "cell_type": "code",
   "execution_count": 12,
   "metadata": {},
   "outputs": [],
   "source": [
    "#remove columns with identifing info\n",
    "INT = INT.drop(columns= ['Contact: First Name', 'Contact: Middle Name',\n",
    "       'Contact: Last Name'])"
   ]
  },
  {
   "cell_type": "code",
   "execution_count": 13,
   "metadata": {},
   "outputs": [],
   "source": [
    "#changed the name of columns using a dictionary\n",
    "INT = INT.rename(columns ={'Contact: Contact ID (18-digit)':'Contact_ID','Interaction: Interaction Name':'Int_Name',\n",
    "       'Admit Type':'Admit_Type','Contact: EMPLID': 'EMPLID','Contact: Ethnic Group': 'Ethnic_Group', 'Contact: Ethnicity':'Ethnicity',\n",
    "       'Contact: Gender':'Gender', 'Term':'Term', 'Lead Source':'Lead_Source', 'Interaction: Created Date':'Create_Date',\n",
    "       'Contact: Mailing Street':'Mailing_Street', 'Contact: Mailing City':'Mailing_City',\n",
    "       'Contact: Mailing State/Province':'Mailing_State', 'Contact: Mailing Zip/Postal Code':'Mailing_Postal',\n",
    "       'Contact: Mailing Country':'Mailing_Country', 'Contact: Other City':'Other_City',\n",
    "       'Contact: Other State/Province':'Other_State', 'Contact: Other Zip/Postal Code':'Other_Postal',\n",
    "       'Contact: Other Country':'Mailing_Country', 'Contact: Market Segment Code':'Market_Segment_Code',\n",
    "       'Contact: Market Segment':'Market_Segment'},inplace =False)"
   ]
  },
  {
   "cell_type": "code",
   "execution_count": 14,
   "metadata": {},
   "outputs": [],
   "source": [
    "#changed the name of columns\n",
    "CON = CON.rename(columns={  'Contact ID (18-digit)':'Contact_ID', 'Opportunity Name':'OppName', \n",
    "       'Term: Term Name':'CONTerm', 'Opportunity Record Type':'Record_Type', 'Inquiry':'Inquiry', 'Inquiry Date':'Inquiry_Date',\n",
    "       'Opportunity ID (18-digit)':'Opp_ID', 'Empl ID':'EMPL', 'Application Number':'App_Number'})"
   ]
  },
  {
   "cell_type": "code",
   "execution_count": 15,
   "metadata": {},
   "outputs": [],
   "source": [
    "#Sort INT by Contact_ID and Interaction Names\n",
    "INT = INT.sort_values(by = ['Contact_ID','Int_Name'])"
   ]
  },
  {
   "cell_type": "code",
   "execution_count": 16,
   "metadata": {},
   "outputs": [],
   "source": [
    "#Sort CON by Contact_ID and Opportunity Name\n",
    "CON = CON.sort_values(by = ['Contact_ID','Inquiry_Date'])"
   ]
  },
  {
   "cell_type": "code",
   "execution_count": 17,
   "metadata": {},
   "outputs": [],
   "source": [
    "#Dropping the duplicates to then merge later\n",
    "CON=CON.drop_duplicates(['Contact_ID'], keep='last')"
   ]
  },
  {
   "cell_type": "code",
   "execution_count": 18,
   "metadata": {},
   "outputs": [],
   "source": [
    "#Inner Join\n",
    "INNER_INT = pd.merge(left = INT, right = CON, left_on= 'Contact_ID', right_on = 'Contact_ID')"
   ]
  },
  {
   "cell_type": "code",
   "execution_count": 19,
   "metadata": {},
   "outputs": [
    {
     "data": {
      "text/plain": [
       "1090116"
      ]
     },
     "execution_count": 19,
     "metadata": {},
     "output_type": "execute_result"
    }
   ],
   "source": [
    "len(INNER_INT)"
   ]
  },
  {
   "cell_type": "markdown",
   "metadata": {},
   "source": [
    "INT has been MERGED with CON on Contact_ID this will allow us to find one TERM for each contact ID"
   ]
  },
  {
   "cell_type": "code",
   "execution_count": 20,
   "metadata": {},
   "outputs": [
    {
     "data": {
      "text/html": [
       "<div>\n",
       "<style scoped>\n",
       "    .dataframe tbody tr th:only-of-type {\n",
       "        vertical-align: middle;\n",
       "    }\n",
       "\n",
       "    .dataframe tbody tr th {\n",
       "        vertical-align: top;\n",
       "    }\n",
       "\n",
       "    .dataframe thead th {\n",
       "        text-align: right;\n",
       "    }\n",
       "</style>\n",
       "<table border=\"1\" class=\"dataframe\">\n",
       "  <thead>\n",
       "    <tr style=\"text-align: right;\">\n",
       "      <th></th>\n",
       "      <th>Contact_ID</th>\n",
       "      <th>Int_Name</th>\n",
       "      <th>Admit_Type</th>\n",
       "      <th>EMPLID</th>\n",
       "      <th>Ethnic_Group</th>\n",
       "      <th>Ethnicity</th>\n",
       "      <th>Gender</th>\n",
       "      <th>Term</th>\n",
       "      <th>Lead_Source</th>\n",
       "      <th>Create_Date</th>\n",
       "      <th>...</th>\n",
       "      <th>Market_Segment_Code</th>\n",
       "      <th>Market_Segment</th>\n",
       "      <th>OppName</th>\n",
       "      <th>CONTerm</th>\n",
       "      <th>Record_Type</th>\n",
       "      <th>Inquiry</th>\n",
       "      <th>Inquiry_Date</th>\n",
       "      <th>Opp_ID</th>\n",
       "      <th>EMPL</th>\n",
       "      <th>App_Number</th>\n",
       "    </tr>\n",
       "  </thead>\n",
       "  <tbody>\n",
       "    <tr>\n",
       "      <th>0</th>\n",
       "      <td>0031500001d4Si8AAE</td>\n",
       "      <td>20160320-0100599</td>\n",
       "      <td>New Student</td>\n",
       "      <td>NaN</td>\n",
       "      <td>NaN</td>\n",
       "      <td>NaN</td>\n",
       "      <td>Female</td>\n",
       "      <td>Fall 2015</td>\n",
       "      <td>Purchased List</td>\n",
       "      <td>1/4/2013</td>\n",
       "      <td>...</td>\n",
       "      <td>NaN</td>\n",
       "      <td>NaN</td>\n",
       "      <td>fernandez - Fall 2017</td>\n",
       "      <td>Fall 2017</td>\n",
       "      <td>UGrad Inquiry</td>\n",
       "      <td>1.0</td>\n",
       "      <td>3/21/2016</td>\n",
       "      <td>0061500000T62QTAAZ</td>\n",
       "      <td>NaN</td>\n",
       "      <td>NaN</td>\n",
       "    </tr>\n",
       "  </tbody>\n",
       "</table>\n",
       "<p>1 rows × 29 columns</p>\n",
       "</div>"
      ],
      "text/plain": [
       "           Contact_ID          Int_Name   Admit_Type  EMPLID Ethnic_Group  \\\n",
       "0  0031500001d4Si8AAE  20160320-0100599  New Student     NaN          NaN   \n",
       "\n",
       "  Ethnicity  Gender       Term     Lead_Source Create_Date    ...      \\\n",
       "0       NaN  Female  Fall 2015  Purchased List    1/4/2013    ...       \n",
       "\n",
       "  Market_Segment_Code Market_Segment                OppName    CONTerm  \\\n",
       "0                 NaN            NaN  fernandez - Fall 2017  Fall 2017   \n",
       "\n",
       "     Record_Type Inquiry Inquiry_Date              Opp_ID EMPL App_Number  \n",
       "0  UGrad Inquiry     1.0    3/21/2016  0061500000T62QTAAZ  NaN        NaN  \n",
       "\n",
       "[1 rows x 29 columns]"
      ]
     },
     "execution_count": 20,
     "metadata": {},
     "output_type": "execute_result"
    }
   ],
   "source": [
    "INNER_INT.head(1)"
   ]
  },
  {
   "cell_type": "markdown",
   "metadata": {},
   "source": [
    "INNER_INT now has a nested tuple multiple index as a result of the merge. Have to create a unique key and replace the index"
   ]
  },
  {
   "cell_type": "code",
   "execution_count": 21,
   "metadata": {},
   "outputs": [
    {
     "data": {
      "text/plain": [
       "383510"
      ]
     },
     "execution_count": 21,
     "metadata": {},
     "output_type": "execute_result"
    }
   ],
   "source": [
    "INNER_INT.Contact_ID.duplicated().sum()"
   ]
  },
  {
   "cell_type": "code",
   "execution_count": 22,
   "metadata": {},
   "outputs": [
    {
     "data": {
      "text/plain": [
       "dtype('O')"
      ]
     },
     "execution_count": 22,
     "metadata": {},
     "output_type": "execute_result"
    }
   ],
   "source": [
    "N = list(range(0,1090116))\n",
    "INNER_INT['NEW'] = N\n",
    "INNER_INT['NEW'] = INNER_INT['NEW'].astype(str)\n",
    "INNER_INT['NEW'].dtype"
   ]
  },
  {
   "cell_type": "code",
   "execution_count": 23,
   "metadata": {},
   "outputs": [
    {
     "data": {
      "text/plain": [
       "0"
      ]
     },
     "execution_count": 23,
     "metadata": {},
     "output_type": "execute_result"
    }
   ],
   "source": [
    "INNER_INT['NEW_INDEX'] = INNER_INT['Contact_ID']+INNER_INT['NEW']\n",
    "INNER_INT.NEW_INDEX.duplicated().sum()"
   ]
  },
  {
   "cell_type": "code",
   "execution_count": 24,
   "metadata": {},
   "outputs": [
    {
     "data": {
      "text/plain": [
       "(1090116, 30)"
      ]
     },
     "execution_count": 24,
     "metadata": {},
     "output_type": "execute_result"
    }
   ],
   "source": [
    "INNER_INT.set_index(['NEW_INDEX'], inplace=True)\n",
    "INNER_INT.shape"
   ]
  },
  {
   "cell_type": "markdown",
   "metadata": {},
   "source": [
    "Create an IPEDS Ethnicity column by combining ethnic group and ethnicity and using a dictionary to assign IPEDS values"
   ]
  },
  {
   "cell_type": "code",
   "execution_count": 25,
   "metadata": {},
   "outputs": [],
   "source": [
    "INNER_INT['ETH'] = np.where(pd.isnull(INNER_INT['Ethnic_Group']), INNER_INT['Ethnicity'], INNER_INT['Ethnic_Group'])"
   ]
  },
  {
   "cell_type": "code",
   "execution_count": 26,
   "metadata": {},
   "outputs": [],
   "source": [
    "IPEDSETH_DICT = {'Caucasian':'White', 'WHITE':'White','Not specified':'Unknown','Hispanic':'Hispanic/Latino'\n",
    "                 ,'Black/African American':'Black/African American'\n",
    "                 ,'Asian/Asian American/Pacific Islander':'Asian','ASIAN':'Asian','BLACK':'Black/African American'\n",
    "                 ,'NSPEC':'Unknown','Multi-Ethnic':'Two or More Races'\n",
    "                 ,'Other':'Unknown','SOAMER':'Hispanic/Latino','PUERTOR':'Hispanic/Latino'\n",
    "                 ,'CENTAMER':'Hispanic/Latino','MEXAMER':'Hispanic/Latino'\n",
    "                 ,'CUBAN':'Hispanic/Latino', 'HISPA':'Hispanic/Latino'\n",
    "                 ,'American Indian/Alaskan Native':'American Indian/Alaska Native','NHISP':'Unknown'\n",
    "                 ,'PACIF':'Native Hawaiian/Other Pacific Islander','AMIND':'American Indian/Alaska Native'\n",
    "                 ,'SPANISH':'Hispanic/Latino'}"
   ]
  },
  {
   "cell_type": "code",
   "execution_count": 27,
   "metadata": {},
   "outputs": [],
   "source": [
    "INNER_INT['IPEDS'] = INNER_INT['ETH'].map(IPEDSETH_DICT)"
   ]
  },
  {
   "cell_type": "code",
   "execution_count": 28,
   "metadata": {},
   "outputs": [
    {
     "data": {
      "text/plain": [
       "White                                     476594\n",
       "NaN                                       203500\n",
       "Unknown                                   108888\n",
       "Black/African American                    100365\n",
       "Asian                                      94074\n",
       "Hispanic/Latino                            88426\n",
       "Two or More Races                          15595\n",
       "American Indian/Alaska Native               2123\n",
       "Native Hawaiian/Other Pacific Islander       551\n",
       "Name: IPEDS, dtype: int64"
      ]
     },
     "execution_count": 28,
     "metadata": {},
     "output_type": "execute_result"
    }
   ],
   "source": [
    "INNER_INT['IPEDS'].value_counts(dropna=False)"
   ]
  },
  {
   "cell_type": "code",
   "execution_count": 29,
   "metadata": {},
   "outputs": [],
   "source": [
    "INNER_INT['IPEDS2'] = np.where(pd.isnull(INNER_INT['IPEDS']), \"Unknown\", INNER_INT['IPEDS'])"
   ]
  },
  {
   "cell_type": "code",
   "execution_count": 30,
   "metadata": {},
   "outputs": [
    {
     "data": {
      "text/html": [
       "<div>\n",
       "<style scoped>\n",
       "    .dataframe tbody tr th:only-of-type {\n",
       "        vertical-align: middle;\n",
       "    }\n",
       "\n",
       "    .dataframe tbody tr th {\n",
       "        vertical-align: top;\n",
       "    }\n",
       "\n",
       "    .dataframe thead th {\n",
       "        text-align: right;\n",
       "    }\n",
       "</style>\n",
       "<table border=\"1\" class=\"dataframe\">\n",
       "  <thead>\n",
       "    <tr style=\"text-align: right;\">\n",
       "      <th></th>\n",
       "      <th>Contact_ID</th>\n",
       "      <th>Int_Name</th>\n",
       "      <th>Admit_Type</th>\n",
       "      <th>EMPLID</th>\n",
       "      <th>Ethnic_Group</th>\n",
       "      <th>Ethnicity</th>\n",
       "      <th>Gender</th>\n",
       "      <th>Term</th>\n",
       "      <th>Lead_Source</th>\n",
       "      <th>Create_Date</th>\n",
       "      <th>...</th>\n",
       "      <th>Record_Type</th>\n",
       "      <th>Inquiry</th>\n",
       "      <th>Inquiry_Date</th>\n",
       "      <th>Opp_ID</th>\n",
       "      <th>EMPL</th>\n",
       "      <th>App_Number</th>\n",
       "      <th>NEW</th>\n",
       "      <th>ETH</th>\n",
       "      <th>IPEDS</th>\n",
       "      <th>IPEDS2</th>\n",
       "    </tr>\n",
       "    <tr>\n",
       "      <th>NEW_INDEX</th>\n",
       "      <th></th>\n",
       "      <th></th>\n",
       "      <th></th>\n",
       "      <th></th>\n",
       "      <th></th>\n",
       "      <th></th>\n",
       "      <th></th>\n",
       "      <th></th>\n",
       "      <th></th>\n",
       "      <th></th>\n",
       "      <th></th>\n",
       "      <th></th>\n",
       "      <th></th>\n",
       "      <th></th>\n",
       "      <th></th>\n",
       "      <th></th>\n",
       "      <th></th>\n",
       "      <th></th>\n",
       "      <th></th>\n",
       "      <th></th>\n",
       "      <th></th>\n",
       "    </tr>\n",
       "  </thead>\n",
       "  <tbody>\n",
       "    <tr>\n",
       "      <th>0031500001d4Si8AAE0</th>\n",
       "      <td>0031500001d4Si8AAE</td>\n",
       "      <td>20160320-0100599</td>\n",
       "      <td>New Student</td>\n",
       "      <td>NaN</td>\n",
       "      <td>NaN</td>\n",
       "      <td>NaN</td>\n",
       "      <td>Female</td>\n",
       "      <td>Fall 2015</td>\n",
       "      <td>Purchased List</td>\n",
       "      <td>1/4/2013</td>\n",
       "      <td>...</td>\n",
       "      <td>UGrad Inquiry</td>\n",
       "      <td>1.0</td>\n",
       "      <td>3/21/2016</td>\n",
       "      <td>0061500000T62QTAAZ</td>\n",
       "      <td>NaN</td>\n",
       "      <td>NaN</td>\n",
       "      <td>0</td>\n",
       "      <td>NaN</td>\n",
       "      <td>NaN</td>\n",
       "      <td>Unknown</td>\n",
       "    </tr>\n",
       "    <tr>\n",
       "      <th>0031500001d4Si8AAE1</th>\n",
       "      <td>0031500001d4Si8AAE</td>\n",
       "      <td>20160320-1020622</td>\n",
       "      <td>New Student</td>\n",
       "      <td>NaN</td>\n",
       "      <td>NaN</td>\n",
       "      <td>NaN</td>\n",
       "      <td>Female</td>\n",
       "      <td>Fall 2017</td>\n",
       "      <td>College Fair</td>\n",
       "      <td>11/19/2015</td>\n",
       "      <td>...</td>\n",
       "      <td>UGrad Inquiry</td>\n",
       "      <td>1.0</td>\n",
       "      <td>3/21/2016</td>\n",
       "      <td>0061500000T62QTAAZ</td>\n",
       "      <td>NaN</td>\n",
       "      <td>NaN</td>\n",
       "      <td>1</td>\n",
       "      <td>NaN</td>\n",
       "      <td>NaN</td>\n",
       "      <td>Unknown</td>\n",
       "    </tr>\n",
       "    <tr>\n",
       "      <th>0031500001d4Si9AAE2</th>\n",
       "      <td>0031500001d4Si9AAE</td>\n",
       "      <td>20160320-0159926</td>\n",
       "      <td>New Student</td>\n",
       "      <td>NaN</td>\n",
       "      <td>NaN</td>\n",
       "      <td>Hispanic</td>\n",
       "      <td>Female</td>\n",
       "      <td>Fall 2016</td>\n",
       "      <td>UGrad Campus Visit Check-in Form</td>\n",
       "      <td>3/28/2013</td>\n",
       "      <td>...</td>\n",
       "      <td>UGrad Inquiry</td>\n",
       "      <td>1.0</td>\n",
       "      <td>3/21/2016</td>\n",
       "      <td>0061500000T5bWTAAZ</td>\n",
       "      <td>NaN</td>\n",
       "      <td>NaN</td>\n",
       "      <td>2</td>\n",
       "      <td>Hispanic</td>\n",
       "      <td>Hispanic/Latino</td>\n",
       "      <td>Hispanic/Latino</td>\n",
       "    </tr>\n",
       "  </tbody>\n",
       "</table>\n",
       "<p>3 rows × 33 columns</p>\n",
       "</div>"
      ],
      "text/plain": [
       "                             Contact_ID          Int_Name   Admit_Type  \\\n",
       "NEW_INDEX                                                                \n",
       "0031500001d4Si8AAE0  0031500001d4Si8AAE  20160320-0100599  New Student   \n",
       "0031500001d4Si8AAE1  0031500001d4Si8AAE  20160320-1020622  New Student   \n",
       "0031500001d4Si9AAE2  0031500001d4Si9AAE  20160320-0159926  New Student   \n",
       "\n",
       "                     EMPLID Ethnic_Group Ethnicity  Gender       Term  \\\n",
       "NEW_INDEX                                                               \n",
       "0031500001d4Si8AAE0     NaN          NaN       NaN  Female  Fall 2015   \n",
       "0031500001d4Si8AAE1     NaN          NaN       NaN  Female  Fall 2017   \n",
       "0031500001d4Si9AAE2     NaN          NaN  Hispanic  Female  Fall 2016   \n",
       "\n",
       "                                          Lead_Source Create_Date  \\\n",
       "NEW_INDEX                                                           \n",
       "0031500001d4Si8AAE0                    Purchased List    1/4/2013   \n",
       "0031500001d4Si8AAE1                      College Fair  11/19/2015   \n",
       "0031500001d4Si9AAE2  UGrad Campus Visit Check-in Form   3/28/2013   \n",
       "\n",
       "                          ...           Record_Type Inquiry Inquiry_Date  \\\n",
       "NEW_INDEX                 ...                                              \n",
       "0031500001d4Si8AAE0       ...         UGrad Inquiry     1.0    3/21/2016   \n",
       "0031500001d4Si8AAE1       ...         UGrad Inquiry     1.0    3/21/2016   \n",
       "0031500001d4Si9AAE2       ...         UGrad Inquiry     1.0    3/21/2016   \n",
       "\n",
       "                                 Opp_ID EMPL App_Number NEW       ETH  \\\n",
       "NEW_INDEX                                                               \n",
       "0031500001d4Si8AAE0  0061500000T62QTAAZ  NaN        NaN   0       NaN   \n",
       "0031500001d4Si8AAE1  0061500000T62QTAAZ  NaN        NaN   1       NaN   \n",
       "0031500001d4Si9AAE2  0061500000T5bWTAAZ  NaN        NaN   2  Hispanic   \n",
       "\n",
       "                               IPEDS           IPEDS2  \n",
       "NEW_INDEX                                              \n",
       "0031500001d4Si8AAE0              NaN          Unknown  \n",
       "0031500001d4Si8AAE1              NaN          Unknown  \n",
       "0031500001d4Si9AAE2  Hispanic/Latino  Hispanic/Latino  \n",
       "\n",
       "[3 rows x 33 columns]"
      ]
     },
     "execution_count": 30,
     "metadata": {},
     "output_type": "execute_result"
    }
   ],
   "source": [
    "INNER_INT.head(3)"
   ]
  },
  {
   "cell_type": "code",
   "execution_count": 31,
   "metadata": {},
   "outputs": [
    {
     "data": {
      "text/plain": [
       "White                                     476594\n",
       "Unknown                                   312388\n",
       "Black/African American                    100365\n",
       "Asian                                      94074\n",
       "Hispanic/Latino                            88426\n",
       "Two or More Races                          15595\n",
       "American Indian/Alaska Native               2123\n",
       "Native Hawaiian/Other Pacific Islander       551\n",
       "Name: IPEDS2, dtype: int64"
      ]
     },
     "execution_count": 31,
     "metadata": {},
     "output_type": "execute_result"
    }
   ],
   "source": [
    "INNER_INT['IPEDS2'].value_counts(dropna=False)"
   ]
  },
  {
   "cell_type": "markdown",
   "metadata": {},
   "source": [
    "Return to previous code string and create all of the date variables"
   ]
  },
  {
   "cell_type": "code",
   "execution_count": 32,
   "metadata": {},
   "outputs": [],
   "source": [
    "# Create a datetime variable from Create_Date this operation takes up to 3 min\n",
    "#INT['Create_Date']= pd.to_datetime(INT.Create_Date)\n",
    "INNER_INT['Create_Date']= pd.to_datetime(INNER_INT.Create_Date)"
   ]
  },
  {
   "cell_type": "code",
   "execution_count": 33,
   "metadata": {},
   "outputs": [],
   "source": [
    "#INT.info()"
   ]
  },
  {
   "cell_type": "code",
   "execution_count": 34,
   "metadata": {},
   "outputs": [
    {
     "data": {
      "text/plain": [
       "Timestamp('2001-08-06 00:00:00')"
      ]
     },
     "execution_count": 34,
     "metadata": {},
     "output_type": "execute_result"
    }
   ],
   "source": [
    "#find earliest create date\n",
    "#INT['Create_Date'].min()\n",
    "INNER_INT['Create_Date'].min()"
   ]
  },
  {
   "cell_type": "markdown",
   "metadata": {},
   "source": [
    "Here we will insert the lambda function to extract the YEAR and MONTH from the new datetime type so we can filter on YEAR and groupby MONTH also add M col that can be dictionaried to Names of MONTHS instead of numbers. Question can we format the month names at the conversion?"
   ]
  },
  {
   "cell_type": "code",
   "execution_count": 37,
   "metadata": {},
   "outputs": [],
   "source": [
    "#INT.loc[:,'YEAR'] =INT['Create_Date'].apply(lambda x: \"%d\" % (x.year))\n",
    "INNER_INT.loc[:,'YEAR'] =INNER_INT['Create_Date'].apply(lambda x: \"%d\" % (x.year))"
   ]
  },
  {
   "cell_type": "code",
   "execution_count": 38,
   "metadata": {},
   "outputs": [],
   "source": [
    "#INT.loc[:,'MONTH'] = INT['Create_Date'].apply(lambda x: \"%d\" % (x.month))\n",
    "INNER_INT.loc[:,'MONTH'] = INNER_INT['Create_Date'].apply(lambda x: \"%d\" % (x.month))"
   ]
  },
  {
   "cell_type": "code",
   "execution_count": 39,
   "metadata": {},
   "outputs": [
    {
     "data": {
      "text/html": [
       "<div>\n",
       "<style scoped>\n",
       "    .dataframe tbody tr th:only-of-type {\n",
       "        vertical-align: middle;\n",
       "    }\n",
       "\n",
       "    .dataframe tbody tr th {\n",
       "        vertical-align: top;\n",
       "    }\n",
       "\n",
       "    .dataframe thead th {\n",
       "        text-align: right;\n",
       "    }\n",
       "</style>\n",
       "<table border=\"1\" class=\"dataframe\">\n",
       "  <thead>\n",
       "    <tr style=\"text-align: right;\">\n",
       "      <th></th>\n",
       "      <th>Contact_ID</th>\n",
       "      <th>Int_Name</th>\n",
       "      <th>Admit_Type</th>\n",
       "      <th>EMPLID</th>\n",
       "      <th>Ethnic_Group</th>\n",
       "      <th>Ethnicity</th>\n",
       "      <th>Gender</th>\n",
       "      <th>Term</th>\n",
       "      <th>Lead_Source</th>\n",
       "      <th>Create_Date</th>\n",
       "      <th>...</th>\n",
       "      <th>Inquiry_Date</th>\n",
       "      <th>Opp_ID</th>\n",
       "      <th>EMPL</th>\n",
       "      <th>App_Number</th>\n",
       "      <th>NEW</th>\n",
       "      <th>ETH</th>\n",
       "      <th>IPEDS</th>\n",
       "      <th>IPEDS2</th>\n",
       "      <th>YEAR</th>\n",
       "      <th>MONTH</th>\n",
       "    </tr>\n",
       "    <tr>\n",
       "      <th>NEW_INDEX</th>\n",
       "      <th></th>\n",
       "      <th></th>\n",
       "      <th></th>\n",
       "      <th></th>\n",
       "      <th></th>\n",
       "      <th></th>\n",
       "      <th></th>\n",
       "      <th></th>\n",
       "      <th></th>\n",
       "      <th></th>\n",
       "      <th></th>\n",
       "      <th></th>\n",
       "      <th></th>\n",
       "      <th></th>\n",
       "      <th></th>\n",
       "      <th></th>\n",
       "      <th></th>\n",
       "      <th></th>\n",
       "      <th></th>\n",
       "      <th></th>\n",
       "      <th></th>\n",
       "    </tr>\n",
       "  </thead>\n",
       "  <tbody>\n",
       "    <tr>\n",
       "      <th>0031500001d4Si8AAE0</th>\n",
       "      <td>0031500001d4Si8AAE</td>\n",
       "      <td>20160320-0100599</td>\n",
       "      <td>New Student</td>\n",
       "      <td>NaN</td>\n",
       "      <td>NaN</td>\n",
       "      <td>NaN</td>\n",
       "      <td>Female</td>\n",
       "      <td>Fall 2015</td>\n",
       "      <td>Purchased List</td>\n",
       "      <td>2013-01-04</td>\n",
       "      <td>...</td>\n",
       "      <td>3/21/2016</td>\n",
       "      <td>0061500000T62QTAAZ</td>\n",
       "      <td>NaN</td>\n",
       "      <td>NaN</td>\n",
       "      <td>0</td>\n",
       "      <td>NaN</td>\n",
       "      <td>NaN</td>\n",
       "      <td>Unknown</td>\n",
       "      <td>2013</td>\n",
       "      <td>1</td>\n",
       "    </tr>\n",
       "  </tbody>\n",
       "</table>\n",
       "<p>1 rows × 35 columns</p>\n",
       "</div>"
      ],
      "text/plain": [
       "                             Contact_ID          Int_Name   Admit_Type  \\\n",
       "NEW_INDEX                                                                \n",
       "0031500001d4Si8AAE0  0031500001d4Si8AAE  20160320-0100599  New Student   \n",
       "\n",
       "                     EMPLID Ethnic_Group Ethnicity  Gender       Term  \\\n",
       "NEW_INDEX                                                               \n",
       "0031500001d4Si8AAE0     NaN          NaN       NaN  Female  Fall 2015   \n",
       "\n",
       "                        Lead_Source Create_Date  ...  Inquiry_Date  \\\n",
       "NEW_INDEX                                        ...                 \n",
       "0031500001d4Si8AAE0  Purchased List  2013-01-04  ...     3/21/2016   \n",
       "\n",
       "                                 Opp_ID EMPL App_Number NEW  ETH IPEDS  \\\n",
       "NEW_INDEX                                                                \n",
       "0031500001d4Si8AAE0  0061500000T62QTAAZ  NaN        NaN   0  NaN   NaN   \n",
       "\n",
       "                      IPEDS2  YEAR MONTH  \n",
       "NEW_INDEX                                 \n",
       "0031500001d4Si8AAE0  Unknown  2013     1  \n",
       "\n",
       "[1 rows x 35 columns]"
      ]
     },
     "execution_count": 39,
     "metadata": {},
     "output_type": "execute_result"
    }
   ],
   "source": [
    "INNER_INT.head(1)"
   ]
  },
  {
   "cell_type": "code",
   "execution_count": 40,
   "metadata": {},
   "outputs": [],
   "source": [
    "# filter on term for 2017,2018,2019,2020\n",
    "#TERM2017 = INT.loc[(INT.Term == 'Fall 2017')]\n",
    "#TERM2018 = INT.loc[(INT.Term == 'Fall 2018')]\n",
    "#TERM2019 = INT.loc[(INT.Term == 'Fall 2019')]\n",
    "#TERM2020 = INT.loc[(INT.Term == 'Fall 2020')]\n",
    "TERM2017 = INNER_INT.loc[(INNER_INT.CONTerm == 'Fall 2017')]\n",
    "TERM2018 = INNER_INT.loc[(INNER_INT.CONTerm == 'Fall 2018')]\n",
    "TERM2019 = INNER_INT.loc[(INNER_INT.CONTerm == 'Fall 2019')]\n",
    "TERM2020 = INNER_INT.loc[(INNER_INT.CONTerm == 'Fall 2020')]"
   ]
  },
  {
   "cell_type": "code",
   "execution_count": 41,
   "metadata": {},
   "outputs": [
    {
     "data": {
      "text/plain": [
       "181852"
      ]
     },
     "execution_count": 41,
     "metadata": {},
     "output_type": "execute_result"
    }
   ],
   "source": [
    "len(TERM2017)"
   ]
  },
  {
   "cell_type": "code",
   "execution_count": 42,
   "metadata": {},
   "outputs": [
    {
     "data": {
      "text/plain": [
       "142061"
      ]
     },
     "execution_count": 42,
     "metadata": {},
     "output_type": "execute_result"
    }
   ],
   "source": [
    "len(TERM2018)"
   ]
  },
  {
   "cell_type": "code",
   "execution_count": 43,
   "metadata": {},
   "outputs": [
    {
     "data": {
      "text/plain": [
       "85884"
      ]
     },
     "execution_count": 43,
     "metadata": {},
     "output_type": "execute_result"
    }
   ],
   "source": [
    "len(TERM2019)"
   ]
  },
  {
   "cell_type": "code",
   "execution_count": 44,
   "metadata": {},
   "outputs": [
    {
     "data": {
      "text/plain": [
       "27579"
      ]
     },
     "execution_count": 44,
     "metadata": {},
     "output_type": "execute_result"
    }
   ],
   "source": [
    "len(TERM2020)"
   ]
  },
  {
   "cell_type": "code",
   "execution_count": 45,
   "metadata": {},
   "outputs": [],
   "source": [
    "#filter on YEAR for  2016,2017,2018,2019\n",
    "#INQ2017 df is inquiries made in 2016 for 2017 TERM\n",
    "INQ2017 = TERM2017[TERM2017['YEAR'] == '2016']\n",
    "INQ2018 = TERM2018[TERM2018['YEAR'] == '2017']\n",
    "INQ2019 = TERM2019[TERM2019['YEAR'] == '2018']\n",
    "INQ2020 = TERM2020[TERM2020['YEAR'] == '2018']\n",
    "INQ2017year2 = TERM2017[TERM2017['YEAR'] == '2017']\n",
    "INQ2018year2 = TERM2018[TERM2018['YEAR'] == '2017']\n",
    "INQ2019year2 = TERM2019[TERM2019['YEAR'] == '2018']"
   ]
  },
  {
   "cell_type": "code",
   "execution_count": 46,
   "metadata": {},
   "outputs": [
    {
     "data": {
      "text/plain": [
       "97634"
      ]
     },
     "execution_count": 46,
     "metadata": {},
     "output_type": "execute_result"
    }
   ],
   "source": [
    "len(INQ2017)"
   ]
  },
  {
   "cell_type": "code",
   "execution_count": 47,
   "metadata": {},
   "outputs": [
    {
     "data": {
      "text/plain": [
       "82881"
      ]
     },
     "execution_count": 47,
     "metadata": {},
     "output_type": "execute_result"
    }
   ],
   "source": [
    "len(INQ2018)"
   ]
  },
  {
   "cell_type": "code",
   "execution_count": 48,
   "metadata": {},
   "outputs": [
    {
     "data": {
      "text/plain": [
       "57691"
      ]
     },
     "execution_count": 48,
     "metadata": {},
     "output_type": "execute_result"
    }
   ],
   "source": [
    "len(INQ2019)"
   ]
  },
  {
   "cell_type": "code",
   "execution_count": 49,
   "metadata": {},
   "outputs": [
    {
     "data": {
      "text/plain": [
       "21159"
      ]
     },
     "execution_count": 49,
     "metadata": {},
     "output_type": "execute_result"
    }
   ],
   "source": [
    "len(INQ2020)"
   ]
  },
  {
   "cell_type": "code",
   "execution_count": 50,
   "metadata": {},
   "outputs": [
    {
     "data": {
      "text/html": [
       "<div>\n",
       "<style scoped>\n",
       "    .dataframe tbody tr th:only-of-type {\n",
       "        vertical-align: middle;\n",
       "    }\n",
       "\n",
       "    .dataframe tbody tr th {\n",
       "        vertical-align: top;\n",
       "    }\n",
       "\n",
       "    .dataframe thead th {\n",
       "        text-align: right;\n",
       "    }\n",
       "</style>\n",
       "<table border=\"1\" class=\"dataframe\">\n",
       "  <thead>\n",
       "    <tr style=\"text-align: right;\">\n",
       "      <th></th>\n",
       "      <th>Contact_ID</th>\n",
       "      <th>Int_Name</th>\n",
       "      <th>Admit_Type</th>\n",
       "      <th>EMPLID</th>\n",
       "      <th>Ethnic_Group</th>\n",
       "      <th>Ethnicity</th>\n",
       "      <th>Gender</th>\n",
       "      <th>Term</th>\n",
       "      <th>Lead_Source</th>\n",
       "      <th>Create_Date</th>\n",
       "      <th>...</th>\n",
       "      <th>Inquiry_Date</th>\n",
       "      <th>Opp_ID</th>\n",
       "      <th>EMPL</th>\n",
       "      <th>App_Number</th>\n",
       "      <th>NEW</th>\n",
       "      <th>ETH</th>\n",
       "      <th>IPEDS</th>\n",
       "      <th>IPEDS2</th>\n",
       "      <th>YEAR</th>\n",
       "      <th>MONTH</th>\n",
       "    </tr>\n",
       "    <tr>\n",
       "      <th>NEW_INDEX</th>\n",
       "      <th></th>\n",
       "      <th></th>\n",
       "      <th></th>\n",
       "      <th></th>\n",
       "      <th></th>\n",
       "      <th></th>\n",
       "      <th></th>\n",
       "      <th></th>\n",
       "      <th></th>\n",
       "      <th></th>\n",
       "      <th></th>\n",
       "      <th></th>\n",
       "      <th></th>\n",
       "      <th></th>\n",
       "      <th></th>\n",
       "      <th></th>\n",
       "      <th></th>\n",
       "      <th></th>\n",
       "      <th></th>\n",
       "      <th></th>\n",
       "      <th></th>\n",
       "    </tr>\n",
       "  </thead>\n",
       "  <tbody>\n",
       "    <tr>\n",
       "      <th>0031500001d4SiKAAU29</th>\n",
       "      <td>0031500001d4SiKAAU</td>\n",
       "      <td>20160320-0928828</td>\n",
       "      <td>New Student</td>\n",
       "      <td>NaN</td>\n",
       "      <td>NaN</td>\n",
       "      <td>Hispanic</td>\n",
       "      <td>Female</td>\n",
       "      <td>Fall 2017</td>\n",
       "      <td>Submitted Test Score</td>\n",
       "      <td>2016-02-22</td>\n",
       "      <td>...</td>\n",
       "      <td>3/21/2016</td>\n",
       "      <td>0061500000T66I6AAJ</td>\n",
       "      <td>NaN</td>\n",
       "      <td>NaN</td>\n",
       "      <td>29</td>\n",
       "      <td>Hispanic</td>\n",
       "      <td>Hispanic/Latino</td>\n",
       "      <td>Hispanic/Latino</td>\n",
       "      <td>2016</td>\n",
       "      <td>2</td>\n",
       "    </tr>\n",
       "  </tbody>\n",
       "</table>\n",
       "<p>1 rows × 35 columns</p>\n",
       "</div>"
      ],
      "text/plain": [
       "                              Contact_ID          Int_Name   Admit_Type  \\\n",
       "NEW_INDEX                                                                 \n",
       "0031500001d4SiKAAU29  0031500001d4SiKAAU  20160320-0928828  New Student   \n",
       "\n",
       "                      EMPLID Ethnic_Group Ethnicity  Gender       Term  \\\n",
       "NEW_INDEX                                                                \n",
       "0031500001d4SiKAAU29     NaN          NaN  Hispanic  Female  Fall 2017   \n",
       "\n",
       "                               Lead_Source Create_Date  ...  Inquiry_Date  \\\n",
       "NEW_INDEX                                               ...                 \n",
       "0031500001d4SiKAAU29  Submitted Test Score  2016-02-22  ...     3/21/2016   \n",
       "\n",
       "                                  Opp_ID EMPL App_Number NEW       ETH  \\\n",
       "NEW_INDEX                                                                \n",
       "0031500001d4SiKAAU29  0061500000T66I6AAJ  NaN        NaN  29  Hispanic   \n",
       "\n",
       "                                IPEDS           IPEDS2  YEAR MONTH  \n",
       "NEW_INDEX                                                           \n",
       "0031500001d4SiKAAU29  Hispanic/Latino  Hispanic/Latino  2016     2  \n",
       "\n",
       "[1 rows x 35 columns]"
      ]
     },
     "execution_count": 50,
     "metadata": {},
     "output_type": "execute_result"
    }
   ],
   "source": [
    "#show head of INQ2017 same for 2017,2018,2019\n",
    "INQ2017.head(1)"
   ]
  },
  {
   "cell_type": "code",
   "execution_count": 51,
   "metadata": {},
   "outputs": [
    {
     "data": {
      "text/plain": [
       "Index(['Contact_ID', 'Int_Name', 'Admit_Type', 'EMPLID', 'Ethnic_Group',\n",
       "       'Ethnicity', 'Gender', 'Term', 'Lead_Source', 'Create_Date',\n",
       "       'Mailing_Street', 'Mailing_City', 'Mailing_State', 'Mailing_Postal',\n",
       "       'Mailing_Country', 'Other_City', 'Other_State', 'Other_Postal',\n",
       "       'Mailing_Country', 'Market_Segment_Code', 'Market_Segment', 'OppName',\n",
       "       'CONTerm', 'Record_Type', 'Inquiry', 'Inquiry_Date', 'Opp_ID', 'EMPL',\n",
       "       'App_Number', 'NEW', 'ETH', 'IPEDS', 'IPEDS2', 'YEAR', 'MONTH'],\n",
       "      dtype='object')"
      ]
     },
     "execution_count": 51,
     "metadata": {},
     "output_type": "execute_result"
    }
   ],
   "source": [
    "INQ2017.columns"
   ]
  },
  {
   "cell_type": "code",
   "execution_count": 52,
   "metadata": {},
   "outputs": [
    {
     "data": {
      "text/plain": [
       "pandas.core.frame.DataFrame"
      ]
     },
     "execution_count": 52,
     "metadata": {},
     "output_type": "execute_result"
    }
   ],
   "source": [
    "#confirm that filtered data is a datafram\n",
    "type(INQ2017)"
   ]
  },
  {
   "cell_type": "code",
   "execution_count": 53,
   "metadata": {},
   "outputs": [],
   "source": [
    "#pd.show_versions()"
   ]
  },
  {
   "cell_type": "code",
   "execution_count": 54,
   "metadata": {},
   "outputs": [
    {
     "data": {
      "text/plain": [
       "1      3821\n",
       "2      4993\n",
       "3      1691\n",
       "4      1424\n",
       "5      2523\n",
       "6     12373\n",
       "7     12590\n",
       "8      2357\n",
       "9      7385\n",
       "10    17303\n",
       "11    16820\n",
       "12    14354\n",
       "Name: Create_Date, dtype: int64"
      ]
     },
     "execution_count": 54,
     "metadata": {},
     "output_type": "execute_result"
    }
   ],
   "source": [
    "#get count by month of each term\n",
    "INQ2017.Create_Date.dt.month.value_counts().sort_index()"
   ]
  },
  {
   "cell_type": "code",
   "execution_count": 55,
   "metadata": {},
   "outputs": [
    {
     "data": {
      "text/plain": [
       "1      1854\n",
       "2      3898\n",
       "3      3480\n",
       "4      3432\n",
       "5     10401\n",
       "6      6779\n",
       "7      3698\n",
       "8      4791\n",
       "9      5687\n",
       "10    19397\n",
       "11    14710\n",
       "12     4754\n",
       "Name: Create_Date, dtype: int64"
      ]
     },
     "execution_count": 55,
     "metadata": {},
     "output_type": "execute_result"
    }
   ],
   "source": [
    "INQ2018.Create_Date.dt.month.value_counts().sort_index()"
   ]
  },
  {
   "cell_type": "code",
   "execution_count": 56,
   "metadata": {},
   "outputs": [
    {
     "data": {
      "text/plain": [
       "1     2299\n",
       "2     2689\n",
       "3    10049\n",
       "4    11755\n",
       "5     6931\n",
       "6    10916\n",
       "7     6662\n",
       "8     1863\n",
       "9     4527\n",
       "Name: Create_Date, dtype: int64"
      ]
     },
     "execution_count": 56,
     "metadata": {},
     "output_type": "execute_result"
    }
   ],
   "source": [
    "INQ2019.Create_Date.dt.month.value_counts().sort_index()"
   ]
  },
  {
   "cell_type": "code",
   "execution_count": 57,
   "metadata": {},
   "outputs": [
    {
     "data": {
      "text/plain": [
       "1      557\n",
       "2      625\n",
       "3    12010\n",
       "4     1966\n",
       "5     1352\n",
       "6      652\n",
       "7     3294\n",
       "8      384\n",
       "9      319\n",
       "Name: Create_Date, dtype: int64"
      ]
     },
     "execution_count": 57,
     "metadata": {},
     "output_type": "execute_result"
    }
   ],
   "source": [
    "#this creates a list for 2018 dates but will eventually have to be changed to 2019 dates\n",
    "INQ2020.Create_Date.dt.month.value_counts().sort_index()"
   ]
  },
  {
   "cell_type": "code",
   "execution_count": 58,
   "metadata": {},
   "outputs": [],
   "source": [
    "#create a timestamp to get values from the FAll 2018 term that are prior to Jan 1 2017\n",
    "#also created a timestamp for february and august values of the subsequent year of each opp term\n",
    "#a current timestamp was also created as well as the Y-o-Y time stamps (12-15).\n",
    "tsprior = pd.Timestamp('1/1/2016')\n",
    "tsprior2 = pd.Timestamp('1/1/2017')\n",
    "tsprior3 = pd.Timestamp('1/1/2018')\n",
    "tsprior4 = pd.Timestamp('1/1/2019')\n",
    "tsprior5 = pd.Timestamp('2/1/2017')\n",
    "tsprior6 = pd.Timestamp('2/1/2018')\n",
    "tsprior7 = pd.Timestamp('2/1/2019')\n",
    "tsprior8 = pd.Timestamp('8/1/2017')\n",
    "tsprior9 = pd.Timestamp('8/1/2018')\n",
    "tsprior10 = pd.Timestamp('9/1/2019')\n",
    "tsprior11 = pd.Timestamp('9/1/2018')\n",
    "tsprior12 = pd.Timestamp('9/1/2017')\n",
    "tsprior13 = pd.Timestamp('9/1/2016')"
   ]
  },
  {
   "cell_type": "code",
   "execution_count": 59,
   "metadata": {},
   "outputs": [
    {
     "data": {
      "text/plain": [
       "Timestamp('2016-01-01 00:00:00')"
      ]
     },
     "execution_count": 59,
     "metadata": {},
     "output_type": "execute_result"
    }
   ],
   "source": [
    "tsprior"
   ]
  },
  {
   "cell_type": "code",
   "execution_count": 60,
   "metadata": {},
   "outputs": [],
   "source": [
    "B4JAN16 = TERM2017.loc[TERM2017.Create_Date < tsprior,:]\n",
    "B4JAN17 = TERM2018.loc[TERM2018.Create_Date < tsprior2,:]\n",
    "B4JAN18 = TERM2019.loc[TERM2019.Create_Date < tsprior3,:]\n",
    "B4JAN19 = TERM2020.loc[TERM2020.Create_Date < tsprior3,:]\n",
    "B4FEB17 = TERM2017.loc[TERM2017.Create_Date < tsprior5,:]\n",
    "B4FEB18 = TERM2018.loc[TERM2018.Create_Date < tsprior6,:]\n",
    "B4FEB19 = TERM2019.loc[TERM2019.Create_Date < tsprior7,:]\n",
    "B4FEB20 = TERM2020.loc[TERM2020.Create_Date < tsprior7,:]\n",
    "B4AUG17 = TERM2017.loc[TERM2017.Create_Date < tsprior8,:]\n",
    "B4AUG18 = TERM2018.loc[TERM2018.Create_Date < tsprior9,:]\n",
    "TOTAL2017 = TERM2017.loc[TERM2017.Create_Date < tsprior10,:]\n",
    "TOTAL2018 = TERM2018.loc[TERM2018.Create_Date < tsprior10,:]\n",
    "TOTAL2019 = TERM2019.loc[TERM2019.Create_Date < tsprior10,:]\n",
    "TOTAL2020 = TERM2020.loc[TERM2020.Create_Date < tsprior10,:]\n",
    "YoY2017 = TERM2017.loc[TERM2017.Create_Date < tsprior13,:]\n",
    "YoY2018 = TERM2018.loc[TERM2018.Create_Date < tsprior12,:]\n",
    "YoY2019 = TERM2019.loc[TERM2019.Create_Date < tsprior11,:]"
   ]
  },
  {
   "cell_type": "code",
   "execution_count": 61,
   "metadata": {},
   "outputs": [
    {
     "data": {
      "text/plain": [
       "61451"
      ]
     },
     "execution_count": 61,
     "metadata": {},
     "output_type": "execute_result"
    }
   ],
   "source": [
    "len(B4JAN16)"
   ]
  },
  {
   "cell_type": "code",
   "execution_count": 62,
   "metadata": {},
   "outputs": [
    {
     "data": {
      "text/plain": [
       "38758"
      ]
     },
     "execution_count": 62,
     "metadata": {},
     "output_type": "execute_result"
    }
   ],
   "source": [
    "len(B4JAN17)"
   ]
  },
  {
   "cell_type": "code",
   "execution_count": 63,
   "metadata": {},
   "outputs": [
    {
     "data": {
      "text/plain": [
       "28193"
      ]
     },
     "execution_count": 63,
     "metadata": {},
     "output_type": "execute_result"
    }
   ],
   "source": [
    "len(B4JAN18)"
   ]
  },
  {
   "cell_type": "code",
   "execution_count": 64,
   "metadata": {},
   "outputs": [
    {
     "data": {
      "text/plain": [
       "6420"
      ]
     },
     "execution_count": 64,
     "metadata": {},
     "output_type": "execute_result"
    }
   ],
   "source": [
    "len(B4JAN19)"
   ]
  },
  {
   "cell_type": "code",
   "execution_count": 65,
   "metadata": {},
   "outputs": [
    {
     "data": {
      "text/plain": [
       "61451"
      ]
     },
     "execution_count": 65,
     "metadata": {},
     "output_type": "execute_result"
    }
   ],
   "source": [
    "#test the counts\n",
    "B4JAN16['Contact_ID'].value_counts().sum()\n",
    "#B4JAN17['Contact_ID'].value_counts().sum()\n",
    "#B4JAN18['Contact_ID'].value_counts().sum()\n",
    "#B4JAN19['Contact_ID'].value_counts().sum()\n",
    "#B4FEB17['Contact_ID'].value_counts().sum()\n",
    "#B4FEB18['Contact_ID'].value_counts().sum()\n",
    "#B4FEB19['Contact_ID'].value_counts().sum()\n",
    "#B4FEB20['Contact_ID'].value_counts().sum()\n",
    "#B4AUG17['Contact_ID'].value_counts().sum()\n",
    "#B4AUG18['Contact_ID'].value_counts().sum()\n",
    "#TOTAL2017['Contact_ID'].value_counts().sum()\n",
    "#TOTAL2018['Contact_ID'].value_counts().sum()\n",
    "#TOTAL2019['Contact_ID'].value_counts().sum()\n",
    "#TOTAL2020['Contact_ID'].value_counts().sum()"
   ]
  },
  {
   "cell_type": "code",
   "execution_count": 66,
   "metadata": {},
   "outputs": [],
   "source": [
    "#B4JAN19['Contact_ID'].value_counts().sum()"
   ]
  },
  {
   "cell_type": "code",
   "execution_count": 67,
   "metadata": {},
   "outputs": [],
   "source": [
    "R17 = INQ2017.Create_Date.dt.month.value_counts().sort_index()\n",
    "R18 = INQ2018.Create_Date.dt.month.value_counts().sort_index()\n",
    "R19 = INQ2019.Create_Date.dt.month.value_counts().sort_index()\n",
    "R20 = INQ2020.Create_Date.dt.month.value_counts().sort_index()"
   ]
  },
  {
   "cell_type": "code",
   "execution_count": 68,
   "metadata": {},
   "outputs": [],
   "source": [
    "R17df = pd.DataFrame([R17]).T\n",
    "R18df = pd.DataFrame([R18]).T\n",
    "R19df = pd.DataFrame([R19]).T\n",
    "R20df = pd.DataFrame([R20]).T"
   ]
  },
  {
   "cell_type": "code",
   "execution_count": 69,
   "metadata": {},
   "outputs": [],
   "source": [
    "#R16df.head()"
   ]
  },
  {
   "cell_type": "code",
   "execution_count": 70,
   "metadata": {},
   "outputs": [],
   "source": [
    "a =R17df.rename({'Create_Date': 'Count-2016'}, axis = 'columns')\n",
    "#R16df.rename({'Create_Date': 'Count-2016'}, axis = 'columns')"
   ]
  },
  {
   "cell_type": "code",
   "execution_count": 71,
   "metadata": {},
   "outputs": [],
   "source": [
    "b = R18df.rename({'Create_Date': 'Count-2017'}, axis = 'columns')\n",
    "#R17df.rename({'Create_Date': 'Count-2017'}, axis = 'columns')"
   ]
  },
  {
   "cell_type": "code",
   "execution_count": 72,
   "metadata": {},
   "outputs": [],
   "source": [
    "#R18df.rename({'Create_Date': 'Count-2018'}, axis = 'columns')\n",
    "c = R19df.rename({'Create_Date': 'Count-2018'}, axis = 'columns')"
   ]
  },
  {
   "cell_type": "code",
   "execution_count": 73,
   "metadata": {},
   "outputs": [],
   "source": [
    "d = R20df.rename({'Create_Date': 'Count-2018'}, axis = 'columns')"
   ]
  },
  {
   "cell_type": "code",
   "execution_count": 74,
   "metadata": {},
   "outputs": [],
   "source": [
    "j = pd.concat([a, b], axis=1, join_axes=[a.index])\n",
    "    "
   ]
  },
  {
   "cell_type": "code",
   "execution_count": 75,
   "metadata": {},
   "outputs": [],
   "source": [
    "#j.head(1)"
   ]
  },
  {
   "cell_type": "code",
   "execution_count": 76,
   "metadata": {},
   "outputs": [],
   "source": [
    "k = pd.concat([j, c], axis=1, join_axes=[a.index])"
   ]
  },
  {
   "cell_type": "code",
   "execution_count": 77,
   "metadata": {},
   "outputs": [],
   "source": [
    "k2 = pd.concat([k, d], axis=1, join_axes=[a.index])"
   ]
  },
  {
   "cell_type": "code",
   "execution_count": 78,
   "metadata": {},
   "outputs": [
    {
     "data": {
      "text/html": [
       "<div>\n",
       "<style scoped>\n",
       "    .dataframe tbody tr th:only-of-type {\n",
       "        vertical-align: middle;\n",
       "    }\n",
       "\n",
       "    .dataframe tbody tr th {\n",
       "        vertical-align: top;\n",
       "    }\n",
       "\n",
       "    .dataframe thead th {\n",
       "        text-align: right;\n",
       "    }\n",
       "</style>\n",
       "<table border=\"1\" class=\"dataframe\">\n",
       "  <thead>\n",
       "    <tr style=\"text-align: right;\">\n",
       "      <th></th>\n",
       "      <th>Count-2016</th>\n",
       "      <th>Count-2017</th>\n",
       "      <th>Count-2018</th>\n",
       "      <th>Count-2018</th>\n",
       "    </tr>\n",
       "  </thead>\n",
       "  <tbody>\n",
       "    <tr>\n",
       "      <th>1</th>\n",
       "      <td>3821</td>\n",
       "      <td>1854</td>\n",
       "      <td>2299.0</td>\n",
       "      <td>557.0</td>\n",
       "    </tr>\n",
       "    <tr>\n",
       "      <th>2</th>\n",
       "      <td>4993</td>\n",
       "      <td>3898</td>\n",
       "      <td>2689.0</td>\n",
       "      <td>625.0</td>\n",
       "    </tr>\n",
       "    <tr>\n",
       "      <th>3</th>\n",
       "      <td>1691</td>\n",
       "      <td>3480</td>\n",
       "      <td>10049.0</td>\n",
       "      <td>12010.0</td>\n",
       "    </tr>\n",
       "    <tr>\n",
       "      <th>4</th>\n",
       "      <td>1424</td>\n",
       "      <td>3432</td>\n",
       "      <td>11755.0</td>\n",
       "      <td>1966.0</td>\n",
       "    </tr>\n",
       "    <tr>\n",
       "      <th>5</th>\n",
       "      <td>2523</td>\n",
       "      <td>10401</td>\n",
       "      <td>6931.0</td>\n",
       "      <td>1352.0</td>\n",
       "    </tr>\n",
       "  </tbody>\n",
       "</table>\n",
       "</div>"
      ],
      "text/plain": [
       "   Count-2016  Count-2017  Count-2018  Count-2018\n",
       "1        3821        1854      2299.0       557.0\n",
       "2        4993        3898      2689.0       625.0\n",
       "3        1691        3480     10049.0     12010.0\n",
       "4        1424        3432     11755.0      1966.0\n",
       "5        2523       10401      6931.0      1352.0"
      ]
     },
     "execution_count": 78,
     "metadata": {},
     "output_type": "execute_result"
    }
   ],
   "source": [
    "k2.head()"
   ]
  },
  {
   "cell_type": "code",
   "execution_count": 79,
   "metadata": {},
   "outputs": [],
   "source": [
    "#k.head()"
   ]
  },
  {
   "cell_type": "code",
   "execution_count": 80,
   "metadata": {},
   "outputs": [
    {
     "data": {
      "text/plain": [
       "pandas.core.frame.DataFrame"
      ]
     },
     "execution_count": 80,
     "metadata": {},
     "output_type": "execute_result"
    }
   ],
   "source": [
    "type(k2)"
   ]
  },
  {
   "cell_type": "code",
   "execution_count": 81,
   "metadata": {},
   "outputs": [
    {
     "data": {
      "text/plain": [
       "Count-2016      int64\n",
       "Count-2017      int64\n",
       "Count-2018    float64\n",
       "Count-2018    float64\n",
       "dtype: object"
      ]
     },
     "execution_count": 81,
     "metadata": {},
     "output_type": "execute_result"
    }
   ],
   "source": [
    "k2.dtypes"
   ]
  },
  {
   "cell_type": "code",
   "execution_count": 82,
   "metadata": {},
   "outputs": [],
   "source": [
    "k =  k2.replace(np.nan,0)"
   ]
  },
  {
   "cell_type": "code",
   "execution_count": 83,
   "metadata": {},
   "outputs": [
    {
     "data": {
      "text/html": [
       "<div>\n",
       "<style scoped>\n",
       "    .dataframe tbody tr th:only-of-type {\n",
       "        vertical-align: middle;\n",
       "    }\n",
       "\n",
       "    .dataframe tbody tr th {\n",
       "        vertical-align: top;\n",
       "    }\n",
       "\n",
       "    .dataframe thead th {\n",
       "        text-align: right;\n",
       "    }\n",
       "</style>\n",
       "<table border=\"1\" class=\"dataframe\">\n",
       "  <thead>\n",
       "    <tr style=\"text-align: right;\">\n",
       "      <th></th>\n",
       "      <th>Count-2016</th>\n",
       "      <th>Count-2017</th>\n",
       "      <th>Count-2018</th>\n",
       "      <th>Count-2018</th>\n",
       "    </tr>\n",
       "  </thead>\n",
       "  <tbody>\n",
       "    <tr>\n",
       "      <th>1</th>\n",
       "      <td>3821</td>\n",
       "      <td>1854</td>\n",
       "      <td>2299</td>\n",
       "      <td>557</td>\n",
       "    </tr>\n",
       "    <tr>\n",
       "      <th>2</th>\n",
       "      <td>4993</td>\n",
       "      <td>3898</td>\n",
       "      <td>2689</td>\n",
       "      <td>625</td>\n",
       "    </tr>\n",
       "    <tr>\n",
       "      <th>3</th>\n",
       "      <td>1691</td>\n",
       "      <td>3480</td>\n",
       "      <td>10049</td>\n",
       "      <td>12010</td>\n",
       "    </tr>\n",
       "    <tr>\n",
       "      <th>4</th>\n",
       "      <td>1424</td>\n",
       "      <td>3432</td>\n",
       "      <td>11755</td>\n",
       "      <td>1966</td>\n",
       "    </tr>\n",
       "    <tr>\n",
       "      <th>5</th>\n",
       "      <td>2523</td>\n",
       "      <td>10401</td>\n",
       "      <td>6931</td>\n",
       "      <td>1352</td>\n",
       "    </tr>\n",
       "    <tr>\n",
       "      <th>6</th>\n",
       "      <td>12373</td>\n",
       "      <td>6779</td>\n",
       "      <td>10916</td>\n",
       "      <td>652</td>\n",
       "    </tr>\n",
       "    <tr>\n",
       "      <th>7</th>\n",
       "      <td>12590</td>\n",
       "      <td>3698</td>\n",
       "      <td>6662</td>\n",
       "      <td>3294</td>\n",
       "    </tr>\n",
       "    <tr>\n",
       "      <th>8</th>\n",
       "      <td>2357</td>\n",
       "      <td>4791</td>\n",
       "      <td>1863</td>\n",
       "      <td>384</td>\n",
       "    </tr>\n",
       "    <tr>\n",
       "      <th>9</th>\n",
       "      <td>7385</td>\n",
       "      <td>5687</td>\n",
       "      <td>4527</td>\n",
       "      <td>319</td>\n",
       "    </tr>\n",
       "    <tr>\n",
       "      <th>10</th>\n",
       "      <td>17303</td>\n",
       "      <td>19397</td>\n",
       "      <td>0</td>\n",
       "      <td>0</td>\n",
       "    </tr>\n",
       "    <tr>\n",
       "      <th>11</th>\n",
       "      <td>16820</td>\n",
       "      <td>14710</td>\n",
       "      <td>0</td>\n",
       "      <td>0</td>\n",
       "    </tr>\n",
       "    <tr>\n",
       "      <th>12</th>\n",
       "      <td>14354</td>\n",
       "      <td>4754</td>\n",
       "      <td>0</td>\n",
       "      <td>0</td>\n",
       "    </tr>\n",
       "  </tbody>\n",
       "</table>\n",
       "</div>"
      ],
      "text/plain": [
       "    Count-2016  Count-2017  Count-2018  Count-2018\n",
       "1         3821        1854        2299         557\n",
       "2         4993        3898        2689         625\n",
       "3         1691        3480       10049       12010\n",
       "4         1424        3432       11755        1966\n",
       "5         2523       10401        6931        1352\n",
       "6        12373        6779       10916         652\n",
       "7        12590        3698        6662        3294\n",
       "8         2357        4791        1863         384\n",
       "9         7385        5687        4527         319\n",
       "10       17303       19397           0           0\n",
       "11       16820       14710           0           0\n",
       "12       14354        4754           0           0"
      ]
     },
     "execution_count": 83,
     "metadata": {},
     "output_type": "execute_result"
    }
   ],
   "source": [
    "k['Count-2018'] = k['Count-2018'].astype(int)\n",
    "k"
   ]
  },
  {
   "cell_type": "code",
   "execution_count": 84,
   "metadata": {},
   "outputs": [],
   "source": [
    "#k.dtypes"
   ]
  },
  {
   "cell_type": "code",
   "execution_count": 85,
   "metadata": {},
   "outputs": [
    {
     "data": {
      "text/plain": [
       "Int64Index([1, 2, 3, 4, 5, 6, 7, 8, 9, 10, 11, 12], dtype='int64')"
      ]
     },
     "execution_count": 85,
     "metadata": {},
     "output_type": "execute_result"
    }
   ],
   "source": [
    "k.index"
   ]
  },
  {
   "cell_type": "code",
   "execution_count": 86,
   "metadata": {},
   "outputs": [],
   "source": [
    "# create  a dictionary to map the month values\n",
    "dict = {1:'JAN',2:'FEB',3:'MAR',4:'APR',5:'MAY',6:'JUN',7:'JUL',8:'AUG',9:'SEP',10:'OCT',11:'NOV',12:'DEC'}"
   ]
  },
  {
   "cell_type": "code",
   "execution_count": 87,
   "metadata": {},
   "outputs": [],
   "source": [
    "#map the dictionary to the new col on index\n",
    "k ['MONTH'] = k.index.map(dict)"
   ]
  },
  {
   "cell_type": "code",
   "execution_count": 88,
   "metadata": {},
   "outputs": [
    {
     "data": {
      "text/html": [
       "<div>\n",
       "<style scoped>\n",
       "    .dataframe tbody tr th:only-of-type {\n",
       "        vertical-align: middle;\n",
       "    }\n",
       "\n",
       "    .dataframe tbody tr th {\n",
       "        vertical-align: top;\n",
       "    }\n",
       "\n",
       "    .dataframe thead th {\n",
       "        text-align: right;\n",
       "    }\n",
       "</style>\n",
       "<table border=\"1\" class=\"dataframe\">\n",
       "  <thead>\n",
       "    <tr style=\"text-align: right;\">\n",
       "      <th></th>\n",
       "      <th>Count-2016</th>\n",
       "      <th>Count-2017</th>\n",
       "      <th>Count-2018</th>\n",
       "      <th>Count-2018</th>\n",
       "      <th>MONTH</th>\n",
       "    </tr>\n",
       "  </thead>\n",
       "  <tbody>\n",
       "    <tr>\n",
       "      <th>1</th>\n",
       "      <td>3821</td>\n",
       "      <td>1854</td>\n",
       "      <td>2299</td>\n",
       "      <td>557</td>\n",
       "      <td>JAN</td>\n",
       "    </tr>\n",
       "    <tr>\n",
       "      <th>2</th>\n",
       "      <td>4993</td>\n",
       "      <td>3898</td>\n",
       "      <td>2689</td>\n",
       "      <td>625</td>\n",
       "      <td>FEB</td>\n",
       "    </tr>\n",
       "    <tr>\n",
       "      <th>3</th>\n",
       "      <td>1691</td>\n",
       "      <td>3480</td>\n",
       "      <td>10049</td>\n",
       "      <td>12010</td>\n",
       "      <td>MAR</td>\n",
       "    </tr>\n",
       "    <tr>\n",
       "      <th>4</th>\n",
       "      <td>1424</td>\n",
       "      <td>3432</td>\n",
       "      <td>11755</td>\n",
       "      <td>1966</td>\n",
       "      <td>APR</td>\n",
       "    </tr>\n",
       "    <tr>\n",
       "      <th>5</th>\n",
       "      <td>2523</td>\n",
       "      <td>10401</td>\n",
       "      <td>6931</td>\n",
       "      <td>1352</td>\n",
       "      <td>MAY</td>\n",
       "    </tr>\n",
       "    <tr>\n",
       "      <th>6</th>\n",
       "      <td>12373</td>\n",
       "      <td>6779</td>\n",
       "      <td>10916</td>\n",
       "      <td>652</td>\n",
       "      <td>JUN</td>\n",
       "    </tr>\n",
       "    <tr>\n",
       "      <th>7</th>\n",
       "      <td>12590</td>\n",
       "      <td>3698</td>\n",
       "      <td>6662</td>\n",
       "      <td>3294</td>\n",
       "      <td>JUL</td>\n",
       "    </tr>\n",
       "    <tr>\n",
       "      <th>8</th>\n",
       "      <td>2357</td>\n",
       "      <td>4791</td>\n",
       "      <td>1863</td>\n",
       "      <td>384</td>\n",
       "      <td>AUG</td>\n",
       "    </tr>\n",
       "    <tr>\n",
       "      <th>9</th>\n",
       "      <td>7385</td>\n",
       "      <td>5687</td>\n",
       "      <td>4527</td>\n",
       "      <td>319</td>\n",
       "      <td>SEP</td>\n",
       "    </tr>\n",
       "    <tr>\n",
       "      <th>10</th>\n",
       "      <td>17303</td>\n",
       "      <td>19397</td>\n",
       "      <td>0</td>\n",
       "      <td>0</td>\n",
       "      <td>OCT</td>\n",
       "    </tr>\n",
       "    <tr>\n",
       "      <th>11</th>\n",
       "      <td>16820</td>\n",
       "      <td>14710</td>\n",
       "      <td>0</td>\n",
       "      <td>0</td>\n",
       "      <td>NOV</td>\n",
       "    </tr>\n",
       "    <tr>\n",
       "      <th>12</th>\n",
       "      <td>14354</td>\n",
       "      <td>4754</td>\n",
       "      <td>0</td>\n",
       "      <td>0</td>\n",
       "      <td>DEC</td>\n",
       "    </tr>\n",
       "  </tbody>\n",
       "</table>\n",
       "</div>"
      ],
      "text/plain": [
       "    Count-2016  Count-2017  Count-2018  Count-2018 MONTH\n",
       "1         3821        1854        2299         557   JAN\n",
       "2         4993        3898        2689         625   FEB\n",
       "3         1691        3480       10049       12010   MAR\n",
       "4         1424        3432       11755        1966   APR\n",
       "5         2523       10401        6931        1352   MAY\n",
       "6        12373        6779       10916         652   JUN\n",
       "7        12590        3698        6662        3294   JUL\n",
       "8         2357        4791        1863         384   AUG\n",
       "9         7385        5687        4527         319   SEP\n",
       "10       17303       19397           0           0   OCT\n",
       "11       16820       14710           0           0   NOV\n",
       "12       14354        4754           0           0   DEC"
      ]
     },
     "execution_count": 88,
     "metadata": {},
     "output_type": "execute_result"
    }
   ],
   "source": [
    "k"
   ]
  },
  {
   "cell_type": "code",
   "execution_count": 89,
   "metadata": {},
   "outputs": [],
   "source": [
    "#change the name of the df and rearrange the cols\n",
    "INQbyMONTH = k[['MONTH','Count-2016','Count-2017','Count-2018']]"
   ]
  },
  {
   "cell_type": "code",
   "execution_count": 90,
   "metadata": {},
   "outputs": [
    {
     "data": {
      "text/html": [
       "<div>\n",
       "<style scoped>\n",
       "    .dataframe tbody tr th:only-of-type {\n",
       "        vertical-align: middle;\n",
       "    }\n",
       "\n",
       "    .dataframe tbody tr th {\n",
       "        vertical-align: top;\n",
       "    }\n",
       "\n",
       "    .dataframe thead th {\n",
       "        text-align: right;\n",
       "    }\n",
       "</style>\n",
       "<table border=\"1\" class=\"dataframe\">\n",
       "  <thead>\n",
       "    <tr style=\"text-align: right;\">\n",
       "      <th></th>\n",
       "      <th>MONTH</th>\n",
       "      <th>Count-2016</th>\n",
       "      <th>Count-2017</th>\n",
       "      <th>Count-2018</th>\n",
       "      <th>Count-2018</th>\n",
       "    </tr>\n",
       "  </thead>\n",
       "  <tbody>\n",
       "    <tr>\n",
       "      <th>1</th>\n",
       "      <td>JAN</td>\n",
       "      <td>3821</td>\n",
       "      <td>1854</td>\n",
       "      <td>2299</td>\n",
       "      <td>557</td>\n",
       "    </tr>\n",
       "    <tr>\n",
       "      <th>2</th>\n",
       "      <td>FEB</td>\n",
       "      <td>4993</td>\n",
       "      <td>3898</td>\n",
       "      <td>2689</td>\n",
       "      <td>625</td>\n",
       "    </tr>\n",
       "    <tr>\n",
       "      <th>3</th>\n",
       "      <td>MAR</td>\n",
       "      <td>1691</td>\n",
       "      <td>3480</td>\n",
       "      <td>10049</td>\n",
       "      <td>12010</td>\n",
       "    </tr>\n",
       "    <tr>\n",
       "      <th>4</th>\n",
       "      <td>APR</td>\n",
       "      <td>1424</td>\n",
       "      <td>3432</td>\n",
       "      <td>11755</td>\n",
       "      <td>1966</td>\n",
       "    </tr>\n",
       "    <tr>\n",
       "      <th>5</th>\n",
       "      <td>MAY</td>\n",
       "      <td>2523</td>\n",
       "      <td>10401</td>\n",
       "      <td>6931</td>\n",
       "      <td>1352</td>\n",
       "    </tr>\n",
       "    <tr>\n",
       "      <th>6</th>\n",
       "      <td>JUN</td>\n",
       "      <td>12373</td>\n",
       "      <td>6779</td>\n",
       "      <td>10916</td>\n",
       "      <td>652</td>\n",
       "    </tr>\n",
       "    <tr>\n",
       "      <th>7</th>\n",
       "      <td>JUL</td>\n",
       "      <td>12590</td>\n",
       "      <td>3698</td>\n",
       "      <td>6662</td>\n",
       "      <td>3294</td>\n",
       "    </tr>\n",
       "    <tr>\n",
       "      <th>8</th>\n",
       "      <td>AUG</td>\n",
       "      <td>2357</td>\n",
       "      <td>4791</td>\n",
       "      <td>1863</td>\n",
       "      <td>384</td>\n",
       "    </tr>\n",
       "    <tr>\n",
       "      <th>9</th>\n",
       "      <td>SEP</td>\n",
       "      <td>7385</td>\n",
       "      <td>5687</td>\n",
       "      <td>4527</td>\n",
       "      <td>319</td>\n",
       "    </tr>\n",
       "    <tr>\n",
       "      <th>10</th>\n",
       "      <td>OCT</td>\n",
       "      <td>17303</td>\n",
       "      <td>19397</td>\n",
       "      <td>0</td>\n",
       "      <td>0</td>\n",
       "    </tr>\n",
       "    <tr>\n",
       "      <th>11</th>\n",
       "      <td>NOV</td>\n",
       "      <td>16820</td>\n",
       "      <td>14710</td>\n",
       "      <td>0</td>\n",
       "      <td>0</td>\n",
       "    </tr>\n",
       "    <tr>\n",
       "      <th>12</th>\n",
       "      <td>DEC</td>\n",
       "      <td>14354</td>\n",
       "      <td>4754</td>\n",
       "      <td>0</td>\n",
       "      <td>0</td>\n",
       "    </tr>\n",
       "  </tbody>\n",
       "</table>\n",
       "</div>"
      ],
      "text/plain": [
       "   MONTH  Count-2016  Count-2017  Count-2018  Count-2018\n",
       "1    JAN        3821        1854        2299         557\n",
       "2    FEB        4993        3898        2689         625\n",
       "3    MAR        1691        3480       10049       12010\n",
       "4    APR        1424        3432       11755        1966\n",
       "5    MAY        2523       10401        6931        1352\n",
       "6    JUN       12373        6779       10916         652\n",
       "7    JUL       12590        3698        6662        3294\n",
       "8    AUG        2357        4791        1863         384\n",
       "9    SEP        7385        5687        4527         319\n",
       "10   OCT       17303       19397           0           0\n",
       "11   NOV       16820       14710           0           0\n",
       "12   DEC       14354        4754           0           0"
      ]
     },
     "execution_count": 90,
     "metadata": {},
     "output_type": "execute_result"
    }
   ],
   "source": [
    "#this is the result\n",
    "INQbyMONTH"
   ]
  },
  {
   "cell_type": "code",
   "execution_count": 91,
   "metadata": {},
   "outputs": [
    {
     "data": {
      "text/plain": [
       "pandas.core.frame.DataFrame"
      ]
     },
     "execution_count": 91,
     "metadata": {},
     "output_type": "execute_result"
    }
   ],
   "source": [
    "#it is a df\n",
    "type(INQbyMONTH)"
   ]
  },
  {
   "cell_type": "code",
   "execution_count": 92,
   "metadata": {},
   "outputs": [],
   "source": [
    "#before January values\n",
    "a = B4JAN16['Contact_ID'].value_counts().sum()\n",
    "b = B4JAN17['Contact_ID'].value_counts().sum()\n",
    "c = B4JAN18['Contact_ID'].value_counts().sum()\n",
    "d = B4JAN19['Contact_ID'].value_counts().sum()"
   ]
  },
  {
   "cell_type": "code",
   "execution_count": 93,
   "metadata": {},
   "outputs": [],
   "source": [
    "PRIOR = pd.DataFrame({'Prior to Jan 2016': a , 'Prior to Jan 2017': b , 'Prior to Jan 2018': c, 'Prior to Jan 2018.2': d},index = [0])"
   ]
  },
  {
   "cell_type": "code",
   "execution_count": 94,
   "metadata": {},
   "outputs": [
    {
     "data": {
      "text/html": [
       "<div>\n",
       "<style scoped>\n",
       "    .dataframe tbody tr th:only-of-type {\n",
       "        vertical-align: middle;\n",
       "    }\n",
       "\n",
       "    .dataframe tbody tr th {\n",
       "        vertical-align: top;\n",
       "    }\n",
       "\n",
       "    .dataframe thead th {\n",
       "        text-align: right;\n",
       "    }\n",
       "</style>\n",
       "<table border=\"1\" class=\"dataframe\">\n",
       "  <thead>\n",
       "    <tr style=\"text-align: right;\">\n",
       "      <th></th>\n",
       "      <th>Prior to Jan 2016</th>\n",
       "      <th>Prior to Jan 2017</th>\n",
       "      <th>Prior to Jan 2018</th>\n",
       "      <th>Prior to Jan 2018.2</th>\n",
       "    </tr>\n",
       "  </thead>\n",
       "  <tbody>\n",
       "    <tr>\n",
       "      <th>0</th>\n",
       "      <td>61451</td>\n",
       "      <td>38758</td>\n",
       "      <td>28193</td>\n",
       "      <td>6420</td>\n",
       "    </tr>\n",
       "  </tbody>\n",
       "</table>\n",
       "</div>"
      ],
      "text/plain": [
       "   Prior to Jan 2016  Prior to Jan 2017  Prior to Jan 2018  \\\n",
       "0              61451              38758              28193   \n",
       "\n",
       "   Prior to Jan 2018.2  \n",
       "0                 6420  "
      ]
     },
     "execution_count": 94,
     "metadata": {},
     "output_type": "execute_result"
    }
   ],
   "source": [
    "PRIOR"
   ]
  },
  {
   "cell_type": "code",
   "execution_count": 95,
   "metadata": {},
   "outputs": [],
   "source": [
    "#before February values\n",
    "e = B4FEB17['Contact_ID'].value_counts().sum()\n",
    "f = B4FEB18['Contact_ID'].value_counts().sum()"
   ]
  },
  {
   "cell_type": "code",
   "execution_count": 96,
   "metadata": {},
   "outputs": [],
   "source": [
    "PRIOR2 = pd.DataFrame({'Prior to Feb 2017': e , 'Prior to Feb 2018': f },index = [0])"
   ]
  },
  {
   "cell_type": "code",
   "execution_count": 97,
   "metadata": {},
   "outputs": [
    {
     "data": {
      "text/html": [
       "<div>\n",
       "<style scoped>\n",
       "    .dataframe tbody tr th:only-of-type {\n",
       "        vertical-align: middle;\n",
       "    }\n",
       "\n",
       "    .dataframe tbody tr th {\n",
       "        vertical-align: top;\n",
       "    }\n",
       "\n",
       "    .dataframe thead th {\n",
       "        text-align: right;\n",
       "    }\n",
       "</style>\n",
       "<table border=\"1\" class=\"dataframe\">\n",
       "  <thead>\n",
       "    <tr style=\"text-align: right;\">\n",
       "      <th></th>\n",
       "      <th>Prior to Feb 2017</th>\n",
       "      <th>Prior to Feb 2018</th>\n",
       "    </tr>\n",
       "  </thead>\n",
       "  <tbody>\n",
       "    <tr>\n",
       "      <th>0</th>\n",
       "      <td>167527</td>\n",
       "      <td>130268</td>\n",
       "    </tr>\n",
       "  </tbody>\n",
       "</table>\n",
       "</div>"
      ],
      "text/plain": [
       "   Prior to Feb 2017  Prior to Feb 2018\n",
       "0             167527             130268"
      ]
     },
     "execution_count": 97,
     "metadata": {},
     "output_type": "execute_result"
    }
   ],
   "source": [
    "PRIOR2"
   ]
  },
  {
   "cell_type": "code",
   "execution_count": 98,
   "metadata": {},
   "outputs": [],
   "source": [
    "#before August values\n",
    "g = B4AUG17['Contact_ID'].value_counts().sum()\n",
    "h = B4AUG18['Contact_ID'].value_counts().sum()"
   ]
  },
  {
   "cell_type": "code",
   "execution_count": 99,
   "metadata": {},
   "outputs": [],
   "source": [
    "PRIOR3 = pd.DataFrame({'Prior to Aug 2017': g , 'Prior to Aug 2018': h },index = [0])"
   ]
  },
  {
   "cell_type": "code",
   "execution_count": 100,
   "metadata": {},
   "outputs": [
    {
     "data": {
      "text/html": [
       "<div>\n",
       "<style scoped>\n",
       "    .dataframe tbody tr th:only-of-type {\n",
       "        vertical-align: middle;\n",
       "    }\n",
       "\n",
       "    .dataframe tbody tr th {\n",
       "        vertical-align: top;\n",
       "    }\n",
       "\n",
       "    .dataframe thead th {\n",
       "        text-align: right;\n",
       "    }\n",
       "</style>\n",
       "<table border=\"1\" class=\"dataframe\">\n",
       "  <thead>\n",
       "    <tr style=\"text-align: right;\">\n",
       "      <th></th>\n",
       "      <th>Prior to Aug 2017</th>\n",
       "      <th>Prior to Aug 2018</th>\n",
       "    </tr>\n",
       "  </thead>\n",
       "  <tbody>\n",
       "    <tr>\n",
       "      <th>0</th>\n",
       "      <td>180154</td>\n",
       "      <td>141838</td>\n",
       "    </tr>\n",
       "  </tbody>\n",
       "</table>\n",
       "</div>"
      ],
      "text/plain": [
       "   Prior to Aug 2017  Prior to Aug 2018\n",
       "0             180154             141838"
      ]
     },
     "execution_count": 100,
     "metadata": {},
     "output_type": "execute_result"
    }
   ],
   "source": [
    "PRIOR3"
   ]
  },
  {
   "cell_type": "code",
   "execution_count": 101,
   "metadata": {},
   "outputs": [],
   "source": [
    "#current values\n",
    "i = TOTAL2017['Contact_ID'].value_counts().sum()\n",
    "j = TOTAL2018['Contact_ID'].value_counts().sum()\n",
    "k = TOTAL2019['Contact_ID'].value_counts().sum()\n",
    "l = TOTAL2020['Contact_ID'].value_counts().sum()"
   ]
  },
  {
   "cell_type": "code",
   "execution_count": 102,
   "metadata": {},
   "outputs": [],
   "source": [
    "TOTAL4 = pd.DataFrame({'Total 2017': i , 'Total 2018': j, 'Total 2019': k, 'Total 2020': l},index = [0])"
   ]
  },
  {
   "cell_type": "code",
   "execution_count": 103,
   "metadata": {},
   "outputs": [
    {
     "data": {
      "text/html": [
       "<div>\n",
       "<style scoped>\n",
       "    .dataframe tbody tr th:only-of-type {\n",
       "        vertical-align: middle;\n",
       "    }\n",
       "\n",
       "    .dataframe tbody tr th {\n",
       "        vertical-align: top;\n",
       "    }\n",
       "\n",
       "    .dataframe thead th {\n",
       "        text-align: right;\n",
       "    }\n",
       "</style>\n",
       "<table border=\"1\" class=\"dataframe\">\n",
       "  <thead>\n",
       "    <tr style=\"text-align: right;\">\n",
       "      <th></th>\n",
       "      <th>Total 2017</th>\n",
       "      <th>Total 2018</th>\n",
       "      <th>Total 2019</th>\n",
       "      <th>Total 2020</th>\n",
       "    </tr>\n",
       "  </thead>\n",
       "  <tbody>\n",
       "    <tr>\n",
       "      <th>0</th>\n",
       "      <td>181852</td>\n",
       "      <td>142061</td>\n",
       "      <td>85884</td>\n",
       "      <td>27579</td>\n",
       "    </tr>\n",
       "  </tbody>\n",
       "</table>\n",
       "</div>"
      ],
      "text/plain": [
       "   Total 2017  Total 2018  Total 2019  Total 2020\n",
       "0      181852      142061       85884       27579"
      ]
     },
     "execution_count": 103,
     "metadata": {},
     "output_type": "execute_result"
    }
   ],
   "source": [
    "TOTAL4"
   ]
  },
  {
   "cell_type": "code",
   "execution_count": 104,
   "metadata": {},
   "outputs": [],
   "source": [
    "#create a df for the y-o-y comparison of 2017, 2018, and 2019. #redundant???\n",
    "#tspriorFEB17 = pd.Timestamp('2/1/2017')\n",
    "#tspriorFEB18 = pd.Timestamp ('2/1/2018')\n",
    "#tspriorFEB19 = pd.Timestamp('2/1/2019')\n",
    "#tspriorAUG17 = pd.Timestamp('8/1/2017')\n",
    "#tspriorAUG18 = pd.Timestamp ('8/1/2018')\n",
    "#tspriorAUG19 = pd.Timestamp('8/1/2019')\n",
    "#tsJUN312017 = pd.Timestamp('6/30/2017')\n",
    "#tsJUN312018 = pd.Timestamp('6/30/2018')\n",
    "#tsJUN312019 = pd.Timestamp('6/30/2019')"
   ]
  },
  {
   "cell_type": "code",
   "execution_count": 105,
   "metadata": {},
   "outputs": [
    {
     "data": {
      "text/html": [
       "<div>\n",
       "<style scoped>\n",
       "    .dataframe tbody tr th:only-of-type {\n",
       "        vertical-align: middle;\n",
       "    }\n",
       "\n",
       "    .dataframe tbody tr th {\n",
       "        vertical-align: top;\n",
       "    }\n",
       "\n",
       "    .dataframe thead th {\n",
       "        text-align: right;\n",
       "    }\n",
       "</style>\n",
       "<table border=\"1\" class=\"dataframe\">\n",
       "  <thead>\n",
       "    <tr style=\"text-align: right;\">\n",
       "      <th></th>\n",
       "      <th>2017</th>\n",
       "    </tr>\n",
       "    <tr>\n",
       "      <th>Lead_Source</th>\n",
       "      <th></th>\n",
       "    </tr>\n",
       "  </thead>\n",
       "  <tbody>\n",
       "    <tr>\n",
       "      <th>Admission Conversion</th>\n",
       "      <td>33</td>\n",
       "    </tr>\n",
       "    <tr>\n",
       "      <th>College Fair</th>\n",
       "      <td>10052</td>\n",
       "    </tr>\n",
       "    <tr>\n",
       "      <th>College Visit</th>\n",
       "      <td>10</td>\n",
       "    </tr>\n",
       "    <tr>\n",
       "      <th>Education Fair</th>\n",
       "      <td>10</td>\n",
       "    </tr>\n",
       "    <tr>\n",
       "      <th>Email</th>\n",
       "      <td>204</td>\n",
       "    </tr>\n",
       "    <tr>\n",
       "      <th>Event Registration</th>\n",
       "      <td>9186</td>\n",
       "    </tr>\n",
       "    <tr>\n",
       "      <th>Financial Aid</th>\n",
       "      <td>129</td>\n",
       "    </tr>\n",
       "    <tr>\n",
       "      <th>Group Tour</th>\n",
       "      <td>4</td>\n",
       "    </tr>\n",
       "    <tr>\n",
       "      <th>High School Visit</th>\n",
       "      <td>3833</td>\n",
       "    </tr>\n",
       "    <tr>\n",
       "      <th>Initiated Application</th>\n",
       "      <td>967</td>\n",
       "    </tr>\n",
       "    <tr>\n",
       "      <th>International Travel</th>\n",
       "      <td>248</td>\n",
       "    </tr>\n",
       "    <tr>\n",
       "      <th>Lead Card</th>\n",
       "      <td>347</td>\n",
       "    </tr>\n",
       "    <tr>\n",
       "      <th>Legacy Admission Alumni Form</th>\n",
       "      <td>5</td>\n",
       "    </tr>\n",
       "    <tr>\n",
       "      <th>Legacy Admission Student Form</th>\n",
       "      <td>4</td>\n",
       "    </tr>\n",
       "    <tr>\n",
       "      <th>Office Visit</th>\n",
       "      <td>162</td>\n",
       "    </tr>\n",
       "    <tr>\n",
       "      <th>Other</th>\n",
       "      <td>2938</td>\n",
       "    </tr>\n",
       "    <tr>\n",
       "      <th>Phone</th>\n",
       "      <td>33</td>\n",
       "    </tr>\n",
       "    <tr>\n",
       "      <th>Purchased List</th>\n",
       "      <td>49103</td>\n",
       "    </tr>\n",
       "    <tr>\n",
       "      <th>Royal Short Mailing List Form</th>\n",
       "      <td>44</td>\n",
       "    </tr>\n",
       "    <tr>\n",
       "      <th>Submitted Test Score</th>\n",
       "      <td>16911</td>\n",
       "    </tr>\n",
       "    <tr>\n",
       "      <th>Submitted Transcript</th>\n",
       "      <td>3</td>\n",
       "    </tr>\n",
       "    <tr>\n",
       "      <th>UGrad Campus Visit Check-in Form</th>\n",
       "      <td>517</td>\n",
       "    </tr>\n",
       "    <tr>\n",
       "      <th>Web Form</th>\n",
       "      <td>8463</td>\n",
       "    </tr>\n",
       "  </tbody>\n",
       "</table>\n",
       "</div>"
      ],
      "text/plain": [
       "                                   2017\n",
       "Lead_Source                            \n",
       "Admission Conversion                 33\n",
       "College Fair                      10052\n",
       "College Visit                        10\n",
       "Education Fair                       10\n",
       "Email                               204\n",
       "Event Registration                 9186\n",
       "Financial Aid                       129\n",
       "Group Tour                            4\n",
       "High School Visit                  3833\n",
       "Initiated Application               967\n",
       "International Travel                248\n",
       "Lead Card                           347\n",
       "Legacy Admission Alumni Form          5\n",
       "Legacy Admission Student Form         4\n",
       "Office Visit                        162\n",
       "Other                              2938\n",
       "Phone                                33\n",
       "Purchased List                    49103\n",
       "Royal Short Mailing List Form        44\n",
       "Submitted Test Score              16911\n",
       "Submitted Transcript                  3\n",
       "UGrad Campus Visit Check-in Form    517\n",
       "Web Form                           8463"
      ]
     },
     "execution_count": 105,
     "metadata": {},
     "output_type": "execute_result"
    }
   ],
   "source": [
    "#LeadSource Counts for AdmitTerm 2017 that occured in 2016\n",
    "LEAD17 = YoY2017.pivot_table(index=['Lead_Source'],values =['Contact_ID'],aggfunc =len)\n",
    "LEAD17.rename(index= str, columns={'Contact_ID':'2017'},inplace =True)\n",
    "LEAD17"
   ]
  },
  {
   "cell_type": "code",
   "execution_count": 106,
   "metadata": {},
   "outputs": [
    {
     "data": {
      "text/html": [
       "<div>\n",
       "<style scoped>\n",
       "    .dataframe tbody tr th:only-of-type {\n",
       "        vertical-align: middle;\n",
       "    }\n",
       "\n",
       "    .dataframe tbody tr th {\n",
       "        vertical-align: top;\n",
       "    }\n",
       "\n",
       "    .dataframe thead th {\n",
       "        text-align: right;\n",
       "    }\n",
       "</style>\n",
       "<table border=\"1\" class=\"dataframe\">\n",
       "  <thead>\n",
       "    <tr style=\"text-align: right;\">\n",
       "      <th></th>\n",
       "      <th>2018</th>\n",
       "    </tr>\n",
       "    <tr>\n",
       "      <th>Lead_Source</th>\n",
       "      <th></th>\n",
       "    </tr>\n",
       "  </thead>\n",
       "  <tbody>\n",
       "    <tr>\n",
       "      <th>Admission Conversion</th>\n",
       "      <td>83</td>\n",
       "    </tr>\n",
       "    <tr>\n",
       "      <th>College Fair</th>\n",
       "      <td>10261</td>\n",
       "    </tr>\n",
       "    <tr>\n",
       "      <th>College Visit</th>\n",
       "      <td>29</td>\n",
       "    </tr>\n",
       "    <tr>\n",
       "      <th>Education Fair</th>\n",
       "      <td>7</td>\n",
       "    </tr>\n",
       "    <tr>\n",
       "      <th>Email</th>\n",
       "      <td>85</td>\n",
       "    </tr>\n",
       "    <tr>\n",
       "      <th>Event Registration</th>\n",
       "      <td>10121</td>\n",
       "    </tr>\n",
       "    <tr>\n",
       "      <th>Financial Aid</th>\n",
       "      <td>28</td>\n",
       "    </tr>\n",
       "    <tr>\n",
       "      <th>Group Tour</th>\n",
       "      <td>399</td>\n",
       "    </tr>\n",
       "    <tr>\n",
       "      <th>High School Visit</th>\n",
       "      <td>3422</td>\n",
       "    </tr>\n",
       "    <tr>\n",
       "      <th>Initiated Application</th>\n",
       "      <td>536</td>\n",
       "    </tr>\n",
       "    <tr>\n",
       "      <th>International Travel</th>\n",
       "      <td>44</td>\n",
       "    </tr>\n",
       "    <tr>\n",
       "      <th>Lead Card</th>\n",
       "      <td>242</td>\n",
       "    </tr>\n",
       "    <tr>\n",
       "      <th>Legacy Admission Student Form</th>\n",
       "      <td>1</td>\n",
       "    </tr>\n",
       "    <tr>\n",
       "      <th>Office Visit</th>\n",
       "      <td>176</td>\n",
       "    </tr>\n",
       "    <tr>\n",
       "      <th>Other</th>\n",
       "      <td>412</td>\n",
       "    </tr>\n",
       "    <tr>\n",
       "      <th>Phone</th>\n",
       "      <td>4</td>\n",
       "    </tr>\n",
       "    <tr>\n",
       "      <th>Purchased List</th>\n",
       "      <td>29680</td>\n",
       "    </tr>\n",
       "    <tr>\n",
       "      <th>Royal Short Mailing List Form</th>\n",
       "      <td>3</td>\n",
       "    </tr>\n",
       "    <tr>\n",
       "      <th>Search Responder</th>\n",
       "      <td>317</td>\n",
       "    </tr>\n",
       "    <tr>\n",
       "      <th>Submitted Test Score</th>\n",
       "      <td>12808</td>\n",
       "    </tr>\n",
       "    <tr>\n",
       "      <th>Submitted Transcript</th>\n",
       "      <td>1</td>\n",
       "    </tr>\n",
       "    <tr>\n",
       "      <th>UGrad Campus Visit Check-in Form</th>\n",
       "      <td>107</td>\n",
       "    </tr>\n",
       "    <tr>\n",
       "      <th>Virtual Tour</th>\n",
       "      <td>392</td>\n",
       "    </tr>\n",
       "    <tr>\n",
       "      <th>Web Form</th>\n",
       "      <td>7931</td>\n",
       "    </tr>\n",
       "  </tbody>\n",
       "</table>\n",
       "</div>"
      ],
      "text/plain": [
       "                                   2018\n",
       "Lead_Source                            \n",
       "Admission Conversion                 83\n",
       "College Fair                      10261\n",
       "College Visit                        29\n",
       "Education Fair                        7\n",
       "Email                                85\n",
       "Event Registration                10121\n",
       "Financial Aid                        28\n",
       "Group Tour                          399\n",
       "High School Visit                  3422\n",
       "Initiated Application               536\n",
       "International Travel                 44\n",
       "Lead Card                           242\n",
       "Legacy Admission Student Form         1\n",
       "Office Visit                        176\n",
       "Other                               412\n",
       "Phone                                 4\n",
       "Purchased List                    29680\n",
       "Royal Short Mailing List Form         3\n",
       "Search Responder                    317\n",
       "Submitted Test Score              12808\n",
       "Submitted Transcript                  1\n",
       "UGrad Campus Visit Check-in Form    107\n",
       "Virtual Tour                        392\n",
       "Web Form                           7931"
      ]
     },
     "execution_count": 106,
     "metadata": {},
     "output_type": "execute_result"
    }
   ],
   "source": [
    "#LeadSource Counts for AdmitTerm 2018 that occured in 2017\n",
    "LEAD18 = YoY2018.pivot_table(index=['Lead_Source'],values =['Contact_ID'],aggfunc =len)\n",
    "LEAD18.rename(index= str, columns={'Contact_ID':'2018'},inplace =True)\n",
    "LEAD18"
   ]
  },
  {
   "cell_type": "code",
   "execution_count": 107,
   "metadata": {},
   "outputs": [
    {
     "data": {
      "text/html": [
       "<div>\n",
       "<style scoped>\n",
       "    .dataframe tbody tr th:only-of-type {\n",
       "        vertical-align: middle;\n",
       "    }\n",
       "\n",
       "    .dataframe tbody tr th {\n",
       "        vertical-align: top;\n",
       "    }\n",
       "\n",
       "    .dataframe thead th {\n",
       "        text-align: right;\n",
       "    }\n",
       "</style>\n",
       "<table border=\"1\" class=\"dataframe\">\n",
       "  <thead>\n",
       "    <tr style=\"text-align: right;\">\n",
       "      <th></th>\n",
       "      <th>2019</th>\n",
       "    </tr>\n",
       "    <tr>\n",
       "      <th>Lead_Source</th>\n",
       "      <th></th>\n",
       "    </tr>\n",
       "  </thead>\n",
       "  <tbody>\n",
       "    <tr>\n",
       "      <th>Admission Conversion</th>\n",
       "      <td>2</td>\n",
       "    </tr>\n",
       "    <tr>\n",
       "      <th>College Fair</th>\n",
       "      <td>10001</td>\n",
       "    </tr>\n",
       "    <tr>\n",
       "      <th>College Visit</th>\n",
       "      <td>12</td>\n",
       "    </tr>\n",
       "    <tr>\n",
       "      <th>Education Fair</th>\n",
       "      <td>12</td>\n",
       "    </tr>\n",
       "    <tr>\n",
       "      <th>Email</th>\n",
       "      <td>31</td>\n",
       "    </tr>\n",
       "    <tr>\n",
       "      <th>Event Registration</th>\n",
       "      <td>11822</td>\n",
       "    </tr>\n",
       "    <tr>\n",
       "      <th>Financial Aid</th>\n",
       "      <td>2</td>\n",
       "    </tr>\n",
       "    <tr>\n",
       "      <th>Group Tour</th>\n",
       "      <td>462</td>\n",
       "    </tr>\n",
       "    <tr>\n",
       "      <th>High School Visit</th>\n",
       "      <td>2730</td>\n",
       "    </tr>\n",
       "    <tr>\n",
       "      <th>Initiated Application</th>\n",
       "      <td>21</td>\n",
       "    </tr>\n",
       "    <tr>\n",
       "      <th>International Travel</th>\n",
       "      <td>1</td>\n",
       "    </tr>\n",
       "    <tr>\n",
       "      <th>Lead Card</th>\n",
       "      <td>193</td>\n",
       "    </tr>\n",
       "    <tr>\n",
       "      <th>Office Visit</th>\n",
       "      <td>350</td>\n",
       "    </tr>\n",
       "    <tr>\n",
       "      <th>Other</th>\n",
       "      <td>17</td>\n",
       "    </tr>\n",
       "    <tr>\n",
       "      <th>Phone</th>\n",
       "      <td>2</td>\n",
       "    </tr>\n",
       "    <tr>\n",
       "      <th>Professional Association</th>\n",
       "      <td>1</td>\n",
       "    </tr>\n",
       "    <tr>\n",
       "      <th>Professional Conference</th>\n",
       "      <td>1</td>\n",
       "    </tr>\n",
       "    <tr>\n",
       "      <th>Purchased List</th>\n",
       "      <td>21929</td>\n",
       "    </tr>\n",
       "    <tr>\n",
       "      <th>Search Responder</th>\n",
       "      <td>8304</td>\n",
       "    </tr>\n",
       "    <tr>\n",
       "      <th>Submitted Test Score</th>\n",
       "      <td>16477</td>\n",
       "    </tr>\n",
       "    <tr>\n",
       "      <th>UGrad Campus Visit Check-in Form</th>\n",
       "      <td>10</td>\n",
       "    </tr>\n",
       "    <tr>\n",
       "      <th>Virtual</th>\n",
       "      <td>103</td>\n",
       "    </tr>\n",
       "    <tr>\n",
       "      <th>Virtual Tour</th>\n",
       "      <td>1054</td>\n",
       "    </tr>\n",
       "    <tr>\n",
       "      <th>Web Form</th>\n",
       "      <td>7820</td>\n",
       "    </tr>\n",
       "  </tbody>\n",
       "</table>\n",
       "</div>"
      ],
      "text/plain": [
       "                                   2019\n",
       "Lead_Source                            \n",
       "Admission Conversion                  2\n",
       "College Fair                      10001\n",
       "College Visit                        12\n",
       "Education Fair                       12\n",
       "Email                                31\n",
       "Event Registration                11822\n",
       "Financial Aid                         2\n",
       "Group Tour                          462\n",
       "High School Visit                  2730\n",
       "Initiated Application                21\n",
       "International Travel                  1\n",
       "Lead Card                           193\n",
       "Office Visit                        350\n",
       "Other                                17\n",
       "Phone                                 2\n",
       "Professional Association              1\n",
       "Professional Conference               1\n",
       "Purchased List                    21929\n",
       "Search Responder                   8304\n",
       "Submitted Test Score              16477\n",
       "UGrad Campus Visit Check-in Form     10\n",
       "Virtual                             103\n",
       "Virtual Tour                       1054\n",
       "Web Form                           7820"
      ]
     },
     "execution_count": 107,
     "metadata": {},
     "output_type": "execute_result"
    }
   ],
   "source": [
    "#LeadSource Counts for AdmitTerm 2019 that occured in 2018\n",
    "LEAD19 = YoY2019.pivot_table(index=['Lead_Source'],values =['Contact_ID'],aggfunc =len)\n",
    "LEAD19.rename(index= str, columns={'Contact_ID':'2019'},inplace =True)\n",
    "LEAD19"
   ]
  },
  {
   "cell_type": "code",
   "execution_count": 108,
   "metadata": {},
   "outputs": [
    {
     "data": {
      "text/html": [
       "<div>\n",
       "<style scoped>\n",
       "    .dataframe tbody tr th:only-of-type {\n",
       "        vertical-align: middle;\n",
       "    }\n",
       "\n",
       "    .dataframe tbody tr th {\n",
       "        vertical-align: top;\n",
       "    }\n",
       "\n",
       "    .dataframe thead th {\n",
       "        text-align: right;\n",
       "    }\n",
       "</style>\n",
       "<table border=\"1\" class=\"dataframe\">\n",
       "  <thead>\n",
       "    <tr style=\"text-align: right;\">\n",
       "      <th></th>\n",
       "      <th>2017</th>\n",
       "      <th>2018</th>\n",
       "    </tr>\n",
       "    <tr>\n",
       "      <th>Lead_Source</th>\n",
       "      <th></th>\n",
       "      <th></th>\n",
       "    </tr>\n",
       "  </thead>\n",
       "  <tbody>\n",
       "    <tr>\n",
       "      <th>Admission Conversion</th>\n",
       "      <td>33.0</td>\n",
       "      <td>83</td>\n",
       "    </tr>\n",
       "    <tr>\n",
       "      <th>College Fair</th>\n",
       "      <td>10052.0</td>\n",
       "      <td>10261</td>\n",
       "    </tr>\n",
       "    <tr>\n",
       "      <th>College Visit</th>\n",
       "      <td>10.0</td>\n",
       "      <td>29</td>\n",
       "    </tr>\n",
       "    <tr>\n",
       "      <th>Education Fair</th>\n",
       "      <td>10.0</td>\n",
       "      <td>7</td>\n",
       "    </tr>\n",
       "    <tr>\n",
       "      <th>Email</th>\n",
       "      <td>204.0</td>\n",
       "      <td>85</td>\n",
       "    </tr>\n",
       "    <tr>\n",
       "      <th>Event Registration</th>\n",
       "      <td>9186.0</td>\n",
       "      <td>10121</td>\n",
       "    </tr>\n",
       "    <tr>\n",
       "      <th>Financial Aid</th>\n",
       "      <td>129.0</td>\n",
       "      <td>28</td>\n",
       "    </tr>\n",
       "    <tr>\n",
       "      <th>Group Tour</th>\n",
       "      <td>4.0</td>\n",
       "      <td>399</td>\n",
       "    </tr>\n",
       "    <tr>\n",
       "      <th>High School Visit</th>\n",
       "      <td>3833.0</td>\n",
       "      <td>3422</td>\n",
       "    </tr>\n",
       "    <tr>\n",
       "      <th>Initiated Application</th>\n",
       "      <td>967.0</td>\n",
       "      <td>536</td>\n",
       "    </tr>\n",
       "    <tr>\n",
       "      <th>International Travel</th>\n",
       "      <td>248.0</td>\n",
       "      <td>44</td>\n",
       "    </tr>\n",
       "    <tr>\n",
       "      <th>Lead Card</th>\n",
       "      <td>347.0</td>\n",
       "      <td>242</td>\n",
       "    </tr>\n",
       "    <tr>\n",
       "      <th>Legacy Admission Student Form</th>\n",
       "      <td>4.0</td>\n",
       "      <td>1</td>\n",
       "    </tr>\n",
       "    <tr>\n",
       "      <th>Office Visit</th>\n",
       "      <td>162.0</td>\n",
       "      <td>176</td>\n",
       "    </tr>\n",
       "    <tr>\n",
       "      <th>Other</th>\n",
       "      <td>2938.0</td>\n",
       "      <td>412</td>\n",
       "    </tr>\n",
       "    <tr>\n",
       "      <th>Phone</th>\n",
       "      <td>33.0</td>\n",
       "      <td>4</td>\n",
       "    </tr>\n",
       "    <tr>\n",
       "      <th>Purchased List</th>\n",
       "      <td>49103.0</td>\n",
       "      <td>29680</td>\n",
       "    </tr>\n",
       "    <tr>\n",
       "      <th>Royal Short Mailing List Form</th>\n",
       "      <td>44.0</td>\n",
       "      <td>3</td>\n",
       "    </tr>\n",
       "    <tr>\n",
       "      <th>Search Responder</th>\n",
       "      <td>NaN</td>\n",
       "      <td>317</td>\n",
       "    </tr>\n",
       "    <tr>\n",
       "      <th>Submitted Test Score</th>\n",
       "      <td>16911.0</td>\n",
       "      <td>12808</td>\n",
       "    </tr>\n",
       "    <tr>\n",
       "      <th>Submitted Transcript</th>\n",
       "      <td>3.0</td>\n",
       "      <td>1</td>\n",
       "    </tr>\n",
       "    <tr>\n",
       "      <th>UGrad Campus Visit Check-in Form</th>\n",
       "      <td>517.0</td>\n",
       "      <td>107</td>\n",
       "    </tr>\n",
       "    <tr>\n",
       "      <th>Virtual Tour</th>\n",
       "      <td>NaN</td>\n",
       "      <td>392</td>\n",
       "    </tr>\n",
       "    <tr>\n",
       "      <th>Web Form</th>\n",
       "      <td>8463.0</td>\n",
       "      <td>7931</td>\n",
       "    </tr>\n",
       "  </tbody>\n",
       "</table>\n",
       "</div>"
      ],
      "text/plain": [
       "                                     2017   2018\n",
       "Lead_Source                                     \n",
       "Admission Conversion                 33.0     83\n",
       "College Fair                      10052.0  10261\n",
       "College Visit                        10.0     29\n",
       "Education Fair                       10.0      7\n",
       "Email                               204.0     85\n",
       "Event Registration                 9186.0  10121\n",
       "Financial Aid                       129.0     28\n",
       "Group Tour                            4.0    399\n",
       "High School Visit                  3833.0   3422\n",
       "Initiated Application               967.0    536\n",
       "International Travel                248.0     44\n",
       "Lead Card                           347.0    242\n",
       "Legacy Admission Student Form         4.0      1\n",
       "Office Visit                        162.0    176\n",
       "Other                              2938.0    412\n",
       "Phone                                33.0      4\n",
       "Purchased List                    49103.0  29680\n",
       "Royal Short Mailing List Form        44.0      3\n",
       "Search Responder                      NaN    317\n",
       "Submitted Test Score              16911.0  12808\n",
       "Submitted Transcript                  3.0      1\n",
       "UGrad Campus Visit Check-in Form    517.0    107\n",
       "Virtual Tour                          NaN    392\n",
       "Web Form                           8463.0   7931"
      ]
     },
     "execution_count": 108,
     "metadata": {},
     "output_type": "execute_result"
    }
   ],
   "source": [
    "LEAD1 = pd.concat([LEAD17, LEAD18], axis=1, join_axes=[LEAD18.index])\n",
    "LEAD1"
   ]
  },
  {
   "cell_type": "code",
   "execution_count": 109,
   "metadata": {},
   "outputs": [
    {
     "data": {
      "text/html": [
       "<div>\n",
       "<style scoped>\n",
       "    .dataframe tbody tr th:only-of-type {\n",
       "        vertical-align: middle;\n",
       "    }\n",
       "\n",
       "    .dataframe tbody tr th {\n",
       "        vertical-align: top;\n",
       "    }\n",
       "\n",
       "    .dataframe thead th {\n",
       "        text-align: right;\n",
       "    }\n",
       "</style>\n",
       "<table border=\"1\" class=\"dataframe\">\n",
       "  <thead>\n",
       "    <tr style=\"text-align: right;\">\n",
       "      <th></th>\n",
       "      <th>2017</th>\n",
       "      <th>2018</th>\n",
       "      <th>2019</th>\n",
       "    </tr>\n",
       "    <tr>\n",
       "      <th>Lead_Source</th>\n",
       "      <th></th>\n",
       "      <th></th>\n",
       "      <th></th>\n",
       "    </tr>\n",
       "  </thead>\n",
       "  <tbody>\n",
       "    <tr>\n",
       "      <th>Admission Conversion</th>\n",
       "      <td>33.0</td>\n",
       "      <td>83</td>\n",
       "      <td>2.0</td>\n",
       "    </tr>\n",
       "    <tr>\n",
       "      <th>College Fair</th>\n",
       "      <td>10052.0</td>\n",
       "      <td>10261</td>\n",
       "      <td>10001.0</td>\n",
       "    </tr>\n",
       "    <tr>\n",
       "      <th>College Visit</th>\n",
       "      <td>10.0</td>\n",
       "      <td>29</td>\n",
       "      <td>12.0</td>\n",
       "    </tr>\n",
       "    <tr>\n",
       "      <th>Education Fair</th>\n",
       "      <td>10.0</td>\n",
       "      <td>7</td>\n",
       "      <td>12.0</td>\n",
       "    </tr>\n",
       "    <tr>\n",
       "      <th>Email</th>\n",
       "      <td>204.0</td>\n",
       "      <td>85</td>\n",
       "      <td>31.0</td>\n",
       "    </tr>\n",
       "    <tr>\n",
       "      <th>Event Registration</th>\n",
       "      <td>9186.0</td>\n",
       "      <td>10121</td>\n",
       "      <td>11822.0</td>\n",
       "    </tr>\n",
       "    <tr>\n",
       "      <th>Financial Aid</th>\n",
       "      <td>129.0</td>\n",
       "      <td>28</td>\n",
       "      <td>2.0</td>\n",
       "    </tr>\n",
       "    <tr>\n",
       "      <th>Group Tour</th>\n",
       "      <td>4.0</td>\n",
       "      <td>399</td>\n",
       "      <td>462.0</td>\n",
       "    </tr>\n",
       "    <tr>\n",
       "      <th>High School Visit</th>\n",
       "      <td>3833.0</td>\n",
       "      <td>3422</td>\n",
       "      <td>2730.0</td>\n",
       "    </tr>\n",
       "    <tr>\n",
       "      <th>Initiated Application</th>\n",
       "      <td>967.0</td>\n",
       "      <td>536</td>\n",
       "      <td>21.0</td>\n",
       "    </tr>\n",
       "    <tr>\n",
       "      <th>International Travel</th>\n",
       "      <td>248.0</td>\n",
       "      <td>44</td>\n",
       "      <td>1.0</td>\n",
       "    </tr>\n",
       "    <tr>\n",
       "      <th>Lead Card</th>\n",
       "      <td>347.0</td>\n",
       "      <td>242</td>\n",
       "      <td>193.0</td>\n",
       "    </tr>\n",
       "    <tr>\n",
       "      <th>Legacy Admission Student Form</th>\n",
       "      <td>4.0</td>\n",
       "      <td>1</td>\n",
       "      <td>NaN</td>\n",
       "    </tr>\n",
       "    <tr>\n",
       "      <th>Office Visit</th>\n",
       "      <td>162.0</td>\n",
       "      <td>176</td>\n",
       "      <td>350.0</td>\n",
       "    </tr>\n",
       "    <tr>\n",
       "      <th>Other</th>\n",
       "      <td>2938.0</td>\n",
       "      <td>412</td>\n",
       "      <td>17.0</td>\n",
       "    </tr>\n",
       "    <tr>\n",
       "      <th>Phone</th>\n",
       "      <td>33.0</td>\n",
       "      <td>4</td>\n",
       "      <td>2.0</td>\n",
       "    </tr>\n",
       "    <tr>\n",
       "      <th>Purchased List</th>\n",
       "      <td>49103.0</td>\n",
       "      <td>29680</td>\n",
       "      <td>21929.0</td>\n",
       "    </tr>\n",
       "    <tr>\n",
       "      <th>Royal Short Mailing List Form</th>\n",
       "      <td>44.0</td>\n",
       "      <td>3</td>\n",
       "      <td>NaN</td>\n",
       "    </tr>\n",
       "    <tr>\n",
       "      <th>Search Responder</th>\n",
       "      <td>NaN</td>\n",
       "      <td>317</td>\n",
       "      <td>8304.0</td>\n",
       "    </tr>\n",
       "    <tr>\n",
       "      <th>Submitted Test Score</th>\n",
       "      <td>16911.0</td>\n",
       "      <td>12808</td>\n",
       "      <td>16477.0</td>\n",
       "    </tr>\n",
       "    <tr>\n",
       "      <th>Submitted Transcript</th>\n",
       "      <td>3.0</td>\n",
       "      <td>1</td>\n",
       "      <td>NaN</td>\n",
       "    </tr>\n",
       "    <tr>\n",
       "      <th>UGrad Campus Visit Check-in Form</th>\n",
       "      <td>517.0</td>\n",
       "      <td>107</td>\n",
       "      <td>10.0</td>\n",
       "    </tr>\n",
       "    <tr>\n",
       "      <th>Virtual Tour</th>\n",
       "      <td>NaN</td>\n",
       "      <td>392</td>\n",
       "      <td>1054.0</td>\n",
       "    </tr>\n",
       "    <tr>\n",
       "      <th>Web Form</th>\n",
       "      <td>8463.0</td>\n",
       "      <td>7931</td>\n",
       "      <td>7820.0</td>\n",
       "    </tr>\n",
       "  </tbody>\n",
       "</table>\n",
       "</div>"
      ],
      "text/plain": [
       "                                     2017   2018     2019\n",
       "Lead_Source                                              \n",
       "Admission Conversion                 33.0     83      2.0\n",
       "College Fair                      10052.0  10261  10001.0\n",
       "College Visit                        10.0     29     12.0\n",
       "Education Fair                       10.0      7     12.0\n",
       "Email                               204.0     85     31.0\n",
       "Event Registration                 9186.0  10121  11822.0\n",
       "Financial Aid                       129.0     28      2.0\n",
       "Group Tour                            4.0    399    462.0\n",
       "High School Visit                  3833.0   3422   2730.0\n",
       "Initiated Application               967.0    536     21.0\n",
       "International Travel                248.0     44      1.0\n",
       "Lead Card                           347.0    242    193.0\n",
       "Legacy Admission Student Form         4.0      1      NaN\n",
       "Office Visit                        162.0    176    350.0\n",
       "Other                              2938.0    412     17.0\n",
       "Phone                                33.0      4      2.0\n",
       "Purchased List                    49103.0  29680  21929.0\n",
       "Royal Short Mailing List Form        44.0      3      NaN\n",
       "Search Responder                      NaN    317   8304.0\n",
       "Submitted Test Score              16911.0  12808  16477.0\n",
       "Submitted Transcript                  3.0      1      NaN\n",
       "UGrad Campus Visit Check-in Form    517.0    107     10.0\n",
       "Virtual Tour                          NaN    392   1054.0\n",
       "Web Form                           8463.0   7931   7820.0"
      ]
     },
     "execution_count": 109,
     "metadata": {},
     "output_type": "execute_result"
    }
   ],
   "source": [
    "Lead2 = pd.concat([LEAD1, LEAD19], axis=1, join_axes=[LEAD18.index])\n",
    "Lead2"
   ]
  },
  {
   "cell_type": "code",
   "execution_count": 110,
   "metadata": {},
   "outputs": [
    {
     "data": {
      "text/html": [
       "<div>\n",
       "<style scoped>\n",
       "    .dataframe tbody tr th:only-of-type {\n",
       "        vertical-align: middle;\n",
       "    }\n",
       "\n",
       "    .dataframe tbody tr th {\n",
       "        vertical-align: top;\n",
       "    }\n",
       "\n",
       "    .dataframe thead th {\n",
       "        text-align: right;\n",
       "    }\n",
       "</style>\n",
       "<table border=\"1\" class=\"dataframe\">\n",
       "  <thead>\n",
       "    <tr style=\"text-align: right;\">\n",
       "      <th></th>\n",
       "      <th>2017</th>\n",
       "      <th>2018</th>\n",
       "      <th>2019</th>\n",
       "    </tr>\n",
       "    <tr>\n",
       "      <th>Lead_Source</th>\n",
       "      <th></th>\n",
       "      <th></th>\n",
       "      <th></th>\n",
       "    </tr>\n",
       "  </thead>\n",
       "  <tbody>\n",
       "    <tr>\n",
       "      <th>Admission Conversion</th>\n",
       "      <td>33.0</td>\n",
       "      <td>83</td>\n",
       "      <td>2</td>\n",
       "    </tr>\n",
       "    <tr>\n",
       "      <th>College Fair</th>\n",
       "      <td>10052.0</td>\n",
       "      <td>10261</td>\n",
       "      <td>10001</td>\n",
       "    </tr>\n",
       "    <tr>\n",
       "      <th>College Visit</th>\n",
       "      <td>10.0</td>\n",
       "      <td>29</td>\n",
       "      <td>12</td>\n",
       "    </tr>\n",
       "    <tr>\n",
       "      <th>Education Fair</th>\n",
       "      <td>10.0</td>\n",
       "      <td>7</td>\n",
       "      <td>12</td>\n",
       "    </tr>\n",
       "    <tr>\n",
       "      <th>Email</th>\n",
       "      <td>204.0</td>\n",
       "      <td>85</td>\n",
       "      <td>31</td>\n",
       "    </tr>\n",
       "    <tr>\n",
       "      <th>Event Registration</th>\n",
       "      <td>9186.0</td>\n",
       "      <td>10121</td>\n",
       "      <td>11822</td>\n",
       "    </tr>\n",
       "    <tr>\n",
       "      <th>Financial Aid</th>\n",
       "      <td>129.0</td>\n",
       "      <td>28</td>\n",
       "      <td>2</td>\n",
       "    </tr>\n",
       "    <tr>\n",
       "      <th>Group Tour</th>\n",
       "      <td>4.0</td>\n",
       "      <td>399</td>\n",
       "      <td>462</td>\n",
       "    </tr>\n",
       "    <tr>\n",
       "      <th>High School Visit</th>\n",
       "      <td>3833.0</td>\n",
       "      <td>3422</td>\n",
       "      <td>2730</td>\n",
       "    </tr>\n",
       "    <tr>\n",
       "      <th>Initiated Application</th>\n",
       "      <td>967.0</td>\n",
       "      <td>536</td>\n",
       "      <td>21</td>\n",
       "    </tr>\n",
       "    <tr>\n",
       "      <th>International Travel</th>\n",
       "      <td>248.0</td>\n",
       "      <td>44</td>\n",
       "      <td>1</td>\n",
       "    </tr>\n",
       "    <tr>\n",
       "      <th>Lead Card</th>\n",
       "      <td>347.0</td>\n",
       "      <td>242</td>\n",
       "      <td>193</td>\n",
       "    </tr>\n",
       "    <tr>\n",
       "      <th>Legacy Admission Student Form</th>\n",
       "      <td>4.0</td>\n",
       "      <td>1</td>\n",
       "      <td>0</td>\n",
       "    </tr>\n",
       "    <tr>\n",
       "      <th>Office Visit</th>\n",
       "      <td>162.0</td>\n",
       "      <td>176</td>\n",
       "      <td>350</td>\n",
       "    </tr>\n",
       "    <tr>\n",
       "      <th>Other</th>\n",
       "      <td>2938.0</td>\n",
       "      <td>412</td>\n",
       "      <td>17</td>\n",
       "    </tr>\n",
       "    <tr>\n",
       "      <th>Phone</th>\n",
       "      <td>33.0</td>\n",
       "      <td>4</td>\n",
       "      <td>2</td>\n",
       "    </tr>\n",
       "    <tr>\n",
       "      <th>Purchased List</th>\n",
       "      <td>49103.0</td>\n",
       "      <td>29680</td>\n",
       "      <td>21929</td>\n",
       "    </tr>\n",
       "    <tr>\n",
       "      <th>Royal Short Mailing List Form</th>\n",
       "      <td>44.0</td>\n",
       "      <td>3</td>\n",
       "      <td>0</td>\n",
       "    </tr>\n",
       "    <tr>\n",
       "      <th>Search Responder</th>\n",
       "      <td>0.0</td>\n",
       "      <td>317</td>\n",
       "      <td>8304</td>\n",
       "    </tr>\n",
       "    <tr>\n",
       "      <th>Submitted Test Score</th>\n",
       "      <td>16911.0</td>\n",
       "      <td>12808</td>\n",
       "      <td>16477</td>\n",
       "    </tr>\n",
       "    <tr>\n",
       "      <th>Submitted Transcript</th>\n",
       "      <td>3.0</td>\n",
       "      <td>1</td>\n",
       "      <td>0</td>\n",
       "    </tr>\n",
       "    <tr>\n",
       "      <th>UGrad Campus Visit Check-in Form</th>\n",
       "      <td>517.0</td>\n",
       "      <td>107</td>\n",
       "      <td>10</td>\n",
       "    </tr>\n",
       "    <tr>\n",
       "      <th>Virtual Tour</th>\n",
       "      <td>0.0</td>\n",
       "      <td>392</td>\n",
       "      <td>1054</td>\n",
       "    </tr>\n",
       "    <tr>\n",
       "      <th>Web Form</th>\n",
       "      <td>8463.0</td>\n",
       "      <td>7931</td>\n",
       "      <td>7820</td>\n",
       "    </tr>\n",
       "  </tbody>\n",
       "</table>\n",
       "</div>"
      ],
      "text/plain": [
       "                                     2017   2018   2019\n",
       "Lead_Source                                            \n",
       "Admission Conversion                 33.0     83      2\n",
       "College Fair                      10052.0  10261  10001\n",
       "College Visit                        10.0     29     12\n",
       "Education Fair                       10.0      7     12\n",
       "Email                               204.0     85     31\n",
       "Event Registration                 9186.0  10121  11822\n",
       "Financial Aid                       129.0     28      2\n",
       "Group Tour                            4.0    399    462\n",
       "High School Visit                  3833.0   3422   2730\n",
       "Initiated Application               967.0    536     21\n",
       "International Travel                248.0     44      1\n",
       "Lead Card                           347.0    242    193\n",
       "Legacy Admission Student Form         4.0      1      0\n",
       "Office Visit                        162.0    176    350\n",
       "Other                              2938.0    412     17\n",
       "Phone                                33.0      4      2\n",
       "Purchased List                    49103.0  29680  21929\n",
       "Royal Short Mailing List Form        44.0      3      0\n",
       "Search Responder                      0.0    317   8304\n",
       "Submitted Test Score              16911.0  12808  16477\n",
       "Submitted Transcript                  3.0      1      0\n",
       "UGrad Campus Visit Check-in Form    517.0    107     10\n",
       "Virtual Tour                          0.0    392   1054\n",
       "Web Form                           8463.0   7931   7820"
      ]
     },
     "execution_count": 110,
     "metadata": {},
     "output_type": "execute_result"
    }
   ],
   "source": [
    "LEAD = Lead2.fillna(0)\n",
    "LEAD['2018'] = LEAD['2018'].astype(int)\n",
    "LEAD['2019'] = LEAD['2019'].astype(int)\n",
    "LEAD"
   ]
  },
  {
   "cell_type": "code",
   "execution_count": 111,
   "metadata": {},
   "outputs": [],
   "source": [
    "#Count all Inq for the 2017 Admit term that occured before August of 2017  #Redundant???\n",
    "#B4AUG17 = TERM2017.loc[TERM2017.Create_Date <= tspriorAUG17,:]\n",
    "#len(B4AUG17)"
   ]
  },
  {
   "cell_type": "code",
   "execution_count": 112,
   "metadata": {},
   "outputs": [],
   "source": [
    "#Count all Inq for the 2018 Admit term that occured before August of 2018 #Redundant???\n",
    "#B4AUG18 = TERM2018.loc[TERM2018.Create_Date <= tspriorAUG18,:]\n",
    "#len(B4AUG18)"
   ]
  },
  {
   "cell_type": "code",
   "execution_count": 113,
   "metadata": {},
   "outputs": [],
   "source": [
    "# create the path where the results willbe sent\n",
    "path_final = r'C:/Users/mjc341/Desktop/EMSA-GIT/COLAB'\n",
    "#path_final = r'C:/Users/sxh706/Desktop'"
   ]
  },
  {
   "cell_type": "code",
   "execution_count": 101,
   "metadata": {},
   "outputs": [],
   "source": [
    "#path_final"
   ]
  },
  {
   "cell_type": "code",
   "execution_count": 114,
   "metadata": {},
   "outputs": [
    {
     "data": {
      "text/html": [
       "<div>\n",
       "<style scoped>\n",
       "    .dataframe tbody tr th:only-of-type {\n",
       "        vertical-align: middle;\n",
       "    }\n",
       "\n",
       "    .dataframe tbody tr th {\n",
       "        vertical-align: top;\n",
       "    }\n",
       "\n",
       "    .dataframe thead th {\n",
       "        text-align: right;\n",
       "    }\n",
       "</style>\n",
       "<table border=\"1\" class=\"dataframe\">\n",
       "  <thead>\n",
       "    <tr style=\"text-align: right;\">\n",
       "      <th></th>\n",
       "      <th>2017</th>\n",
       "    </tr>\n",
       "    <tr>\n",
       "      <th>IPEDS2</th>\n",
       "      <th></th>\n",
       "    </tr>\n",
       "  </thead>\n",
       "  <tbody>\n",
       "    <tr>\n",
       "      <th>American Indian/Alaska Native</th>\n",
       "      <td>246</td>\n",
       "    </tr>\n",
       "    <tr>\n",
       "      <th>Asian</th>\n",
       "      <td>6706</td>\n",
       "    </tr>\n",
       "    <tr>\n",
       "      <th>Black/African American</th>\n",
       "      <td>11289</td>\n",
       "    </tr>\n",
       "    <tr>\n",
       "      <th>Hispanic/Latino</th>\n",
       "      <td>8848</td>\n",
       "    </tr>\n",
       "    <tr>\n",
       "      <th>Native Hawaiian/Other Pacific Islander</th>\n",
       "      <td>29</td>\n",
       "    </tr>\n",
       "    <tr>\n",
       "      <th>Two or More Races</th>\n",
       "      <td>1680</td>\n",
       "    </tr>\n",
       "    <tr>\n",
       "      <th>Unknown</th>\n",
       "      <td>28964</td>\n",
       "    </tr>\n",
       "    <tr>\n",
       "      <th>White</th>\n",
       "      <td>45461</td>\n",
       "    </tr>\n",
       "  </tbody>\n",
       "</table>\n",
       "</div>"
      ],
      "text/plain": [
       "                                         2017\n",
       "IPEDS2                                       \n",
       "American Indian/Alaska Native             246\n",
       "Asian                                    6706\n",
       "Black/African American                  11289\n",
       "Hispanic/Latino                          8848\n",
       "Native Hawaiian/Other Pacific Islander     29\n",
       "Two or More Races                        1680\n",
       "Unknown                                 28964\n",
       "White                                   45461"
      ]
     },
     "execution_count": 114,
     "metadata": {},
     "output_type": "execute_result"
    }
   ],
   "source": [
    "#Ethnicity Counts for AdmitTerm 2017 that occured in 2016\n",
    "ETH17 = YoY2017.pivot_table(index=['IPEDS2'],values =['Contact_ID'],aggfunc =len)\n",
    "ETH17.rename(index= str, columns={'Contact_ID':'2017'},inplace =True)\n",
    "ETH17"
   ]
  },
  {
   "cell_type": "code",
   "execution_count": 115,
   "metadata": {},
   "outputs": [
    {
     "data": {
      "text/html": [
       "<div>\n",
       "<style scoped>\n",
       "    .dataframe tbody tr th:only-of-type {\n",
       "        vertical-align: middle;\n",
       "    }\n",
       "\n",
       "    .dataframe tbody tr th {\n",
       "        vertical-align: top;\n",
       "    }\n",
       "\n",
       "    .dataframe thead th {\n",
       "        text-align: right;\n",
       "    }\n",
       "</style>\n",
       "<table border=\"1\" class=\"dataframe\">\n",
       "  <thead>\n",
       "    <tr style=\"text-align: right;\">\n",
       "      <th></th>\n",
       "      <th>2018</th>\n",
       "    </tr>\n",
       "    <tr>\n",
       "      <th>IPEDS2</th>\n",
       "      <th></th>\n",
       "    </tr>\n",
       "  </thead>\n",
       "  <tbody>\n",
       "    <tr>\n",
       "      <th>American Indian/Alaska Native</th>\n",
       "      <td>166</td>\n",
       "    </tr>\n",
       "    <tr>\n",
       "      <th>Asian</th>\n",
       "      <td>4603</td>\n",
       "    </tr>\n",
       "    <tr>\n",
       "      <th>Black/African American</th>\n",
       "      <td>6473</td>\n",
       "    </tr>\n",
       "    <tr>\n",
       "      <th>Hispanic/Latino</th>\n",
       "      <td>6229</td>\n",
       "    </tr>\n",
       "    <tr>\n",
       "      <th>Native Hawaiian/Other Pacific Islander</th>\n",
       "      <td>31</td>\n",
       "    </tr>\n",
       "    <tr>\n",
       "      <th>Two or More Races</th>\n",
       "      <td>1492</td>\n",
       "    </tr>\n",
       "    <tr>\n",
       "      <th>Unknown</th>\n",
       "      <td>29132</td>\n",
       "    </tr>\n",
       "    <tr>\n",
       "      <th>White</th>\n",
       "      <td>28965</td>\n",
       "    </tr>\n",
       "  </tbody>\n",
       "</table>\n",
       "</div>"
      ],
      "text/plain": [
       "                                         2018\n",
       "IPEDS2                                       \n",
       "American Indian/Alaska Native             166\n",
       "Asian                                    4603\n",
       "Black/African American                   6473\n",
       "Hispanic/Latino                          6229\n",
       "Native Hawaiian/Other Pacific Islander     31\n",
       "Two or More Races                        1492\n",
       "Unknown                                 29132\n",
       "White                                   28965"
      ]
     },
     "execution_count": 115,
     "metadata": {},
     "output_type": "execute_result"
    }
   ],
   "source": [
    "#ETH Counts for AdmitTerm 2018 that occured in 2017\n",
    "ETH18 = YoY2018.pivot_table(index=['IPEDS2'],values =['Contact_ID'],aggfunc =len)\n",
    "ETH18.rename(index= str, columns={'Contact_ID':'2018'},inplace =True)\n",
    "ETH18"
   ]
  },
  {
   "cell_type": "code",
   "execution_count": 116,
   "metadata": {},
   "outputs": [
    {
     "data": {
      "text/html": [
       "<div>\n",
       "<style scoped>\n",
       "    .dataframe tbody tr th:only-of-type {\n",
       "        vertical-align: middle;\n",
       "    }\n",
       "\n",
       "    .dataframe tbody tr th {\n",
       "        vertical-align: top;\n",
       "    }\n",
       "\n",
       "    .dataframe thead th {\n",
       "        text-align: right;\n",
       "    }\n",
       "</style>\n",
       "<table border=\"1\" class=\"dataframe\">\n",
       "  <thead>\n",
       "    <tr style=\"text-align: right;\">\n",
       "      <th></th>\n",
       "      <th>2019</th>\n",
       "    </tr>\n",
       "    <tr>\n",
       "      <th>IPEDS2</th>\n",
       "      <th></th>\n",
       "    </tr>\n",
       "  </thead>\n",
       "  <tbody>\n",
       "    <tr>\n",
       "      <th>American Indian/Alaska Native</th>\n",
       "      <td>225</td>\n",
       "    </tr>\n",
       "    <tr>\n",
       "      <th>Asian</th>\n",
       "      <td>3597</td>\n",
       "    </tr>\n",
       "    <tr>\n",
       "      <th>Black/African American</th>\n",
       "      <td>5814</td>\n",
       "    </tr>\n",
       "    <tr>\n",
       "      <th>Hispanic/Latino</th>\n",
       "      <td>7030</td>\n",
       "    </tr>\n",
       "    <tr>\n",
       "      <th>Native Hawaiian/Other Pacific Islander</th>\n",
       "      <td>8</td>\n",
       "    </tr>\n",
       "    <tr>\n",
       "      <th>Two or More Races</th>\n",
       "      <td>2228</td>\n",
       "    </tr>\n",
       "    <tr>\n",
       "      <th>Unknown</th>\n",
       "      <td>36727</td>\n",
       "    </tr>\n",
       "    <tr>\n",
       "      <th>White</th>\n",
       "      <td>25728</td>\n",
       "    </tr>\n",
       "  </tbody>\n",
       "</table>\n",
       "</div>"
      ],
      "text/plain": [
       "                                         2019\n",
       "IPEDS2                                       \n",
       "American Indian/Alaska Native             225\n",
       "Asian                                    3597\n",
       "Black/African American                   5814\n",
       "Hispanic/Latino                          7030\n",
       "Native Hawaiian/Other Pacific Islander      8\n",
       "Two or More Races                        2228\n",
       "Unknown                                 36727\n",
       "White                                   25728"
      ]
     },
     "execution_count": 116,
     "metadata": {},
     "output_type": "execute_result"
    }
   ],
   "source": [
    "#Ethnicity Counts for AdmitTerm 2019 that occured in 2018\n",
    "ETH19 = YoY2019.pivot_table(index=['IPEDS2'],values =['Contact_ID'],aggfunc =len)\n",
    "ETH19.rename(index= str, columns={'Contact_ID':'2019'},inplace =True)\n",
    "ETH19"
   ]
  },
  {
   "cell_type": "code",
   "execution_count": 117,
   "metadata": {},
   "outputs": [
    {
     "data": {
      "text/html": [
       "<div>\n",
       "<style scoped>\n",
       "    .dataframe tbody tr th:only-of-type {\n",
       "        vertical-align: middle;\n",
       "    }\n",
       "\n",
       "    .dataframe tbody tr th {\n",
       "        vertical-align: top;\n",
       "    }\n",
       "\n",
       "    .dataframe thead th {\n",
       "        text-align: right;\n",
       "    }\n",
       "</style>\n",
       "<table border=\"1\" class=\"dataframe\">\n",
       "  <thead>\n",
       "    <tr style=\"text-align: right;\">\n",
       "      <th></th>\n",
       "      <th>2017</th>\n",
       "      <th>2018</th>\n",
       "      <th>2019</th>\n",
       "    </tr>\n",
       "    <tr>\n",
       "      <th>IPEDS2</th>\n",
       "      <th></th>\n",
       "      <th></th>\n",
       "      <th></th>\n",
       "    </tr>\n",
       "  </thead>\n",
       "  <tbody>\n",
       "    <tr>\n",
       "      <th>American Indian/Alaska Native</th>\n",
       "      <td>246</td>\n",
       "      <td>166</td>\n",
       "      <td>225</td>\n",
       "    </tr>\n",
       "    <tr>\n",
       "      <th>Asian</th>\n",
       "      <td>6706</td>\n",
       "      <td>4603</td>\n",
       "      <td>3597</td>\n",
       "    </tr>\n",
       "    <tr>\n",
       "      <th>Black/African American</th>\n",
       "      <td>11289</td>\n",
       "      <td>6473</td>\n",
       "      <td>5814</td>\n",
       "    </tr>\n",
       "    <tr>\n",
       "      <th>Hispanic/Latino</th>\n",
       "      <td>8848</td>\n",
       "      <td>6229</td>\n",
       "      <td>7030</td>\n",
       "    </tr>\n",
       "    <tr>\n",
       "      <th>Native Hawaiian/Other Pacific Islander</th>\n",
       "      <td>29</td>\n",
       "      <td>31</td>\n",
       "      <td>8</td>\n",
       "    </tr>\n",
       "    <tr>\n",
       "      <th>Two or More Races</th>\n",
       "      <td>1680</td>\n",
       "      <td>1492</td>\n",
       "      <td>2228</td>\n",
       "    </tr>\n",
       "    <tr>\n",
       "      <th>Unknown</th>\n",
       "      <td>28964</td>\n",
       "      <td>29132</td>\n",
       "      <td>36727</td>\n",
       "    </tr>\n",
       "    <tr>\n",
       "      <th>White</th>\n",
       "      <td>45461</td>\n",
       "      <td>28965</td>\n",
       "      <td>25728</td>\n",
       "    </tr>\n",
       "  </tbody>\n",
       "</table>\n",
       "</div>"
      ],
      "text/plain": [
       "                                         2017   2018   2019\n",
       "IPEDS2                                                     \n",
       "American Indian/Alaska Native             246    166    225\n",
       "Asian                                    6706   4603   3597\n",
       "Black/African American                  11289   6473   5814\n",
       "Hispanic/Latino                          8848   6229   7030\n",
       "Native Hawaiian/Other Pacific Islander     29     31      8\n",
       "Two or More Races                        1680   1492   2228\n",
       "Unknown                                 28964  29132  36727\n",
       "White                                   45461  28965  25728"
      ]
     },
     "execution_count": 117,
     "metadata": {},
     "output_type": "execute_result"
    }
   ],
   "source": [
    "ETH1 = pd.concat([ETH17, ETH18], axis=1, join_axes=[ETH18.index])\n",
    "ETH2 = pd.concat([ETH1, ETH19], axis=1, join_axes=[ETH18.index])\n",
    "ETH2"
   ]
  },
  {
   "cell_type": "code",
   "execution_count": 120,
   "metadata": {},
   "outputs": [
    {
     "name": "stdout",
     "output_type": "stream",
     "text": [
      "<class 'pandas.core.frame.DataFrame'>\n",
      "Index: 8 entries, American Indian/Alaska Native to White\n",
      "Data columns (total 3 columns):\n",
      "2017    8 non-null int64\n",
      "2018    8 non-null int64\n",
      "2019    8 non-null int64\n",
      "dtypes: int64(3)\n",
      "memory usage: 256.0+ bytes\n"
     ]
    }
   ],
   "source": [
    "ETH2.info()"
   ]
  },
  {
   "cell_type": "code",
   "execution_count": 122,
   "metadata": {},
   "outputs": [],
   "source": [
    "writer = pd.ExcelWriter(path_final + '/' + 'SalesForceByMonth1' + '.xlsx')\n",
    "INQbyMONTH.to_excel(writer,'Results')\n",
    "PRIOR.to_excel(writer, 'PRIOR')\n",
    "PRIOR2.to_excel(writer, 'PRIOR2')\n",
    "PRIOR3.to_excel(writer, 'PRIOR3')\n",
    "TOTAL4.to_excel(writer, 'TOTAL4')\n",
    "LEAD.to_excel(writer,'LEAD')\n",
    "ETH2.to_excel(writer,'ETH2')\n",
    "\n",
    "\n",
    "workbook = writer.book\n",
    "worksheet = writer.sheets['Results'] \n",
    "worksheet2 = writer.sheets ['PRIOR']\n",
    "worksheet3 = writer.sheets ['PRIOR2']\n",
    "worksheet4 = writer.sheets ['PRIOR3']\n",
    "worksheet5 = writer.sheets ['TOTAL4']\n",
    "worksheet6 = writer.sheets ['LEAD']\n",
    "worksheet7 = writer.sheets ['ETH2']\n",
    "\n",
    "format1 = workbook.add_format({'num_format': '#,##', 'bold': True, 'border': '1'})\n",
    "format2 = workbook.add_format({'num_format': '##,###', 'border': '1','bg_color':'#FFC7CE'})\n",
    "format3 = workbook.add_format({'border': '1','bg_color':'#DAF7A6'})\n",
    "format4 = workbook.add_format({'border': '1','bg_color':'#DAF7A6'})\n",
    "#added bkground color so we can show different years\n",
    "\n",
    "# Note: It isn't possible to format any cells that already have a format such\n",
    "# as the index or headers or any cells that contain dates or datetimes.\n",
    "\n",
    "worksheet.set_column('A:A', 10)\n",
    "worksheet.set_column('B:E', 12)\n",
    "worksheet.set_row(1, None, format2)\n",
    "worksheet.set_row(2, None, format2)\n",
    "worksheet.set_row(3, None, format2)\n",
    "worksheet.set_row(4, None, format2)\n",
    "worksheet.set_row(5, None, format2)\n",
    "worksheet.set_row(6, None, format2)\n",
    "worksheet.set_row(7, None, format2)\n",
    "worksheet.set_row(8, None, format2)\n",
    "worksheet.set_row(9, None, format2)\n",
    "worksheet.set_row(10, None, format2)\n",
    "worksheet.set_row(11, None, format2)\n",
    "worksheet.set_row(12, None, format2)\n",
    "\n",
    "worksheet2.set_column('A:A', 10)\n",
    "worksheet2.set_column('B:E', 18)\n",
    "worksheet2.set_row(1, None, format3)\n",
    "worksheet2.set_row(2, None, format4)\n",
    "\n",
    "worksheet3.set_column('A:A', 10)\n",
    "worksheet3.set_column('B:C', 18)\n",
    "worksheet3.set_row(1, None, format3)\n",
    "worksheet3.set_row(2, None, format4)\n",
    "\n",
    "worksheet4.set_column('A:A', 10)\n",
    "worksheet4.set_column('B:C', 18)\n",
    "worksheet4.set_row(1, None, format3)\n",
    "worksheet4.set_row(2, None, format4)\n",
    "\n",
    "worksheet5.set_column('A:A', 10)\n",
    "worksheet5.set_column('B:E', 18)\n",
    "worksheet5.set_row(1, None, format3)\n",
    "worksheet5.set_row(2, None, format4)\n",
    "\n",
    "worksheet6.set_column('A:A', 10)\n",
    "worksheet6.set_column('B:E', 18)\n",
    "worksheet6.set_row(1, None, format3)\n",
    "worksheet6.set_row(2, None, format4)\n",
    "worksheet6.set_row(3, None, format4)\n",
    "worksheet6.set_row(4, None, format4)\n",
    "worksheet6.set_row(5, None, format4)\n",
    "worksheet6.set_row(6, None, format4)\n",
    "worksheet6.set_row(7, None, format4)\n",
    "worksheet6.set_row(8, None, format4)\n",
    "worksheet6.set_row(9, None, format4)\n",
    "worksheet6.set_row(10, None, format4)\n",
    "worksheet6.set_row(11, None, format4)\n",
    "worksheet6.set_row(12, None, format4)\n",
    "worksheet6.set_row(13, None, format4)\n",
    "worksheet6.set_row(14, None, format4)\n",
    "worksheet6.set_row(15, None, format4)\n",
    "worksheet6.set_row(16, None, format4)\n",
    "worksheet6.set_row(17, None, format4)\n",
    "worksheet6.set_row(18, None, format4)\n",
    "worksheet6.set_row(19, None, format4)\n",
    "worksheet6.set_row(20, None, format4)\n",
    "\n",
    "worksheet7.set_column('A:A', 10)\n",
    "worksheet7.set_column('B:E', 18)\n",
    "worksheet7.set_row(1, None, format3)\n",
    "worksheet7.set_row(2, None, format4)\n",
    "worksheet7.set_row(3, None, format4)\n",
    "worksheet7.set_row(4, None, format4)\n",
    "worksheet7.set_row(5, None, format4)\n",
    "worksheet7.set_row(6, None, format4)\n",
    "worksheet7.set_row(7, None, format4)\n",
    "worksheet7.set_row(8, None, format4)\n",
    "worksheet7.set_row(9, None, format4)\n",
    "\n",
    "#dont write until you check the code then remove the # below\n",
    "#writer.save()"
   ]
  },
  {
   "cell_type": "code",
   "execution_count": null,
   "metadata": {},
   "outputs": [],
   "source": []
  }
 ],
 "metadata": {
  "kernelspec": {
   "display_name": "Python 3",
   "language": "python",
   "name": "python3"
  },
  "language_info": {
   "codemirror_mode": {
    "name": "ipython",
    "version": 3
   },
   "file_extension": ".py",
   "mimetype": "text/x-python",
   "name": "python",
   "nbconvert_exporter": "python",
   "pygments_lexer": "ipython3",
   "version": "3.6.5"
  }
 },
 "nbformat": 4,
 "nbformat_minor": 2
}
